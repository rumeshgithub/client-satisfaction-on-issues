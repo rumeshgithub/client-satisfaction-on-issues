{
  "nbformat": 4,
  "nbformat_minor": 0,
  "metadata": {
    "colab": {
      "name": "Client_Satisfaction_Prediction_When_Project_Issue_Occured.ipynb",
      "provenance": [],
      "collapsed_sections": []
    },
    "kernelspec": {
      "display_name": "Python 3",
      "name": "python3"
    },
    "language_info": {
      "name": "python"
    }
  },
  "cells": [
    {
      "cell_type": "markdown",
      "metadata": {
        "id": "JLazKvJ9oRsw"
      },
      "source": [
        "# Exploratory Data Analysis"
      ]
    },
    {
      "cell_type": "code",
      "metadata": {
        "colab": {
          "base_uri": "https://localhost:8080/"
        },
        "id": "581O0igWobPV",
        "outputId": "054e0f34-99b9-4878-cad7-d5f84db5b929"
      },
      "source": [
        "from google.colab import drive\n",
        "drive.mount('/content/gdrive')"
      ],
      "execution_count": null,
      "outputs": [
        {
          "output_type": "stream",
          "name": "stdout",
          "text": [
            "Drive already mounted at /content/gdrive; to attempt to forcibly remount, call drive.mount(\"/content/gdrive\", force_remount=True).\n"
          ]
        }
      ]
    },
    {
      "cell_type": "code",
      "metadata": {
        "colab": {
          "base_uri": "https://localhost:8080/",
          "height": 553
        },
        "id": "P6OmgwFSo5wo",
        "outputId": "52380b14-b11a-4c6f-8ae9-53fcf2e37309"
      },
      "source": [
        "import pandas as pd\n",
        "\n",
        "# load the dataset\n",
        "df = pd.read_csv('/content/gdrive/My Drive/Issue Analysis/AllProjectIssuesSpentTime.csv')\n",
        "df.head(10)"
      ],
      "execution_count": null,
      "outputs": [
        {
          "output_type": "execute_result",
          "data": {
            "text/html": [
              "<div>\n",
              "<style scoped>\n",
              "    .dataframe tbody tr th:only-of-type {\n",
              "        vertical-align: middle;\n",
              "    }\n",
              "\n",
              "    .dataframe tbody tr th {\n",
              "        vertical-align: top;\n",
              "    }\n",
              "\n",
              "    .dataframe thead th {\n",
              "        text-align: right;\n",
              "    }\n",
              "</style>\n",
              "<table border=\"1\" class=\"dataframe\">\n",
              "  <thead>\n",
              "    <tr style=\"text-align: right;\">\n",
              "      <th></th>\n",
              "      <th>Priority</th>\n",
              "      <th>Status</th>\n",
              "      <th>Created</th>\n",
              "      <th>Resolution</th>\n",
              "      <th>Updated</th>\n",
              "      <th>Time Spent</th>\n",
              "      <th>Σ Time Spent</th>\n",
              "      <th>Issue Category and Classification</th>\n",
              "      <th>Status Category Changed</th>\n",
              "      <th>[CHART] Date of First Response</th>\n",
              "      <th>Σ Hours Spent for Issues</th>\n",
              "      <th>Σ Days Spent for Issues</th>\n",
              "      <th>Estimated Time Hours</th>\n",
              "      <th>Estimated Time Days</th>\n",
              "      <th>Estimated Hours</th>\n",
              "      <th>Satisfaction</th>\n",
              "      <th>Project Name</th>\n",
              "    </tr>\n",
              "  </thead>\n",
              "  <tbody>\n",
              "    <tr>\n",
              "      <th>0</th>\n",
              "      <td>Medium</td>\n",
              "      <td>Open</td>\n",
              "      <td>9/10/2021 14:36</td>\n",
              "      <td>NaN</td>\n",
              "      <td>9/10/2021 14:36</td>\n",
              "      <td>NaN</td>\n",
              "      <td>NaN</td>\n",
              "      <td>NaN</td>\n",
              "      <td>9/10/2021 14:36</td>\n",
              "      <td>NaN</td>\n",
              "      <td>0.0</td>\n",
              "      <td>0.0</td>\n",
              "      <td>6.0</td>\n",
              "      <td>0.75</td>\n",
              "      <td>6.0</td>\n",
              "      <td>Satsfied</td>\n",
              "      <td>UIMA</td>\n",
              "    </tr>\n",
              "    <tr>\n",
              "      <th>1</th>\n",
              "      <td>Medium</td>\n",
              "      <td>Open</td>\n",
              "      <td>9/10/2021 14:17</td>\n",
              "      <td>NaN</td>\n",
              "      <td>9/10/2021 14:17</td>\n",
              "      <td>NaN</td>\n",
              "      <td>NaN</td>\n",
              "      <td>NaN</td>\n",
              "      <td>9/10/2021 14:17</td>\n",
              "      <td>NaN</td>\n",
              "      <td>0.0</td>\n",
              "      <td>0.0</td>\n",
              "      <td>6.0</td>\n",
              "      <td>0.75</td>\n",
              "      <td>6.0</td>\n",
              "      <td>Satsfied</td>\n",
              "      <td>UIMA</td>\n",
              "    </tr>\n",
              "    <tr>\n",
              "      <th>2</th>\n",
              "      <td>Medium</td>\n",
              "      <td>Open</td>\n",
              "      <td>9/10/2021 13:57</td>\n",
              "      <td>NaN</td>\n",
              "      <td>9/10/2021 14:02</td>\n",
              "      <td>NaN</td>\n",
              "      <td>NaN</td>\n",
              "      <td>NaN</td>\n",
              "      <td>9/10/2021 13:57</td>\n",
              "      <td>NaN</td>\n",
              "      <td>0.0</td>\n",
              "      <td>0.0</td>\n",
              "      <td>6.0</td>\n",
              "      <td>0.75</td>\n",
              "      <td>6.0</td>\n",
              "      <td>Satsfied</td>\n",
              "      <td>UIMA</td>\n",
              "    </tr>\n",
              "    <tr>\n",
              "      <th>3</th>\n",
              "      <td>Medium</td>\n",
              "      <td>Open</td>\n",
              "      <td>9/10/2021 13:51</td>\n",
              "      <td>NaN</td>\n",
              "      <td>9/10/2021 14:03</td>\n",
              "      <td>NaN</td>\n",
              "      <td>NaN</td>\n",
              "      <td>NaN</td>\n",
              "      <td>9/10/2021 13:51</td>\n",
              "      <td>NaN</td>\n",
              "      <td>0.0</td>\n",
              "      <td>0.0</td>\n",
              "      <td>6.0</td>\n",
              "      <td>0.75</td>\n",
              "      <td>6.0</td>\n",
              "      <td>Satsfied</td>\n",
              "      <td>UIMA</td>\n",
              "    </tr>\n",
              "    <tr>\n",
              "      <th>4</th>\n",
              "      <td>Medium</td>\n",
              "      <td>Open</td>\n",
              "      <td>9/10/2021 13:49</td>\n",
              "      <td>NaN</td>\n",
              "      <td>9/10/2021 14:04</td>\n",
              "      <td>NaN</td>\n",
              "      <td>NaN</td>\n",
              "      <td>NaN</td>\n",
              "      <td>9/10/2021 13:49</td>\n",
              "      <td>NaN</td>\n",
              "      <td>0.0</td>\n",
              "      <td>0.0</td>\n",
              "      <td>6.0</td>\n",
              "      <td>0.75</td>\n",
              "      <td>6.0</td>\n",
              "      <td>Satsfied</td>\n",
              "      <td>UIMA</td>\n",
              "    </tr>\n",
              "    <tr>\n",
              "      <th>5</th>\n",
              "      <td>Medium</td>\n",
              "      <td>Open</td>\n",
              "      <td>9/10/2021 13:26</td>\n",
              "      <td>NaN</td>\n",
              "      <td>9/10/2021 13:26</td>\n",
              "      <td>NaN</td>\n",
              "      <td>NaN</td>\n",
              "      <td>NaN</td>\n",
              "      <td>9/10/2021 13:26</td>\n",
              "      <td>NaN</td>\n",
              "      <td>0.0</td>\n",
              "      <td>0.0</td>\n",
              "      <td>6.0</td>\n",
              "      <td>0.75</td>\n",
              "      <td>6.0</td>\n",
              "      <td>Satsfied</td>\n",
              "      <td>Beam</td>\n",
              "    </tr>\n",
              "    <tr>\n",
              "      <th>6</th>\n",
              "      <td>Medium</td>\n",
              "      <td>Open</td>\n",
              "      <td>9/10/2021 13:24</td>\n",
              "      <td>NaN</td>\n",
              "      <td>9/10/2021 13:26</td>\n",
              "      <td>NaN</td>\n",
              "      <td>NaN</td>\n",
              "      <td>NaN</td>\n",
              "      <td>9/10/2021 13:24</td>\n",
              "      <td>NaN</td>\n",
              "      <td>0.0</td>\n",
              "      <td>0.0</td>\n",
              "      <td>6.0</td>\n",
              "      <td>0.75</td>\n",
              "      <td>6.0</td>\n",
              "      <td>Satsfied</td>\n",
              "      <td>Mesos</td>\n",
              "    </tr>\n",
              "    <tr>\n",
              "      <th>7</th>\n",
              "      <td>Critical</td>\n",
              "      <td>Open</td>\n",
              "      <td>9/10/2021 10:58</td>\n",
              "      <td>NaN</td>\n",
              "      <td>9/10/2021 10:58</td>\n",
              "      <td>NaN</td>\n",
              "      <td>NaN</td>\n",
              "      <td>NaN</td>\n",
              "      <td>9/10/2021 10:58</td>\n",
              "      <td>NaN</td>\n",
              "      <td>0.0</td>\n",
              "      <td>0.0</td>\n",
              "      <td>4.0</td>\n",
              "      <td>0.50</td>\n",
              "      <td>4.0</td>\n",
              "      <td>Satsfied</td>\n",
              "      <td>Beam</td>\n",
              "    </tr>\n",
              "    <tr>\n",
              "      <th>8</th>\n",
              "      <td>Low</td>\n",
              "      <td>Open</td>\n",
              "      <td>9/10/2021 10:53</td>\n",
              "      <td>NaN</td>\n",
              "      <td>9/10/2021 11:41</td>\n",
              "      <td>NaN</td>\n",
              "      <td>NaN</td>\n",
              "      <td>NaN</td>\n",
              "      <td>9/10/2021 10:53</td>\n",
              "      <td>NaN</td>\n",
              "      <td>0.0</td>\n",
              "      <td>0.0</td>\n",
              "      <td>8.0</td>\n",
              "      <td>1.00</td>\n",
              "      <td>8.0</td>\n",
              "      <td>Satsfied</td>\n",
              "      <td>Mesos</td>\n",
              "    </tr>\n",
              "    <tr>\n",
              "      <th>9</th>\n",
              "      <td>Medium</td>\n",
              "      <td>Open</td>\n",
              "      <td>9/10/2021 10:18</td>\n",
              "      <td>NaN</td>\n",
              "      <td>9/10/2021 10:18</td>\n",
              "      <td>NaN</td>\n",
              "      <td>NaN</td>\n",
              "      <td>NaN</td>\n",
              "      <td>9/10/2021 10:18</td>\n",
              "      <td>NaN</td>\n",
              "      <td>0.0</td>\n",
              "      <td>0.0</td>\n",
              "      <td>6.0</td>\n",
              "      <td>0.75</td>\n",
              "      <td>6.0</td>\n",
              "      <td>Satsfied</td>\n",
              "      <td>UIMA</td>\n",
              "    </tr>\n",
              "  </tbody>\n",
              "</table>\n",
              "</div>"
            ],
            "text/plain": [
              "   Priority Status          Created  ... Estimated Hours Satisfaction  Project Name\n",
              "0    Medium   Open  9/10/2021 14:36  ...             6.0     Satsfied          UIMA\n",
              "1    Medium   Open  9/10/2021 14:17  ...             6.0     Satsfied          UIMA\n",
              "2    Medium   Open  9/10/2021 13:57  ...             6.0     Satsfied          UIMA\n",
              "3    Medium   Open  9/10/2021 13:51  ...             6.0     Satsfied          UIMA\n",
              "4    Medium   Open  9/10/2021 13:49  ...             6.0     Satsfied          UIMA\n",
              "5    Medium   Open  9/10/2021 13:26  ...             6.0     Satsfied          Beam\n",
              "6    Medium   Open  9/10/2021 13:24  ...             6.0     Satsfied         Mesos\n",
              "7  Critical   Open  9/10/2021 10:58  ...             4.0     Satsfied          Beam\n",
              "8       Low   Open  9/10/2021 10:53  ...             8.0     Satsfied         Mesos\n",
              "9    Medium   Open  9/10/2021 10:18  ...             6.0     Satsfied          UIMA\n",
              "\n",
              "[10 rows x 17 columns]"
            ]
          },
          "metadata": {},
          "execution_count": 2
        }
      ]
    },
    {
      "cell_type": "code",
      "metadata": {
        "colab": {
          "base_uri": "https://localhost:8080/"
        },
        "id": "MbFPKMF2p_pb",
        "outputId": "a37d96a2-372a-4dc2-d6b4-21340de0f846"
      },
      "source": [
        "# list columns\n",
        "df.columns"
      ],
      "execution_count": null,
      "outputs": [
        {
          "output_type": "execute_result",
          "data": {
            "text/plain": [
              "Index(['Priority', 'Status', 'Created', 'Resolution', 'Updated', 'Time Spent',\n",
              "       'Σ Time Spent', 'Issue Category and Classification',\n",
              "       'Status Category Changed', '[CHART] Date of First Response',\n",
              "       'Σ Hours Spent for Issues', 'Σ Days Spent for Issues',\n",
              "       'Estimated Time Hours', 'Estimated Time Days', 'Estimated Hours',\n",
              "       'Satisfaction', 'Project Name'],\n",
              "      dtype='object')"
            ]
          },
          "metadata": {},
          "execution_count": 3
        }
      ]
    },
    {
      "cell_type": "code",
      "metadata": {
        "id": "asAWqKgBqWmJ"
      },
      "source": [
        "# removed identical columns and non-required columns\n",
        "\n",
        "df.drop(['Updated','Time Spent','Σ Hours Spent for Issues', 'Σ Days Spent for Issues','Status Category Changed','Estimated Time Hours', 'Estimated Time Days'],axis=1,inplace=True)"
      ],
      "execution_count": null,
      "outputs": []
    },
    {
      "cell_type": "code",
      "metadata": {
        "colab": {
          "base_uri": "https://localhost:8080/",
          "height": 206
        },
        "id": "g8hNdtrLrMfO",
        "outputId": "0954fe63-99d9-4ec0-dfd5-dd88ece7bb31"
      },
      "source": [
        "df.head()"
      ],
      "execution_count": null,
      "outputs": [
        {
          "output_type": "execute_result",
          "data": {
            "text/html": [
              "<div>\n",
              "<style scoped>\n",
              "    .dataframe tbody tr th:only-of-type {\n",
              "        vertical-align: middle;\n",
              "    }\n",
              "\n",
              "    .dataframe tbody tr th {\n",
              "        vertical-align: top;\n",
              "    }\n",
              "\n",
              "    .dataframe thead th {\n",
              "        text-align: right;\n",
              "    }\n",
              "</style>\n",
              "<table border=\"1\" class=\"dataframe\">\n",
              "  <thead>\n",
              "    <tr style=\"text-align: right;\">\n",
              "      <th></th>\n",
              "      <th>Priority</th>\n",
              "      <th>Status</th>\n",
              "      <th>Created</th>\n",
              "      <th>Resolution</th>\n",
              "      <th>Σ Time Spent</th>\n",
              "      <th>Issue Category and Classification</th>\n",
              "      <th>[CHART] Date of First Response</th>\n",
              "      <th>Estimated Hours</th>\n",
              "      <th>Satisfaction</th>\n",
              "      <th>Project Name</th>\n",
              "    </tr>\n",
              "  </thead>\n",
              "  <tbody>\n",
              "    <tr>\n",
              "      <th>0</th>\n",
              "      <td>Medium</td>\n",
              "      <td>Open</td>\n",
              "      <td>9/10/2021 14:36</td>\n",
              "      <td>NaN</td>\n",
              "      <td>NaN</td>\n",
              "      <td>NaN</td>\n",
              "      <td>NaN</td>\n",
              "      <td>6.0</td>\n",
              "      <td>Satsfied</td>\n",
              "      <td>UIMA</td>\n",
              "    </tr>\n",
              "    <tr>\n",
              "      <th>1</th>\n",
              "      <td>Medium</td>\n",
              "      <td>Open</td>\n",
              "      <td>9/10/2021 14:17</td>\n",
              "      <td>NaN</td>\n",
              "      <td>NaN</td>\n",
              "      <td>NaN</td>\n",
              "      <td>NaN</td>\n",
              "      <td>6.0</td>\n",
              "      <td>Satsfied</td>\n",
              "      <td>UIMA</td>\n",
              "    </tr>\n",
              "    <tr>\n",
              "      <th>2</th>\n",
              "      <td>Medium</td>\n",
              "      <td>Open</td>\n",
              "      <td>9/10/2021 13:57</td>\n",
              "      <td>NaN</td>\n",
              "      <td>NaN</td>\n",
              "      <td>NaN</td>\n",
              "      <td>NaN</td>\n",
              "      <td>6.0</td>\n",
              "      <td>Satsfied</td>\n",
              "      <td>UIMA</td>\n",
              "    </tr>\n",
              "    <tr>\n",
              "      <th>3</th>\n",
              "      <td>Medium</td>\n",
              "      <td>Open</td>\n",
              "      <td>9/10/2021 13:51</td>\n",
              "      <td>NaN</td>\n",
              "      <td>NaN</td>\n",
              "      <td>NaN</td>\n",
              "      <td>NaN</td>\n",
              "      <td>6.0</td>\n",
              "      <td>Satsfied</td>\n",
              "      <td>UIMA</td>\n",
              "    </tr>\n",
              "    <tr>\n",
              "      <th>4</th>\n",
              "      <td>Medium</td>\n",
              "      <td>Open</td>\n",
              "      <td>9/10/2021 13:49</td>\n",
              "      <td>NaN</td>\n",
              "      <td>NaN</td>\n",
              "      <td>NaN</td>\n",
              "      <td>NaN</td>\n",
              "      <td>6.0</td>\n",
              "      <td>Satsfied</td>\n",
              "      <td>UIMA</td>\n",
              "    </tr>\n",
              "  </tbody>\n",
              "</table>\n",
              "</div>"
            ],
            "text/plain": [
              "  Priority Status          Created  ... Estimated Hours  Satisfaction Project Name\n",
              "0   Medium   Open  9/10/2021 14:36  ...             6.0      Satsfied         UIMA\n",
              "1   Medium   Open  9/10/2021 14:17  ...             6.0      Satsfied         UIMA\n",
              "2   Medium   Open  9/10/2021 13:57  ...             6.0      Satsfied         UIMA\n",
              "3   Medium   Open  9/10/2021 13:51  ...             6.0      Satsfied         UIMA\n",
              "4   Medium   Open  9/10/2021 13:49  ...             6.0      Satsfied         UIMA\n",
              "\n",
              "[5 rows x 10 columns]"
            ]
          },
          "metadata": {},
          "execution_count": 5
        }
      ]
    },
    {
      "cell_type": "code",
      "metadata": {
        "id": "R0VZAnBA4cGU"
      },
      "source": [
        "# rename columns\n",
        "df.columns = ['Priority',\t'Status', 'Created Date',\t'Resolution', 'Total Time Spent', 'Issue Category and Classification',\t'Date of First Response',\t'Estimated SLA in Hours','Client Satisfaction',\t'Project Name']"
      ],
      "execution_count": null,
      "outputs": []
    },
    {
      "cell_type": "code",
      "metadata": {
        "colab": {
          "base_uri": "https://localhost:8080/"
        },
        "id": "bioYY7YJrSYb",
        "outputId": "b9b70a85-177e-46f8-fc21-d8f344e9e815"
      },
      "source": [
        "# check for null values distribution\n",
        "df.isnull().sum()"
      ],
      "execution_count": null,
      "outputs": [
        {
          "output_type": "execute_result",
          "data": {
            "text/plain": [
              "Priority                                 0\n",
              "Status                                   0\n",
              "Created Date                             0\n",
              "Resolution                            2013\n",
              "Total Time Spent                     10915\n",
              "Issue Category and Classification    28220\n",
              "Date of First Response                6252\n",
              "Estimated SLA in Hours                  44\n",
              "Client Satisfaction                     44\n",
              "Project Name                            13\n",
              "dtype: int64"
            ]
          },
          "metadata": {},
          "execution_count": 7
        }
      ]
    },
    {
      "cell_type": "code",
      "metadata": {
        "colab": {
          "base_uri": "https://localhost:8080/"
        },
        "id": "VX_TVxWhssBO",
        "outputId": "f943ec41-0874-4006-bc6e-2d91776c9ea2"
      },
      "source": [
        "# dataset shape\n",
        "df.shape"
      ],
      "execution_count": null,
      "outputs": [
        {
          "output_type": "execute_result",
          "data": {
            "text/plain": [
              "(31944, 10)"
            ]
          },
          "metadata": {},
          "execution_count": 8
        }
      ]
    },
    {
      "cell_type": "code",
      "metadata": {
        "colab": {
          "base_uri": "https://localhost:8080/"
        },
        "id": "xyvOeDBPzT5U",
        "outputId": "753904e6-dd38-472f-b77f-bc00423654de"
      },
      "source": [
        "# remove data points if null values contains in following columns\n",
        "# 1. Project Name\n",
        "# 2. Satisfaction\n",
        "# 3. Estimated Hours\n",
        "# 4. Date of First Response\n",
        "\n",
        "df.dropna(subset=['Estimated SLA in Hours','Client Satisfaction','Project Name','Date of First Response'], inplace=True)\n",
        "\n",
        "# check for null values distribution\n",
        "df.isnull().sum()"
      ],
      "execution_count": null,
      "outputs": [
        {
          "output_type": "execute_result",
          "data": {
            "text/plain": [
              "Priority                                 0\n",
              "Status                                   0\n",
              "Created Date                             0\n",
              "Resolution                             579\n",
              "Total Time Spent                      8689\n",
              "Issue Category and Classification    22273\n",
              "Date of First Response                   0\n",
              "Estimated SLA in Hours                   0\n",
              "Client Satisfaction                      0\n",
              "Project Name                             0\n",
              "dtype: int64"
            ]
          },
          "metadata": {},
          "execution_count": 9
        }
      ]
    },
    {
      "cell_type": "code",
      "metadata": {
        "colab": {
          "base_uri": "https://localhost:8080/"
        },
        "id": "_nDDIQXH0CK_",
        "outputId": "34761caa-9f95-4165-8754-6046d4e3445f"
      },
      "source": [
        "# dataset shape\n",
        "df.shape"
      ],
      "execution_count": null,
      "outputs": [
        {
          "output_type": "execute_result",
          "data": {
            "text/plain": [
              "(25677, 10)"
            ]
          },
          "metadata": {},
          "execution_count": 10
        }
      ]
    },
    {
      "cell_type": "code",
      "metadata": {
        "colab": {
          "base_uri": "https://localhost:8080/"
        },
        "id": "42oJMeI1s37d",
        "outputId": "f0552ebb-768a-4422-adc7-5652534483b6"
      },
      "source": [
        "# unique values in Resolution\n",
        "df['Resolution'].unique()"
      ],
      "execution_count": null,
      "outputs": [
        {
          "output_type": "execute_result",
          "data": {
            "text/plain": [
              "array(['Fixed', nan, 'Await Client Feedback', 'Invalid', 'Responded',\n",
              "       'Duplicate', 'Await 3rd Party Feedback', 'Later', 'Done',\n",
              "       'Cannot Reproduce', 'Works for Me', \"Won't Fix\", \"Won't Do\",\n",
              "       'Incomplete'], dtype=object)"
            ]
          },
          "metadata": {},
          "execution_count": 11
        }
      ]
    },
    {
      "cell_type": "code",
      "metadata": {
        "colab": {
          "base_uri": "https://localhost:8080/"
        },
        "id": "KCW9oOfa0JvO",
        "outputId": "b5a3c170-3c6e-4981-937f-d90e5ec1538b"
      },
      "source": [
        "# unique values in Priority\n",
        "df['Priority'].unique()"
      ],
      "execution_count": null,
      "outputs": [
        {
          "output_type": "execute_result",
          "data": {
            "text/plain": [
              "array(['Medium', 'Critical', 'Blocker', 'Low'], dtype=object)"
            ]
          },
          "metadata": {},
          "execution_count": 12
        }
      ]
    },
    {
      "cell_type": "code",
      "metadata": {
        "colab": {
          "base_uri": "https://localhost:8080/"
        },
        "id": "gTqm4fJ10OT7",
        "outputId": "ede05b5c-1f83-46cf-e7dc-53dab3282dfe"
      },
      "source": [
        "# unique values in Status\n",
        "df['Status'].unique()"
      ],
      "execution_count": null,
      "outputs": [
        {
          "output_type": "execute_result",
          "data": {
            "text/plain": [
              "array(['Resolved', 'Verified', 'In Progress', 'Open', 'On Hold', 'Closed',\n",
              "       'Reopened'], dtype=object)"
            ]
          },
          "metadata": {},
          "execution_count": 13
        }
      ]
    },
    {
      "cell_type": "code",
      "metadata": {
        "colab": {
          "base_uri": "https://localhost:8080/"
        },
        "id": "-huqhKqG0d5r",
        "outputId": "5e86ae7f-259b-4180-846a-5bdb623c4518"
      },
      "source": [
        "# unique values in Issue Category and Classification\n",
        "df['Issue Category and Classification'].unique()"
      ],
      "execution_count": null,
      "outputs": [
        {
          "output_type": "execute_result",
          "data": {
            "text/plain": [
              "array([nan, 'Defect - Incorrect design', 'Invalid - Not an error',\n",
              "       'Defect - Coding error', 'Defect - Omitted Requirement',\n",
              "       'Explanation - Not a defect', 'Setup_Issue - Data setup', 'Defect',\n",
              "       'Setup_Issue', 'Enhancement - Enhancement', 'Invalid',\n",
              "       'Explanation', 'Setup_Issue - Config error',\n",
              "       'Data_Correction - Not an error', 'Enhancement',\n",
              "       'Explanation - Unable to Re-create',\n",
              "       'Explanation - Lack of understanding',\n",
              "       'Connectivity_Issue - Third party Issue',\n",
              "       'Enhancement - Report request', 'Defect - Performance Issue',\n",
              "       'Data_Correction', 'Explanation - Incorrect workflow',\n",
              "       'Connectivity_Issue', 'Explanation - Incomplete',\n",
              "       'Defect - Misunderstood requirement',\n",
              "       'Connectivity_Issue - Infrastructure Issue',\n",
              "       'Defect - Misunderstood design', 'Defect - Incorrect Requirement'],\n",
              "      dtype=object)"
            ]
          },
          "metadata": {},
          "execution_count": 14
        }
      ]
    },
    {
      "cell_type": "markdown",
      "metadata": {
        "id": "8MnoMehI2dP6"
      },
      "source": [
        "### Replace NaN with 'N/A' to take NaN as another category\n",
        "### This would be applied for the following features\n",
        "### 1. Resolution\n",
        "### 2. Issue Category and Classification"
      ]
    },
    {
      "cell_type": "code",
      "metadata": {
        "id": "G-MTQ4Zb0rTO"
      },
      "source": [
        "df['Issue Category and Classification'].fillna('N/A', inplace=True)\n",
        "df['Resolution'].fillna('N/A', inplace=True)"
      ],
      "execution_count": null,
      "outputs": []
    },
    {
      "cell_type": "code",
      "metadata": {
        "colab": {
          "base_uri": "https://localhost:8080/",
          "height": 206
        },
        "id": "AWhj4opK3KeS",
        "outputId": "17c1399b-c14e-424a-c02e-0c83ec8f0b05"
      },
      "source": [
        "df.head()"
      ],
      "execution_count": null,
      "outputs": [
        {
          "output_type": "execute_result",
          "data": {
            "text/html": [
              "<div>\n",
              "<style scoped>\n",
              "    .dataframe tbody tr th:only-of-type {\n",
              "        vertical-align: middle;\n",
              "    }\n",
              "\n",
              "    .dataframe tbody tr th {\n",
              "        vertical-align: top;\n",
              "    }\n",
              "\n",
              "    .dataframe thead th {\n",
              "        text-align: right;\n",
              "    }\n",
              "</style>\n",
              "<table border=\"1\" class=\"dataframe\">\n",
              "  <thead>\n",
              "    <tr style=\"text-align: right;\">\n",
              "      <th></th>\n",
              "      <th>Priority</th>\n",
              "      <th>Status</th>\n",
              "      <th>Created Date</th>\n",
              "      <th>Resolution</th>\n",
              "      <th>Total Time Spent</th>\n",
              "      <th>Issue Category and Classification</th>\n",
              "      <th>Date of First Response</th>\n",
              "      <th>Estimated SLA in Hours</th>\n",
              "      <th>Client Satisfaction</th>\n",
              "      <th>Project Name</th>\n",
              "    </tr>\n",
              "  </thead>\n",
              "  <tbody>\n",
              "    <tr>\n",
              "      <th>10</th>\n",
              "      <td>Medium</td>\n",
              "      <td>Resolved</td>\n",
              "      <td>9/10/2021 8:25</td>\n",
              "      <td>Fixed</td>\n",
              "      <td>NaN</td>\n",
              "      <td>N/A</td>\n",
              "      <td>9/10/2021 9:13</td>\n",
              "      <td>6.0</td>\n",
              "      <td>Satsfied</td>\n",
              "      <td>Apache Cordova</td>\n",
              "    </tr>\n",
              "    <tr>\n",
              "      <th>11</th>\n",
              "      <td>Critical</td>\n",
              "      <td>Verified</td>\n",
              "      <td>9/10/2021 7:07</td>\n",
              "      <td>Fixed</td>\n",
              "      <td>7200.0</td>\n",
              "      <td>Defect - Incorrect design</td>\n",
              "      <td>9/10/2021 11:23</td>\n",
              "      <td>4.0</td>\n",
              "      <td>Satsfied</td>\n",
              "      <td>Mesos</td>\n",
              "    </tr>\n",
              "    <tr>\n",
              "      <th>12</th>\n",
              "      <td>Critical</td>\n",
              "      <td>In Progress</td>\n",
              "      <td>9/10/2021 5:14</td>\n",
              "      <td>N/A</td>\n",
              "      <td>NaN</td>\n",
              "      <td>N/A</td>\n",
              "      <td>9/10/2021 6:37</td>\n",
              "      <td>4.0</td>\n",
              "      <td>Satsfied</td>\n",
              "      <td>Mesos</td>\n",
              "    </tr>\n",
              "    <tr>\n",
              "      <th>13</th>\n",
              "      <td>Medium</td>\n",
              "      <td>Open</td>\n",
              "      <td>9/10/2021 5:06</td>\n",
              "      <td>N/A</td>\n",
              "      <td>NaN</td>\n",
              "      <td>N/A</td>\n",
              "      <td>9/10/2021 5:13</td>\n",
              "      <td>6.0</td>\n",
              "      <td>Satsfied</td>\n",
              "      <td>Beam</td>\n",
              "    </tr>\n",
              "    <tr>\n",
              "      <th>14</th>\n",
              "      <td>Critical</td>\n",
              "      <td>Open</td>\n",
              "      <td>9/10/2021 3:20</td>\n",
              "      <td>N/A</td>\n",
              "      <td>14400.0</td>\n",
              "      <td>N/A</td>\n",
              "      <td>9/10/2021 4:04</td>\n",
              "      <td>4.0</td>\n",
              "      <td>Not Satisfied</td>\n",
              "      <td>Mesos</td>\n",
              "    </tr>\n",
              "  </tbody>\n",
              "</table>\n",
              "</div>"
            ],
            "text/plain": [
              "    Priority       Status  ... Client Satisfaction    Project Name\n",
              "10    Medium     Resolved  ...            Satsfied  Apache Cordova\n",
              "11  Critical     Verified  ...            Satsfied           Mesos\n",
              "12  Critical  In Progress  ...            Satsfied           Mesos\n",
              "13    Medium         Open  ...            Satsfied            Beam\n",
              "14  Critical         Open  ...       Not Satisfied           Mesos\n",
              "\n",
              "[5 rows x 10 columns]"
            ]
          },
          "metadata": {},
          "execution_count": 16
        }
      ]
    },
    {
      "cell_type": "code",
      "metadata": {
        "colab": {
          "base_uri": "https://localhost:8080/"
        },
        "id": "krn1XI563PTu",
        "outputId": "594295a3-cfa3-4f1f-a1f2-d30cab992e7e"
      },
      "source": [
        "# check for null values distribution\n",
        "df.isnull().sum()"
      ],
      "execution_count": null,
      "outputs": [
        {
          "output_type": "execute_result",
          "data": {
            "text/plain": [
              "Priority                                0\n",
              "Status                                  0\n",
              "Created Date                            0\n",
              "Resolution                              0\n",
              "Total Time Spent                     8689\n",
              "Issue Category and Classification       0\n",
              "Date of First Response                  0\n",
              "Estimated SLA in Hours                  0\n",
              "Client Satisfaction                     0\n",
              "Project Name                            0\n",
              "dtype: int64"
            ]
          },
          "metadata": {},
          "execution_count": 17
        }
      ]
    },
    {
      "cell_type": "code",
      "metadata": {
        "id": "pgII2bn35xd8"
      },
      "source": [
        "df.reset_index(inplace=True,drop=True)"
      ],
      "execution_count": null,
      "outputs": []
    },
    {
      "cell_type": "code",
      "metadata": {
        "colab": {
          "base_uri": "https://localhost:8080/",
          "height": 206
        },
        "id": "cHLH0gUD53Ri",
        "outputId": "68a08e2d-fdaa-4d38-b2a3-9d3f889d7128"
      },
      "source": [
        "df.head()"
      ],
      "execution_count": null,
      "outputs": [
        {
          "output_type": "execute_result",
          "data": {
            "text/html": [
              "<div>\n",
              "<style scoped>\n",
              "    .dataframe tbody tr th:only-of-type {\n",
              "        vertical-align: middle;\n",
              "    }\n",
              "\n",
              "    .dataframe tbody tr th {\n",
              "        vertical-align: top;\n",
              "    }\n",
              "\n",
              "    .dataframe thead th {\n",
              "        text-align: right;\n",
              "    }\n",
              "</style>\n",
              "<table border=\"1\" class=\"dataframe\">\n",
              "  <thead>\n",
              "    <tr style=\"text-align: right;\">\n",
              "      <th></th>\n",
              "      <th>Priority</th>\n",
              "      <th>Status</th>\n",
              "      <th>Created Date</th>\n",
              "      <th>Resolution</th>\n",
              "      <th>Total Time Spent</th>\n",
              "      <th>Issue Category and Classification</th>\n",
              "      <th>Date of First Response</th>\n",
              "      <th>Estimated SLA in Hours</th>\n",
              "      <th>Client Satisfaction</th>\n",
              "      <th>Project Name</th>\n",
              "    </tr>\n",
              "  </thead>\n",
              "  <tbody>\n",
              "    <tr>\n",
              "      <th>0</th>\n",
              "      <td>Medium</td>\n",
              "      <td>Resolved</td>\n",
              "      <td>9/10/2021 8:25</td>\n",
              "      <td>Fixed</td>\n",
              "      <td>NaN</td>\n",
              "      <td>N/A</td>\n",
              "      <td>9/10/2021 9:13</td>\n",
              "      <td>6.0</td>\n",
              "      <td>Satsfied</td>\n",
              "      <td>Apache Cordova</td>\n",
              "    </tr>\n",
              "    <tr>\n",
              "      <th>1</th>\n",
              "      <td>Critical</td>\n",
              "      <td>Verified</td>\n",
              "      <td>9/10/2021 7:07</td>\n",
              "      <td>Fixed</td>\n",
              "      <td>7200.0</td>\n",
              "      <td>Defect - Incorrect design</td>\n",
              "      <td>9/10/2021 11:23</td>\n",
              "      <td>4.0</td>\n",
              "      <td>Satsfied</td>\n",
              "      <td>Mesos</td>\n",
              "    </tr>\n",
              "    <tr>\n",
              "      <th>2</th>\n",
              "      <td>Critical</td>\n",
              "      <td>In Progress</td>\n",
              "      <td>9/10/2021 5:14</td>\n",
              "      <td>N/A</td>\n",
              "      <td>NaN</td>\n",
              "      <td>N/A</td>\n",
              "      <td>9/10/2021 6:37</td>\n",
              "      <td>4.0</td>\n",
              "      <td>Satsfied</td>\n",
              "      <td>Mesos</td>\n",
              "    </tr>\n",
              "    <tr>\n",
              "      <th>3</th>\n",
              "      <td>Medium</td>\n",
              "      <td>Open</td>\n",
              "      <td>9/10/2021 5:06</td>\n",
              "      <td>N/A</td>\n",
              "      <td>NaN</td>\n",
              "      <td>N/A</td>\n",
              "      <td>9/10/2021 5:13</td>\n",
              "      <td>6.0</td>\n",
              "      <td>Satsfied</td>\n",
              "      <td>Beam</td>\n",
              "    </tr>\n",
              "    <tr>\n",
              "      <th>4</th>\n",
              "      <td>Critical</td>\n",
              "      <td>Open</td>\n",
              "      <td>9/10/2021 3:20</td>\n",
              "      <td>N/A</td>\n",
              "      <td>14400.0</td>\n",
              "      <td>N/A</td>\n",
              "      <td>9/10/2021 4:04</td>\n",
              "      <td>4.0</td>\n",
              "      <td>Not Satisfied</td>\n",
              "      <td>Mesos</td>\n",
              "    </tr>\n",
              "  </tbody>\n",
              "</table>\n",
              "</div>"
            ],
            "text/plain": [
              "   Priority       Status  ... Client Satisfaction    Project Name\n",
              "0    Medium     Resolved  ...            Satsfied  Apache Cordova\n",
              "1  Critical     Verified  ...            Satsfied           Mesos\n",
              "2  Critical  In Progress  ...            Satsfied           Mesos\n",
              "3    Medium         Open  ...            Satsfied            Beam\n",
              "4  Critical         Open  ...       Not Satisfied           Mesos\n",
              "\n",
              "[5 rows x 10 columns]"
            ]
          },
          "metadata": {},
          "execution_count": 19
        }
      ]
    },
    {
      "cell_type": "code",
      "metadata": {
        "colab": {
          "base_uri": "https://localhost:8080/"
        },
        "id": "8TAyf9pO57sz",
        "outputId": "b961e1ad-6f48-4e57-b78c-74b81828dbbf"
      },
      "source": [
        "df.shape"
      ],
      "execution_count": null,
      "outputs": [
        {
          "output_type": "execute_result",
          "data": {
            "text/plain": [
              "(25677, 10)"
            ]
          },
          "metadata": {},
          "execution_count": 20
        }
      ]
    },
    {
      "cell_type": "markdown",
      "metadata": {
        "id": "tLaWrF0cYn0F"
      },
      "source": [
        "#### Total Time Spent feature has null values. And it means not yet completed the task.\n",
        "#### So, in here i break down the dataset into two (2) subsets.\n",
        "#### 1. df_1 - which have time spent\n",
        "#### 2. df_2 - which haven't time spent"
      ]
    },
    {
      "cell_type": "code",
      "metadata": {
        "colab": {
          "base_uri": "https://localhost:8080/",
          "height": 293
        },
        "id": "YdsKDEgZX5aM",
        "outputId": "c01d73b0-6f77-43e5-a8d5-81aa5c1abb10"
      },
      "source": [
        "# dataframe time spent is null\n",
        "df_time_spent_null = df[df['Total Time Spent'].isnull()]\n",
        "df_time_spent_null.drop('Total Time Spent',axis=1,inplace=True)\n",
        "df_time_spent_null.reset_index(inplace=True,drop=True)\n",
        "df_time_spent_null.head()"
      ],
      "execution_count": null,
      "outputs": [
        {
          "output_type": "stream",
          "name": "stderr",
          "text": [
            "/usr/local/lib/python3.7/dist-packages/pandas/core/frame.py:4174: SettingWithCopyWarning: \n",
            "A value is trying to be set on a copy of a slice from a DataFrame\n",
            "\n",
            "See the caveats in the documentation: https://pandas.pydata.org/pandas-docs/stable/user_guide/indexing.html#returning-a-view-versus-a-copy\n",
            "  errors=errors,\n"
          ]
        },
        {
          "output_type": "execute_result",
          "data": {
            "text/html": [
              "<div>\n",
              "<style scoped>\n",
              "    .dataframe tbody tr th:only-of-type {\n",
              "        vertical-align: middle;\n",
              "    }\n",
              "\n",
              "    .dataframe tbody tr th {\n",
              "        vertical-align: top;\n",
              "    }\n",
              "\n",
              "    .dataframe thead th {\n",
              "        text-align: right;\n",
              "    }\n",
              "</style>\n",
              "<table border=\"1\" class=\"dataframe\">\n",
              "  <thead>\n",
              "    <tr style=\"text-align: right;\">\n",
              "      <th></th>\n",
              "      <th>Priority</th>\n",
              "      <th>Status</th>\n",
              "      <th>Created Date</th>\n",
              "      <th>Resolution</th>\n",
              "      <th>Issue Category and Classification</th>\n",
              "      <th>Date of First Response</th>\n",
              "      <th>Estimated SLA in Hours</th>\n",
              "      <th>Client Satisfaction</th>\n",
              "      <th>Project Name</th>\n",
              "    </tr>\n",
              "  </thead>\n",
              "  <tbody>\n",
              "    <tr>\n",
              "      <th>0</th>\n",
              "      <td>Medium</td>\n",
              "      <td>Resolved</td>\n",
              "      <td>9/10/2021 8:25</td>\n",
              "      <td>Fixed</td>\n",
              "      <td>N/A</td>\n",
              "      <td>9/10/2021 9:13</td>\n",
              "      <td>6.0</td>\n",
              "      <td>Satsfied</td>\n",
              "      <td>Apache Cordova</td>\n",
              "    </tr>\n",
              "    <tr>\n",
              "      <th>1</th>\n",
              "      <td>Critical</td>\n",
              "      <td>In Progress</td>\n",
              "      <td>9/10/2021 5:14</td>\n",
              "      <td>N/A</td>\n",
              "      <td>N/A</td>\n",
              "      <td>9/10/2021 6:37</td>\n",
              "      <td>4.0</td>\n",
              "      <td>Satsfied</td>\n",
              "      <td>Mesos</td>\n",
              "    </tr>\n",
              "    <tr>\n",
              "      <th>2</th>\n",
              "      <td>Medium</td>\n",
              "      <td>Open</td>\n",
              "      <td>9/10/2021 5:06</td>\n",
              "      <td>N/A</td>\n",
              "      <td>N/A</td>\n",
              "      <td>9/10/2021 5:13</td>\n",
              "      <td>6.0</td>\n",
              "      <td>Satsfied</td>\n",
              "      <td>Beam</td>\n",
              "    </tr>\n",
              "    <tr>\n",
              "      <th>3</th>\n",
              "      <td>Critical</td>\n",
              "      <td>On Hold</td>\n",
              "      <td>9/10/2021 0:27</td>\n",
              "      <td>Await Client Feedback</td>\n",
              "      <td>N/A</td>\n",
              "      <td>9/10/2021 14:18</td>\n",
              "      <td>4.0</td>\n",
              "      <td>Satsfied</td>\n",
              "      <td>Mesos</td>\n",
              "    </tr>\n",
              "    <tr>\n",
              "      <th>4</th>\n",
              "      <td>Medium</td>\n",
              "      <td>Closed</td>\n",
              "      <td>9/9/2021 21:01</td>\n",
              "      <td>Fixed</td>\n",
              "      <td>N/A</td>\n",
              "      <td>9/10/2021 2:40</td>\n",
              "      <td>6.0</td>\n",
              "      <td>Satsfied</td>\n",
              "      <td>UIMA</td>\n",
              "    </tr>\n",
              "  </tbody>\n",
              "</table>\n",
              "</div>"
            ],
            "text/plain": [
              "   Priority       Status  ... Client Satisfaction    Project Name\n",
              "0    Medium     Resolved  ...            Satsfied  Apache Cordova\n",
              "1  Critical  In Progress  ...            Satsfied           Mesos\n",
              "2    Medium         Open  ...            Satsfied            Beam\n",
              "3  Critical      On Hold  ...            Satsfied           Mesos\n",
              "4    Medium       Closed  ...            Satsfied            UIMA\n",
              "\n",
              "[5 rows x 9 columns]"
            ]
          },
          "metadata": {},
          "execution_count": 21
        }
      ]
    },
    {
      "cell_type": "code",
      "metadata": {
        "colab": {
          "base_uri": "https://localhost:8080/",
          "height": 206
        },
        "id": "9YPOMWRPX5ef",
        "outputId": "d8e35b3a-86df-4be8-f4b2-789db99c55a0"
      },
      "source": [
        "# dataframe time spent is null\n",
        "df_time_spent_not_null = df[~df['Total Time Spent'].isnull()]\n",
        "df_time_spent_not_null.reset_index(inplace=True,drop=True)\n",
        "df_time_spent_not_null.head()"
      ],
      "execution_count": null,
      "outputs": [
        {
          "output_type": "execute_result",
          "data": {
            "text/html": [
              "<div>\n",
              "<style scoped>\n",
              "    .dataframe tbody tr th:only-of-type {\n",
              "        vertical-align: middle;\n",
              "    }\n",
              "\n",
              "    .dataframe tbody tr th {\n",
              "        vertical-align: top;\n",
              "    }\n",
              "\n",
              "    .dataframe thead th {\n",
              "        text-align: right;\n",
              "    }\n",
              "</style>\n",
              "<table border=\"1\" class=\"dataframe\">\n",
              "  <thead>\n",
              "    <tr style=\"text-align: right;\">\n",
              "      <th></th>\n",
              "      <th>Priority</th>\n",
              "      <th>Status</th>\n",
              "      <th>Created Date</th>\n",
              "      <th>Resolution</th>\n",
              "      <th>Total Time Spent</th>\n",
              "      <th>Issue Category and Classification</th>\n",
              "      <th>Date of First Response</th>\n",
              "      <th>Estimated SLA in Hours</th>\n",
              "      <th>Client Satisfaction</th>\n",
              "      <th>Project Name</th>\n",
              "    </tr>\n",
              "  </thead>\n",
              "  <tbody>\n",
              "    <tr>\n",
              "      <th>0</th>\n",
              "      <td>Critical</td>\n",
              "      <td>Verified</td>\n",
              "      <td>9/10/2021 7:07</td>\n",
              "      <td>Fixed</td>\n",
              "      <td>7200.0</td>\n",
              "      <td>Defect - Incorrect design</td>\n",
              "      <td>9/10/2021 11:23</td>\n",
              "      <td>4.0</td>\n",
              "      <td>Satsfied</td>\n",
              "      <td>Mesos</td>\n",
              "    </tr>\n",
              "    <tr>\n",
              "      <th>1</th>\n",
              "      <td>Critical</td>\n",
              "      <td>Open</td>\n",
              "      <td>9/10/2021 3:20</td>\n",
              "      <td>N/A</td>\n",
              "      <td>14400.0</td>\n",
              "      <td>N/A</td>\n",
              "      <td>9/10/2021 4:04</td>\n",
              "      <td>4.0</td>\n",
              "      <td>Not Satisfied</td>\n",
              "      <td>Mesos</td>\n",
              "    </tr>\n",
              "    <tr>\n",
              "      <th>2</th>\n",
              "      <td>Critical</td>\n",
              "      <td>Resolved</td>\n",
              "      <td>9/9/2021 17:39</td>\n",
              "      <td>Invalid</td>\n",
              "      <td>10800.0</td>\n",
              "      <td>Invalid - Not an error</td>\n",
              "      <td>9/10/2021 10:16</td>\n",
              "      <td>4.0</td>\n",
              "      <td>Satsfied</td>\n",
              "      <td>Mesos</td>\n",
              "    </tr>\n",
              "    <tr>\n",
              "      <th>3</th>\n",
              "      <td>Medium</td>\n",
              "      <td>In Progress</td>\n",
              "      <td>9/9/2021 12:19</td>\n",
              "      <td>Await Client Feedback</td>\n",
              "      <td>1800.0</td>\n",
              "      <td>N/A</td>\n",
              "      <td>9/9/2021 12:33</td>\n",
              "      <td>6.0</td>\n",
              "      <td>Satsfied</td>\n",
              "      <td>Beam</td>\n",
              "    </tr>\n",
              "    <tr>\n",
              "      <th>4</th>\n",
              "      <td>Blocker</td>\n",
              "      <td>On Hold</td>\n",
              "      <td>9/9/2021 12:12</td>\n",
              "      <td>Await Client Feedback</td>\n",
              "      <td>21600.0</td>\n",
              "      <td>N/A</td>\n",
              "      <td>9/10/2021 11:17</td>\n",
              "      <td>2.0</td>\n",
              "      <td>Not Satisfied</td>\n",
              "      <td>Mesos</td>\n",
              "    </tr>\n",
              "  </tbody>\n",
              "</table>\n",
              "</div>"
            ],
            "text/plain": [
              "   Priority       Status  ... Client Satisfaction Project Name\n",
              "0  Critical     Verified  ...            Satsfied        Mesos\n",
              "1  Critical         Open  ...       Not Satisfied        Mesos\n",
              "2  Critical     Resolved  ...            Satsfied        Mesos\n",
              "3    Medium  In Progress  ...            Satsfied         Beam\n",
              "4   Blocker      On Hold  ...       Not Satisfied        Mesos\n",
              "\n",
              "[5 rows x 10 columns]"
            ]
          },
          "metadata": {},
          "execution_count": 22
        }
      ]
    },
    {
      "cell_type": "code",
      "metadata": {
        "colab": {
          "base_uri": "https://localhost:8080/"
        },
        "id": "4x8TlMrmbD3p",
        "outputId": "8b47b26a-7166-4a52-ebd6-63abf907ca21"
      },
      "source": [
        "# check datatypes\n",
        "df_time_spent_null.info()\n"
      ],
      "execution_count": null,
      "outputs": [
        {
          "output_type": "stream",
          "name": "stdout",
          "text": [
            "<class 'pandas.core.frame.DataFrame'>\n",
            "RangeIndex: 8689 entries, 0 to 8688\n",
            "Data columns (total 9 columns):\n",
            " #   Column                             Non-Null Count  Dtype  \n",
            "---  ------                             --------------  -----  \n",
            " 0   Priority                           8689 non-null   object \n",
            " 1   Status                             8689 non-null   object \n",
            " 2   Created Date                       8689 non-null   object \n",
            " 3   Resolution                         8689 non-null   object \n",
            " 4   Issue Category and Classification  8689 non-null   object \n",
            " 5   Date of First Response             8689 non-null   object \n",
            " 6   Estimated SLA in Hours             8689 non-null   float64\n",
            " 7   Client Satisfaction                8689 non-null   object \n",
            " 8   Project Name                       8689 non-null   object \n",
            "dtypes: float64(1), object(8)\n",
            "memory usage: 611.1+ KB\n"
          ]
        }
      ]
    },
    {
      "cell_type": "code",
      "metadata": {
        "colab": {
          "base_uri": "https://localhost:8080/"
        },
        "id": "5f7ksPGc8IOK",
        "outputId": "0072646e-8c02-4b79-a37f-08e1e6e1e8c2"
      },
      "source": [
        "# convert Created Date and Date of First Response to Date type\n",
        "df_time_spent_null[[\"Created Date\", \"Date of First Response\"]] = df_time_spent_null[[\"Created Date\", \"Date of First Response\"]].apply(pd.to_datetime)\n",
        "# covnert Created Date and Date of First Response to Date type\n",
        "df_time_spent_not_null[[\"Created Date\", \"Date of First Response\"]] = df_time_spent_not_null[[\"Created Date\", \"Date of First Response\"]].apply(pd.to_datetime)"
      ],
      "execution_count": null,
      "outputs": [
        {
          "output_type": "stream",
          "name": "stderr",
          "text": [
            "/usr/local/lib/python3.7/dist-packages/pandas/core/frame.py:3069: SettingWithCopyWarning: \n",
            "A value is trying to be set on a copy of a slice from a DataFrame.\n",
            "Try using .loc[row_indexer,col_indexer] = value instead\n",
            "\n",
            "See the caveats in the documentation: https://pandas.pydata.org/pandas-docs/stable/user_guide/indexing.html#returning-a-view-versus-a-copy\n",
            "  self[k1] = value[k2]\n"
          ]
        }
      ]
    },
    {
      "cell_type": "code",
      "metadata": {
        "colab": {
          "base_uri": "https://localhost:8080/",
          "height": 206
        },
        "id": "WIsN5TiF8jd9",
        "outputId": "f2ec0d3d-ff66-49c5-9e77-cbbc97f2f077"
      },
      "source": [
        "df_time_spent_null.head()"
      ],
      "execution_count": null,
      "outputs": [
        {
          "output_type": "execute_result",
          "data": {
            "text/html": [
              "<div>\n",
              "<style scoped>\n",
              "    .dataframe tbody tr th:only-of-type {\n",
              "        vertical-align: middle;\n",
              "    }\n",
              "\n",
              "    .dataframe tbody tr th {\n",
              "        vertical-align: top;\n",
              "    }\n",
              "\n",
              "    .dataframe thead th {\n",
              "        text-align: right;\n",
              "    }\n",
              "</style>\n",
              "<table border=\"1\" class=\"dataframe\">\n",
              "  <thead>\n",
              "    <tr style=\"text-align: right;\">\n",
              "      <th></th>\n",
              "      <th>Priority</th>\n",
              "      <th>Status</th>\n",
              "      <th>Created Date</th>\n",
              "      <th>Resolution</th>\n",
              "      <th>Issue Category and Classification</th>\n",
              "      <th>Date of First Response</th>\n",
              "      <th>Estimated SLA in Hours</th>\n",
              "      <th>Client Satisfaction</th>\n",
              "      <th>Project Name</th>\n",
              "    </tr>\n",
              "  </thead>\n",
              "  <tbody>\n",
              "    <tr>\n",
              "      <th>0</th>\n",
              "      <td>Medium</td>\n",
              "      <td>Resolved</td>\n",
              "      <td>2021-09-10 08:25:00</td>\n",
              "      <td>Fixed</td>\n",
              "      <td>N/A</td>\n",
              "      <td>2021-09-10 09:13:00</td>\n",
              "      <td>6.0</td>\n",
              "      <td>Satsfied</td>\n",
              "      <td>Apache Cordova</td>\n",
              "    </tr>\n",
              "    <tr>\n",
              "      <th>1</th>\n",
              "      <td>Critical</td>\n",
              "      <td>In Progress</td>\n",
              "      <td>2021-09-10 05:14:00</td>\n",
              "      <td>N/A</td>\n",
              "      <td>N/A</td>\n",
              "      <td>2021-09-10 06:37:00</td>\n",
              "      <td>4.0</td>\n",
              "      <td>Satsfied</td>\n",
              "      <td>Mesos</td>\n",
              "    </tr>\n",
              "    <tr>\n",
              "      <th>2</th>\n",
              "      <td>Medium</td>\n",
              "      <td>Open</td>\n",
              "      <td>2021-09-10 05:06:00</td>\n",
              "      <td>N/A</td>\n",
              "      <td>N/A</td>\n",
              "      <td>2021-09-10 05:13:00</td>\n",
              "      <td>6.0</td>\n",
              "      <td>Satsfied</td>\n",
              "      <td>Beam</td>\n",
              "    </tr>\n",
              "    <tr>\n",
              "      <th>3</th>\n",
              "      <td>Critical</td>\n",
              "      <td>On Hold</td>\n",
              "      <td>2021-09-10 00:27:00</td>\n",
              "      <td>Await Client Feedback</td>\n",
              "      <td>N/A</td>\n",
              "      <td>2021-09-10 14:18:00</td>\n",
              "      <td>4.0</td>\n",
              "      <td>Satsfied</td>\n",
              "      <td>Mesos</td>\n",
              "    </tr>\n",
              "    <tr>\n",
              "      <th>4</th>\n",
              "      <td>Medium</td>\n",
              "      <td>Closed</td>\n",
              "      <td>2021-09-09 21:01:00</td>\n",
              "      <td>Fixed</td>\n",
              "      <td>N/A</td>\n",
              "      <td>2021-09-10 02:40:00</td>\n",
              "      <td>6.0</td>\n",
              "      <td>Satsfied</td>\n",
              "      <td>UIMA</td>\n",
              "    </tr>\n",
              "  </tbody>\n",
              "</table>\n",
              "</div>"
            ],
            "text/plain": [
              "   Priority       Status  ... Client Satisfaction    Project Name\n",
              "0    Medium     Resolved  ...            Satsfied  Apache Cordova\n",
              "1  Critical  In Progress  ...            Satsfied           Mesos\n",
              "2    Medium         Open  ...            Satsfied            Beam\n",
              "3  Critical      On Hold  ...            Satsfied           Mesos\n",
              "4    Medium       Closed  ...            Satsfied            UIMA\n",
              "\n",
              "[5 rows x 9 columns]"
            ]
          },
          "metadata": {},
          "execution_count": 25
        }
      ]
    },
    {
      "cell_type": "code",
      "metadata": {
        "colab": {
          "base_uri": "https://localhost:8080/",
          "height": 206
        },
        "id": "2dG7n98F8oV7",
        "outputId": "10842149-1e7c-482f-d197-3cda9bcb9c12"
      },
      "source": [
        "df_time_spent_not_null.head()"
      ],
      "execution_count": null,
      "outputs": [
        {
          "output_type": "execute_result",
          "data": {
            "text/html": [
              "<div>\n",
              "<style scoped>\n",
              "    .dataframe tbody tr th:only-of-type {\n",
              "        vertical-align: middle;\n",
              "    }\n",
              "\n",
              "    .dataframe tbody tr th {\n",
              "        vertical-align: top;\n",
              "    }\n",
              "\n",
              "    .dataframe thead th {\n",
              "        text-align: right;\n",
              "    }\n",
              "</style>\n",
              "<table border=\"1\" class=\"dataframe\">\n",
              "  <thead>\n",
              "    <tr style=\"text-align: right;\">\n",
              "      <th></th>\n",
              "      <th>Priority</th>\n",
              "      <th>Status</th>\n",
              "      <th>Created Date</th>\n",
              "      <th>Resolution</th>\n",
              "      <th>Total Time Spent</th>\n",
              "      <th>Issue Category and Classification</th>\n",
              "      <th>Date of First Response</th>\n",
              "      <th>Estimated SLA in Hours</th>\n",
              "      <th>Client Satisfaction</th>\n",
              "      <th>Project Name</th>\n",
              "    </tr>\n",
              "  </thead>\n",
              "  <tbody>\n",
              "    <tr>\n",
              "      <th>0</th>\n",
              "      <td>Critical</td>\n",
              "      <td>Verified</td>\n",
              "      <td>2021-09-10 07:07:00</td>\n",
              "      <td>Fixed</td>\n",
              "      <td>7200.0</td>\n",
              "      <td>Defect - Incorrect design</td>\n",
              "      <td>2021-09-10 11:23:00</td>\n",
              "      <td>4.0</td>\n",
              "      <td>Satsfied</td>\n",
              "      <td>Mesos</td>\n",
              "    </tr>\n",
              "    <tr>\n",
              "      <th>1</th>\n",
              "      <td>Critical</td>\n",
              "      <td>Open</td>\n",
              "      <td>2021-09-10 03:20:00</td>\n",
              "      <td>N/A</td>\n",
              "      <td>14400.0</td>\n",
              "      <td>N/A</td>\n",
              "      <td>2021-09-10 04:04:00</td>\n",
              "      <td>4.0</td>\n",
              "      <td>Not Satisfied</td>\n",
              "      <td>Mesos</td>\n",
              "    </tr>\n",
              "    <tr>\n",
              "      <th>2</th>\n",
              "      <td>Critical</td>\n",
              "      <td>Resolved</td>\n",
              "      <td>2021-09-09 17:39:00</td>\n",
              "      <td>Invalid</td>\n",
              "      <td>10800.0</td>\n",
              "      <td>Invalid - Not an error</td>\n",
              "      <td>2021-09-10 10:16:00</td>\n",
              "      <td>4.0</td>\n",
              "      <td>Satsfied</td>\n",
              "      <td>Mesos</td>\n",
              "    </tr>\n",
              "    <tr>\n",
              "      <th>3</th>\n",
              "      <td>Medium</td>\n",
              "      <td>In Progress</td>\n",
              "      <td>2021-09-09 12:19:00</td>\n",
              "      <td>Await Client Feedback</td>\n",
              "      <td>1800.0</td>\n",
              "      <td>N/A</td>\n",
              "      <td>2021-09-09 12:33:00</td>\n",
              "      <td>6.0</td>\n",
              "      <td>Satsfied</td>\n",
              "      <td>Beam</td>\n",
              "    </tr>\n",
              "    <tr>\n",
              "      <th>4</th>\n",
              "      <td>Blocker</td>\n",
              "      <td>On Hold</td>\n",
              "      <td>2021-09-09 12:12:00</td>\n",
              "      <td>Await Client Feedback</td>\n",
              "      <td>21600.0</td>\n",
              "      <td>N/A</td>\n",
              "      <td>2021-09-10 11:17:00</td>\n",
              "      <td>2.0</td>\n",
              "      <td>Not Satisfied</td>\n",
              "      <td>Mesos</td>\n",
              "    </tr>\n",
              "  </tbody>\n",
              "</table>\n",
              "</div>"
            ],
            "text/plain": [
              "   Priority       Status  ... Client Satisfaction Project Name\n",
              "0  Critical     Verified  ...            Satsfied        Mesos\n",
              "1  Critical         Open  ...       Not Satisfied        Mesos\n",
              "2  Critical     Resolved  ...            Satsfied        Mesos\n",
              "3    Medium  In Progress  ...            Satsfied         Beam\n",
              "4   Blocker      On Hold  ...       Not Satisfied        Mesos\n",
              "\n",
              "[5 rows x 10 columns]"
            ]
          },
          "metadata": {},
          "execution_count": 26
        }
      ]
    },
    {
      "cell_type": "code",
      "metadata": {
        "colab": {
          "base_uri": "https://localhost:8080/"
        },
        "id": "-5MfGTrk8qzr",
        "outputId": "dedb0ae9-4302-4499-b15b-e61fa24bb716"
      },
      "source": [
        "df_time_spent_null.info()"
      ],
      "execution_count": null,
      "outputs": [
        {
          "output_type": "stream",
          "name": "stdout",
          "text": [
            "<class 'pandas.core.frame.DataFrame'>\n",
            "RangeIndex: 8689 entries, 0 to 8688\n",
            "Data columns (total 9 columns):\n",
            " #   Column                             Non-Null Count  Dtype         \n",
            "---  ------                             --------------  -----         \n",
            " 0   Priority                           8689 non-null   object        \n",
            " 1   Status                             8689 non-null   object        \n",
            " 2   Created Date                       8689 non-null   datetime64[ns]\n",
            " 3   Resolution                         8689 non-null   object        \n",
            " 4   Issue Category and Classification  8689 non-null   object        \n",
            " 5   Date of First Response             8689 non-null   datetime64[ns]\n",
            " 6   Estimated SLA in Hours             8689 non-null   float64       \n",
            " 7   Client Satisfaction                8689 non-null   object        \n",
            " 8   Project Name                       8689 non-null   object        \n",
            "dtypes: datetime64[ns](2), float64(1), object(6)\n",
            "memory usage: 611.1+ KB\n"
          ]
        }
      ]
    },
    {
      "cell_type": "code",
      "metadata": {
        "colab": {
          "base_uri": "https://localhost:8080/"
        },
        "id": "OvXrk7OF98jO",
        "outputId": "12a80177-0a5e-4180-f4bd-5249c0aa45ca"
      },
      "source": [
        "# check for null values distribution\n",
        "df_time_spent_null.isnull().sum()"
      ],
      "execution_count": null,
      "outputs": [
        {
          "output_type": "execute_result",
          "data": {
            "text/plain": [
              "Priority                             0\n",
              "Status                               0\n",
              "Created Date                         0\n",
              "Resolution                           0\n",
              "Issue Category and Classification    0\n",
              "Date of First Response               0\n",
              "Estimated SLA in Hours               0\n",
              "Client Satisfaction                  0\n",
              "Project Name                         0\n",
              "dtype: int64"
            ]
          },
          "metadata": {},
          "execution_count": 28
        }
      ]
    },
    {
      "cell_type": "code",
      "metadata": {
        "colab": {
          "base_uri": "https://localhost:8080/"
        },
        "id": "sJJJhD0R9_9B",
        "outputId": "b2257c1c-9f1d-4a29-c689-352799937279"
      },
      "source": [
        "# check for null values distribution\n",
        "df_time_spent_not_null.isnull().sum()"
      ],
      "execution_count": null,
      "outputs": [
        {
          "output_type": "execute_result",
          "data": {
            "text/plain": [
              "Priority                             0\n",
              "Status                               0\n",
              "Created Date                         0\n",
              "Resolution                           0\n",
              "Total Time Spent                     0\n",
              "Issue Category and Classification    0\n",
              "Date of First Response               0\n",
              "Estimated SLA in Hours               0\n",
              "Client Satisfaction                  0\n",
              "Project Name                         0\n",
              "dtype: int64"
            ]
          },
          "metadata": {},
          "execution_count": 29
        }
      ]
    },
    {
      "cell_type": "markdown",
      "metadata": {
        "id": "jvNUNPis9OOc"
      },
      "source": [
        "### Create derived feature to find time taken for first response to the client in unit of hours"
      ]
    },
    {
      "cell_type": "code",
      "metadata": {
        "colab": {
          "base_uri": "https://localhost:8080/"
        },
        "id": "VXjS9RG18uYa",
        "outputId": "6ae97c0f-ee6a-474d-9984-2384fadabc52"
      },
      "source": [
        "df_time_spent_not_null['Time Taken for First Response'] = (df_time_spent_not_null['Date of First Response'] - df_time_spent_not_null['Created Date']).dt.total_seconds()/60"
      ],
      "execution_count": null,
      "outputs": [
        {
          "output_type": "stream",
          "name": "stderr",
          "text": [
            "/usr/local/lib/python3.7/dist-packages/ipykernel_launcher.py:1: SettingWithCopyWarning: \n",
            "A value is trying to be set on a copy of a slice from a DataFrame.\n",
            "Try using .loc[row_indexer,col_indexer] = value instead\n",
            "\n",
            "See the caveats in the documentation: https://pandas.pydata.org/pandas-docs/stable/user_guide/indexing.html#returning-a-view-versus-a-copy\n",
            "  \"\"\"Entry point for launching an IPython kernel.\n"
          ]
        }
      ]
    },
    {
      "cell_type": "code",
      "metadata": {
        "colab": {
          "base_uri": "https://localhost:8080/"
        },
        "id": "SShHlMKZ-f0K",
        "outputId": "106b0e1f-bf32-4196-f1df-0007b0140beb"
      },
      "source": [
        "df_time_spent_null['Time Taken for First Response'] = (df_time_spent_null['Date of First Response'] - df_time_spent_null['Created Date']).dt.total_seconds()/60"
      ],
      "execution_count": null,
      "outputs": [
        {
          "output_type": "stream",
          "name": "stderr",
          "text": [
            "/usr/local/lib/python3.7/dist-packages/ipykernel_launcher.py:1: SettingWithCopyWarning: \n",
            "A value is trying to be set on a copy of a slice from a DataFrame.\n",
            "Try using .loc[row_indexer,col_indexer] = value instead\n",
            "\n",
            "See the caveats in the documentation: https://pandas.pydata.org/pandas-docs/stable/user_guide/indexing.html#returning-a-view-versus-a-copy\n",
            "  \"\"\"Entry point for launching an IPython kernel.\n"
          ]
        }
      ]
    },
    {
      "cell_type": "code",
      "metadata": {
        "colab": {
          "base_uri": "https://localhost:8080/"
        },
        "id": "Tz72uMNu-l7h",
        "outputId": "ff110594-f088-42d0-98f8-184014c1750f"
      },
      "source": [
        "# drop Date of First Response and Created Date columns\n",
        "\n",
        "df_time_spent_null.drop('Date of First Response',axis=1,inplace=True)\n",
        "df_time_spent_null.drop('Created Date',axis=1,inplace=True)\n",
        "df_time_spent_not_null.drop('Date of First Response',axis=1,inplace=True)\n",
        "df_time_spent_not_null.drop('Created Date',axis=1,inplace=True)\n"
      ],
      "execution_count": null,
      "outputs": [
        {
          "output_type": "stream",
          "name": "stderr",
          "text": [
            "/usr/local/lib/python3.7/dist-packages/pandas/core/frame.py:4174: SettingWithCopyWarning: \n",
            "A value is trying to be set on a copy of a slice from a DataFrame\n",
            "\n",
            "See the caveats in the documentation: https://pandas.pydata.org/pandas-docs/stable/user_guide/indexing.html#returning-a-view-versus-a-copy\n",
            "  errors=errors,\n"
          ]
        }
      ]
    },
    {
      "cell_type": "code",
      "metadata": {
        "colab": {
          "base_uri": "https://localhost:8080/",
          "height": 206
        },
        "id": "znr5R9Uz_A3W",
        "outputId": "5dc69184-5f6a-47b4-9613-13853866d27a"
      },
      "source": [
        "df_time_spent_null.head()"
      ],
      "execution_count": null,
      "outputs": [
        {
          "output_type": "execute_result",
          "data": {
            "text/html": [
              "<div>\n",
              "<style scoped>\n",
              "    .dataframe tbody tr th:only-of-type {\n",
              "        vertical-align: middle;\n",
              "    }\n",
              "\n",
              "    .dataframe tbody tr th {\n",
              "        vertical-align: top;\n",
              "    }\n",
              "\n",
              "    .dataframe thead th {\n",
              "        text-align: right;\n",
              "    }\n",
              "</style>\n",
              "<table border=\"1\" class=\"dataframe\">\n",
              "  <thead>\n",
              "    <tr style=\"text-align: right;\">\n",
              "      <th></th>\n",
              "      <th>Priority</th>\n",
              "      <th>Status</th>\n",
              "      <th>Resolution</th>\n",
              "      <th>Issue Category and Classification</th>\n",
              "      <th>Estimated SLA in Hours</th>\n",
              "      <th>Client Satisfaction</th>\n",
              "      <th>Project Name</th>\n",
              "      <th>Time Taken for First Response</th>\n",
              "    </tr>\n",
              "  </thead>\n",
              "  <tbody>\n",
              "    <tr>\n",
              "      <th>0</th>\n",
              "      <td>Medium</td>\n",
              "      <td>Resolved</td>\n",
              "      <td>Fixed</td>\n",
              "      <td>N/A</td>\n",
              "      <td>6.0</td>\n",
              "      <td>Satsfied</td>\n",
              "      <td>Apache Cordova</td>\n",
              "      <td>48.0</td>\n",
              "    </tr>\n",
              "    <tr>\n",
              "      <th>1</th>\n",
              "      <td>Critical</td>\n",
              "      <td>In Progress</td>\n",
              "      <td>N/A</td>\n",
              "      <td>N/A</td>\n",
              "      <td>4.0</td>\n",
              "      <td>Satsfied</td>\n",
              "      <td>Mesos</td>\n",
              "      <td>83.0</td>\n",
              "    </tr>\n",
              "    <tr>\n",
              "      <th>2</th>\n",
              "      <td>Medium</td>\n",
              "      <td>Open</td>\n",
              "      <td>N/A</td>\n",
              "      <td>N/A</td>\n",
              "      <td>6.0</td>\n",
              "      <td>Satsfied</td>\n",
              "      <td>Beam</td>\n",
              "      <td>7.0</td>\n",
              "    </tr>\n",
              "    <tr>\n",
              "      <th>3</th>\n",
              "      <td>Critical</td>\n",
              "      <td>On Hold</td>\n",
              "      <td>Await Client Feedback</td>\n",
              "      <td>N/A</td>\n",
              "      <td>4.0</td>\n",
              "      <td>Satsfied</td>\n",
              "      <td>Mesos</td>\n",
              "      <td>831.0</td>\n",
              "    </tr>\n",
              "    <tr>\n",
              "      <th>4</th>\n",
              "      <td>Medium</td>\n",
              "      <td>Closed</td>\n",
              "      <td>Fixed</td>\n",
              "      <td>N/A</td>\n",
              "      <td>6.0</td>\n",
              "      <td>Satsfied</td>\n",
              "      <td>UIMA</td>\n",
              "      <td>339.0</td>\n",
              "    </tr>\n",
              "  </tbody>\n",
              "</table>\n",
              "</div>"
            ],
            "text/plain": [
              "   Priority       Status  ...    Project Name Time Taken for First Response\n",
              "0    Medium     Resolved  ...  Apache Cordova                          48.0\n",
              "1  Critical  In Progress  ...           Mesos                          83.0\n",
              "2    Medium         Open  ...            Beam                           7.0\n",
              "3  Critical      On Hold  ...           Mesos                         831.0\n",
              "4    Medium       Closed  ...            UIMA                         339.0\n",
              "\n",
              "[5 rows x 8 columns]"
            ]
          },
          "metadata": {},
          "execution_count": 33
        }
      ]
    },
    {
      "cell_type": "code",
      "metadata": {
        "colab": {
          "base_uri": "https://localhost:8080/",
          "height": 206
        },
        "id": "giq-xHqR_IjP",
        "outputId": "2069e5d3-4e00-46e6-8b9c-3f831ec48d82"
      },
      "source": [
        "df_time_spent_not_null.head()"
      ],
      "execution_count": null,
      "outputs": [
        {
          "output_type": "execute_result",
          "data": {
            "text/html": [
              "<div>\n",
              "<style scoped>\n",
              "    .dataframe tbody tr th:only-of-type {\n",
              "        vertical-align: middle;\n",
              "    }\n",
              "\n",
              "    .dataframe tbody tr th {\n",
              "        vertical-align: top;\n",
              "    }\n",
              "\n",
              "    .dataframe thead th {\n",
              "        text-align: right;\n",
              "    }\n",
              "</style>\n",
              "<table border=\"1\" class=\"dataframe\">\n",
              "  <thead>\n",
              "    <tr style=\"text-align: right;\">\n",
              "      <th></th>\n",
              "      <th>Priority</th>\n",
              "      <th>Status</th>\n",
              "      <th>Resolution</th>\n",
              "      <th>Total Time Spent</th>\n",
              "      <th>Issue Category and Classification</th>\n",
              "      <th>Estimated SLA in Hours</th>\n",
              "      <th>Client Satisfaction</th>\n",
              "      <th>Project Name</th>\n",
              "      <th>Time Taken for First Response</th>\n",
              "    </tr>\n",
              "  </thead>\n",
              "  <tbody>\n",
              "    <tr>\n",
              "      <th>0</th>\n",
              "      <td>Critical</td>\n",
              "      <td>Verified</td>\n",
              "      <td>Fixed</td>\n",
              "      <td>7200.0</td>\n",
              "      <td>Defect - Incorrect design</td>\n",
              "      <td>4.0</td>\n",
              "      <td>Satsfied</td>\n",
              "      <td>Mesos</td>\n",
              "      <td>256.0</td>\n",
              "    </tr>\n",
              "    <tr>\n",
              "      <th>1</th>\n",
              "      <td>Critical</td>\n",
              "      <td>Open</td>\n",
              "      <td>N/A</td>\n",
              "      <td>14400.0</td>\n",
              "      <td>N/A</td>\n",
              "      <td>4.0</td>\n",
              "      <td>Not Satisfied</td>\n",
              "      <td>Mesos</td>\n",
              "      <td>44.0</td>\n",
              "    </tr>\n",
              "    <tr>\n",
              "      <th>2</th>\n",
              "      <td>Critical</td>\n",
              "      <td>Resolved</td>\n",
              "      <td>Invalid</td>\n",
              "      <td>10800.0</td>\n",
              "      <td>Invalid - Not an error</td>\n",
              "      <td>4.0</td>\n",
              "      <td>Satsfied</td>\n",
              "      <td>Mesos</td>\n",
              "      <td>997.0</td>\n",
              "    </tr>\n",
              "    <tr>\n",
              "      <th>3</th>\n",
              "      <td>Medium</td>\n",
              "      <td>In Progress</td>\n",
              "      <td>Await Client Feedback</td>\n",
              "      <td>1800.0</td>\n",
              "      <td>N/A</td>\n",
              "      <td>6.0</td>\n",
              "      <td>Satsfied</td>\n",
              "      <td>Beam</td>\n",
              "      <td>14.0</td>\n",
              "    </tr>\n",
              "    <tr>\n",
              "      <th>4</th>\n",
              "      <td>Blocker</td>\n",
              "      <td>On Hold</td>\n",
              "      <td>Await Client Feedback</td>\n",
              "      <td>21600.0</td>\n",
              "      <td>N/A</td>\n",
              "      <td>2.0</td>\n",
              "      <td>Not Satisfied</td>\n",
              "      <td>Mesos</td>\n",
              "      <td>1385.0</td>\n",
              "    </tr>\n",
              "  </tbody>\n",
              "</table>\n",
              "</div>"
            ],
            "text/plain": [
              "   Priority       Status  ... Project Name  Time Taken for First Response\n",
              "0  Critical     Verified  ...        Mesos                          256.0\n",
              "1  Critical         Open  ...        Mesos                           44.0\n",
              "2  Critical     Resolved  ...        Mesos                          997.0\n",
              "3    Medium  In Progress  ...         Beam                           14.0\n",
              "4   Blocker      On Hold  ...        Mesos                         1385.0\n",
              "\n",
              "[5 rows x 9 columns]"
            ]
          },
          "metadata": {},
          "execution_count": 34
        }
      ]
    },
    {
      "cell_type": "markdown",
      "metadata": {
        "id": "Fbl0Ox-9_Tqp"
      },
      "source": [
        "#### Shuffle Dataframes to avoid ordered data points"
      ]
    },
    {
      "cell_type": "code",
      "metadata": {
        "colab": {
          "base_uri": "https://localhost:8080/"
        },
        "id": "Wr1nILfp_QpF",
        "outputId": "d8f94226-9f71-4487-fffd-9e99dfa282c7"
      },
      "source": [
        "df_time_spent_not_null = df_time_spent_not_null.sample(frac=1).reset_index(drop=True)\n",
        "df_time_spent_null = df_time_spent_null.sample(frac=1).reset_index(drop=True)\n",
        "\n",
        "print(f'df_time_spent_not_null shape = {df_time_spent_not_null.shape}')\n",
        "print(f'df_time_spent_null shape = {df_time_spent_null.shape}')"
      ],
      "execution_count": null,
      "outputs": [
        {
          "output_type": "stream",
          "name": "stdout",
          "text": [
            "df_time_spent_not_null shape = (16988, 9)\n",
            "df_time_spent_null shape = (8689, 8)\n"
          ]
        }
      ]
    },
    {
      "cell_type": "code",
      "metadata": {
        "colab": {
          "base_uri": "https://localhost:8080/"
        },
        "id": "VlqSWEbh_wSm",
        "outputId": "86ccfa59-f362-4922-cedd-9aa24ec4800b"
      },
      "source": [
        "# check for null values distribution\n",
        "df_time_spent_null.isnull().sum()"
      ],
      "execution_count": null,
      "outputs": [
        {
          "output_type": "execute_result",
          "data": {
            "text/plain": [
              "Priority                             0\n",
              "Status                               0\n",
              "Resolution                           0\n",
              "Issue Category and Classification    0\n",
              "Estimated SLA in Hours               0\n",
              "Client Satisfaction                  0\n",
              "Project Name                         0\n",
              "Time Taken for First Response        0\n",
              "dtype: int64"
            ]
          },
          "metadata": {},
          "execution_count": 36
        }
      ]
    },
    {
      "cell_type": "code",
      "metadata": {
        "colab": {
          "base_uri": "https://localhost:8080/"
        },
        "id": "GnpW5N3N_5XR",
        "outputId": "d15e2208-0784-415d-8ef8-5c3718ec0673"
      },
      "source": [
        "# check for null values distribution\n",
        "df_time_spent_not_null.isnull().sum()"
      ],
      "execution_count": null,
      "outputs": [
        {
          "output_type": "execute_result",
          "data": {
            "text/plain": [
              "Priority                             0\n",
              "Status                               0\n",
              "Resolution                           0\n",
              "Total Time Spent                     0\n",
              "Issue Category and Classification    0\n",
              "Estimated SLA in Hours               0\n",
              "Client Satisfaction                  0\n",
              "Project Name                         0\n",
              "Time Taken for First Response        0\n",
              "dtype: int64"
            ]
          },
          "metadata": {},
          "execution_count": 37
        }
      ]
    },
    {
      "cell_type": "markdown",
      "metadata": {
        "id": "Zr9ijJ-mgM4-"
      },
      "source": [
        "### Does Satisfaction depens on client ?"
      ]
    },
    {
      "cell_type": "code",
      "metadata": {
        "id": "MvSTfZr-gKQk"
      },
      "source": [
        "import altair as alt"
      ],
      "execution_count": null,
      "outputs": []
    },
    {
      "cell_type": "code",
      "metadata": {
        "colab": {
          "base_uri": "https://localhost:8080/",
          "height": 451
        },
        "id": "sh33_oOQg77V",
        "outputId": "b0f5790d-9ec9-4065-a3c5-43cab70e535b"
      },
      "source": [
        "temp = df_time_spent_not_null.copy()\n",
        "temp = temp[temp['Client Satisfaction'] == 'Satsfied']\n",
        "temp['id'] = 1\n",
        "temp2 = pd.DataFrame(temp.groupby('Project Name').count()['id']).reset_index()\n",
        "\n",
        "bars = alt.Chart(temp2).mark_bar(size=50).encode(\n",
        "    x=alt.X('Project Name'),\n",
        "    y=alt.Y('PercentOfTotal:Q', axis=alt.Axis(format='.0%', title='Precentage Client Satisfaction by Projects')),\n",
        "    color='Project Name'\n",
        ").transform_window(\n",
        "    Total='sum(id)',\n",
        "    frame=[None, None]\n",
        ").transform_calculate(\n",
        "    PercentOfTotal=\"datum.id / datum.Total\"\n",
        ")\n",
        "\n",
        "text = bars.mark_text(\n",
        "    align='center',\n",
        "    baseline='bottom',\n",
        "    #dx=5  # Nudges text to right so it doesn't appear on top of the bar\n",
        ").encode(\n",
        "    text=alt.Text('PercentOfTotal:Q', format='.1%')\n",
        ")\n",
        "\n",
        "(bars + text).interactive().properties(\n",
        "    height=300, \n",
        "    width=700,\n",
        "    title = \"Precentage Client Satisfaction of Projects\",\n",
        ")"
      ],
      "execution_count": null,
      "outputs": [
        {
          "output_type": "execute_result",
          "data": {
            "text/plain": [
              "alt.LayerChart(...)"
            ],
            "text/html": [
              "\n",
              "<div id=\"altair-viz-fcb1a8d74b9740d48c2cfa8fa3a646d4\"></div>\n",
              "<script type=\"text/javascript\">\n",
              "  (function(spec, embedOpt){\n",
              "    let outputDiv = document.currentScript.previousElementSibling;\n",
              "    if (outputDiv.id !== \"altair-viz-fcb1a8d74b9740d48c2cfa8fa3a646d4\") {\n",
              "      outputDiv = document.getElementById(\"altair-viz-fcb1a8d74b9740d48c2cfa8fa3a646d4\");\n",
              "    }\n",
              "    const paths = {\n",
              "      \"vega\": \"https://cdn.jsdelivr.net/npm//vega@5?noext\",\n",
              "      \"vega-lib\": \"https://cdn.jsdelivr.net/npm//vega-lib?noext\",\n",
              "      \"vega-lite\": \"https://cdn.jsdelivr.net/npm//vega-lite@4.8.1?noext\",\n",
              "      \"vega-embed\": \"https://cdn.jsdelivr.net/npm//vega-embed@6?noext\",\n",
              "    };\n",
              "\n",
              "    function loadScript(lib) {\n",
              "      return new Promise(function(resolve, reject) {\n",
              "        var s = document.createElement('script');\n",
              "        s.src = paths[lib];\n",
              "        s.async = true;\n",
              "        s.onload = () => resolve(paths[lib]);\n",
              "        s.onerror = () => reject(`Error loading script: ${paths[lib]}`);\n",
              "        document.getElementsByTagName(\"head\")[0].appendChild(s);\n",
              "      });\n",
              "    }\n",
              "\n",
              "    function showError(err) {\n",
              "      outputDiv.innerHTML = `<div class=\"error\" style=\"color:red;\">${err}</div>`;\n",
              "      throw err;\n",
              "    }\n",
              "\n",
              "    function displayChart(vegaEmbed) {\n",
              "      vegaEmbed(outputDiv, spec, embedOpt)\n",
              "        .catch(err => showError(`Javascript Error: ${err.message}<br>This usually means there's a typo in your chart specification. See the javascript console for the full traceback.`));\n",
              "    }\n",
              "\n",
              "    if(typeof define === \"function\" && define.amd) {\n",
              "      requirejs.config({paths});\n",
              "      require([\"vega-embed\"], displayChart, err => showError(`Error loading script: ${err.message}`));\n",
              "    } else if (typeof vegaEmbed === \"function\") {\n",
              "      displayChart(vegaEmbed);\n",
              "    } else {\n",
              "      loadScript(\"vega\")\n",
              "        .then(() => loadScript(\"vega-lite\"))\n",
              "        .then(() => loadScript(\"vega-embed\"))\n",
              "        .catch(showError)\n",
              "        .then(() => displayChart(vegaEmbed));\n",
              "    }\n",
              "  })({\"config\": {\"view\": {\"continuousWidth\": 400, \"continuousHeight\": 300}}, \"layer\": [{\"mark\": {\"type\": \"bar\", \"size\": 50}, \"encoding\": {\"color\": {\"type\": \"nominal\", \"field\": \"Project Name\"}, \"x\": {\"type\": \"nominal\", \"field\": \"Project Name\"}, \"y\": {\"type\": \"quantitative\", \"axis\": {\"format\": \".0%\", \"title\": \"Precentage Client Satisfaction by Projects\"}, \"field\": \"PercentOfTotal\"}}, \"selection\": {\"selector001\": {\"type\": \"interval\", \"bind\": \"scales\", \"encodings\": [\"x\", \"y\"]}}, \"transform\": [{\"window\": [{\"op\": \"sum\", \"field\": \"id\", \"as\": \"Total\"}], \"frame\": [null, null]}, {\"calculate\": \"datum.id / datum.Total\", \"as\": \"PercentOfTotal\"}]}, {\"mark\": {\"type\": \"text\", \"align\": \"center\", \"baseline\": \"bottom\"}, \"encoding\": {\"color\": {\"type\": \"nominal\", \"field\": \"Project Name\"}, \"text\": {\"type\": \"quantitative\", \"field\": \"PercentOfTotal\", \"format\": \".1%\"}, \"x\": {\"type\": \"nominal\", \"field\": \"Project Name\"}, \"y\": {\"type\": \"quantitative\", \"axis\": {\"format\": \".0%\", \"title\": \"Precentage Client Satisfaction by Projects\"}, \"field\": \"PercentOfTotal\"}}, \"transform\": [{\"window\": [{\"op\": \"sum\", \"field\": \"id\", \"as\": \"Total\"}], \"frame\": [null, null]}, {\"calculate\": \"datum.id / datum.Total\", \"as\": \"PercentOfTotal\"}]}], \"data\": {\"name\": \"data-2dbf0cabe501e5218eab47b0b60dca5c\"}, \"height\": 300, \"title\": \"Precentage Client Satisfaction of Projects\", \"width\": 700, \"$schema\": \"https://vega.github.io/schema/vega-lite/v4.8.1.json\", \"datasets\": {\"data-2dbf0cabe501e5218eab47b0b60dca5c\": [{\"Project Name\": \"Apache Cordova\", \"id\": 360}, {\"Project Name\": \"Atlas\", \"id\": 404}, {\"Project Name\": \"Beam\", \"id\": 1780}, {\"Project Name\": \"Mesos\", \"id\": 3814}, {\"Project Name\": \"UIMA\", \"id\": 971}]}}, {\"mode\": \"vega-lite\"});\n",
              "</script>"
            ]
          },
          "metadata": {},
          "execution_count": 39
        }
      ]
    },
    {
      "cell_type": "code",
      "metadata": {
        "colab": {
          "base_uri": "https://localhost:8080/"
        },
        "id": "LPYwM4kQjBs0",
        "outputId": "94a254fd-c56b-4621-cf25-650448dd0795"
      },
      "source": [
        "df_time_spent_not_null['Client Satisfaction'].unique()"
      ],
      "execution_count": null,
      "outputs": [
        {
          "output_type": "execute_result",
          "data": {
            "text/plain": [
              "array(['Satsfied', 'Not Satisfied'], dtype=object)"
            ]
          },
          "metadata": {},
          "execution_count": 40
        }
      ]
    },
    {
      "cell_type": "code",
      "metadata": {
        "id": "c7_-rufmjVBU"
      },
      "source": [
        "temp = df_time_spent_not_null.copy()\n",
        "temp = temp[temp['Client Satisfaction'] == 'Not Satisfied']"
      ],
      "execution_count": null,
      "outputs": []
    },
    {
      "cell_type": "code",
      "metadata": {
        "colab": {
          "base_uri": "https://localhost:8080/",
          "height": 206
        },
        "id": "pjmFxU0ojWFh",
        "outputId": "ce7387d1-8f7c-4d0e-8a77-64d0d5e3bfec"
      },
      "source": [
        "temp.head()"
      ],
      "execution_count": null,
      "outputs": [
        {
          "output_type": "execute_result",
          "data": {
            "text/html": [
              "<div>\n",
              "<style scoped>\n",
              "    .dataframe tbody tr th:only-of-type {\n",
              "        vertical-align: middle;\n",
              "    }\n",
              "\n",
              "    .dataframe tbody tr th {\n",
              "        vertical-align: top;\n",
              "    }\n",
              "\n",
              "    .dataframe thead th {\n",
              "        text-align: right;\n",
              "    }\n",
              "</style>\n",
              "<table border=\"1\" class=\"dataframe\">\n",
              "  <thead>\n",
              "    <tr style=\"text-align: right;\">\n",
              "      <th></th>\n",
              "      <th>Priority</th>\n",
              "      <th>Status</th>\n",
              "      <th>Resolution</th>\n",
              "      <th>Total Time Spent</th>\n",
              "      <th>Issue Category and Classification</th>\n",
              "      <th>Estimated SLA in Hours</th>\n",
              "      <th>Client Satisfaction</th>\n",
              "      <th>Project Name</th>\n",
              "      <th>Time Taken for First Response</th>\n",
              "    </tr>\n",
              "  </thead>\n",
              "  <tbody>\n",
              "    <tr>\n",
              "      <th>2</th>\n",
              "      <td>Medium</td>\n",
              "      <td>Closed</td>\n",
              "      <td>Fixed</td>\n",
              "      <td>181800.0</td>\n",
              "      <td>N/A</td>\n",
              "      <td>6.0</td>\n",
              "      <td>Not Satisfied</td>\n",
              "      <td>Mesos</td>\n",
              "      <td>8688.0</td>\n",
              "    </tr>\n",
              "    <tr>\n",
              "      <th>4</th>\n",
              "      <td>Critical</td>\n",
              "      <td>Closed</td>\n",
              "      <td>Fixed</td>\n",
              "      <td>30636.0</td>\n",
              "      <td>N/A</td>\n",
              "      <td>4.0</td>\n",
              "      <td>Not Satisfied</td>\n",
              "      <td>Mesos</td>\n",
              "      <td>512.0</td>\n",
              "    </tr>\n",
              "    <tr>\n",
              "      <th>6</th>\n",
              "      <td>Critical</td>\n",
              "      <td>Closed</td>\n",
              "      <td>Done</td>\n",
              "      <td>28800.0</td>\n",
              "      <td>N/A</td>\n",
              "      <td>4.0</td>\n",
              "      <td>Not Satisfied</td>\n",
              "      <td>Mesos</td>\n",
              "      <td>10811.0</td>\n",
              "    </tr>\n",
              "    <tr>\n",
              "      <th>7</th>\n",
              "      <td>Critical</td>\n",
              "      <td>Closed</td>\n",
              "      <td>Done</td>\n",
              "      <td>50400.0</td>\n",
              "      <td>N/A</td>\n",
              "      <td>4.0</td>\n",
              "      <td>Not Satisfied</td>\n",
              "      <td>Mesos</td>\n",
              "      <td>13.0</td>\n",
              "    </tr>\n",
              "    <tr>\n",
              "      <th>10</th>\n",
              "      <td>Critical</td>\n",
              "      <td>Closed</td>\n",
              "      <td>Done</td>\n",
              "      <td>70200.0</td>\n",
              "      <td>N/A</td>\n",
              "      <td>4.0</td>\n",
              "      <td>Not Satisfied</td>\n",
              "      <td>Mesos</td>\n",
              "      <td>1041.0</td>\n",
              "    </tr>\n",
              "  </tbody>\n",
              "</table>\n",
              "</div>"
            ],
            "text/plain": [
              "    Priority  Status  ... Project Name  Time Taken for First Response\n",
              "2     Medium  Closed  ...        Mesos                         8688.0\n",
              "4   Critical  Closed  ...        Mesos                          512.0\n",
              "6   Critical  Closed  ...        Mesos                        10811.0\n",
              "7   Critical  Closed  ...        Mesos                           13.0\n",
              "10  Critical  Closed  ...        Mesos                         1041.0\n",
              "\n",
              "[5 rows x 9 columns]"
            ]
          },
          "metadata": {},
          "execution_count": 42
        }
      ]
    },
    {
      "cell_type": "code",
      "metadata": {
        "colab": {
          "base_uri": "https://localhost:8080/",
          "height": 451
        },
        "id": "ilucGOS0ioB8",
        "outputId": "edbe53a3-d8bb-411e-9d7d-665a7e30c611"
      },
      "source": [
        "\n",
        "temp['id'] = 1\n",
        "temp2 = pd.DataFrame(temp.groupby('Project Name').count()['id']).reset_index()\n",
        "\n",
        "bars = alt.Chart(temp2).mark_bar(size=50).encode(\n",
        "    x=alt.X('Project Name'),\n",
        "    y=alt.Y('PercentOfTotal:Q', axis=alt.Axis(format='.0%', title='Precentage Client Disatisfaction by Projects')),\n",
        "    color='Project Name'\n",
        ").transform_window(\n",
        "    Total='sum(id)',\n",
        "    frame=[None, None]\n",
        ").transform_calculate(\n",
        "    PercentOfTotal=\"datum.id / datum.Total\"\n",
        ")\n",
        "\n",
        "text = bars.mark_text(\n",
        "    align='center',\n",
        "    baseline='bottom',\n",
        "    #dx=5  # Nudges text to right so it doesn't appear on top of the bar\n",
        ").encode(\n",
        "    text=alt.Text('PercentOfTotal:Q', format='.1%')\n",
        ")\n",
        "\n",
        "(bars + text).interactive().properties(\n",
        "    height=300, \n",
        "    width=700,\n",
        "    title = \"Precentage Client Disatisfaction of Projects\",\n",
        ")"
      ],
      "execution_count": null,
      "outputs": [
        {
          "output_type": "execute_result",
          "data": {
            "text/plain": [
              "alt.LayerChart(...)"
            ],
            "text/html": [
              "\n",
              "<div id=\"altair-viz-8787376e5bb74c4f85813d42c21631ed\"></div>\n",
              "<script type=\"text/javascript\">\n",
              "  (function(spec, embedOpt){\n",
              "    let outputDiv = document.currentScript.previousElementSibling;\n",
              "    if (outputDiv.id !== \"altair-viz-8787376e5bb74c4f85813d42c21631ed\") {\n",
              "      outputDiv = document.getElementById(\"altair-viz-8787376e5bb74c4f85813d42c21631ed\");\n",
              "    }\n",
              "    const paths = {\n",
              "      \"vega\": \"https://cdn.jsdelivr.net/npm//vega@5?noext\",\n",
              "      \"vega-lib\": \"https://cdn.jsdelivr.net/npm//vega-lib?noext\",\n",
              "      \"vega-lite\": \"https://cdn.jsdelivr.net/npm//vega-lite@4.8.1?noext\",\n",
              "      \"vega-embed\": \"https://cdn.jsdelivr.net/npm//vega-embed@6?noext\",\n",
              "    };\n",
              "\n",
              "    function loadScript(lib) {\n",
              "      return new Promise(function(resolve, reject) {\n",
              "        var s = document.createElement('script');\n",
              "        s.src = paths[lib];\n",
              "        s.async = true;\n",
              "        s.onload = () => resolve(paths[lib]);\n",
              "        s.onerror = () => reject(`Error loading script: ${paths[lib]}`);\n",
              "        document.getElementsByTagName(\"head\")[0].appendChild(s);\n",
              "      });\n",
              "    }\n",
              "\n",
              "    function showError(err) {\n",
              "      outputDiv.innerHTML = `<div class=\"error\" style=\"color:red;\">${err}</div>`;\n",
              "      throw err;\n",
              "    }\n",
              "\n",
              "    function displayChart(vegaEmbed) {\n",
              "      vegaEmbed(outputDiv, spec, embedOpt)\n",
              "        .catch(err => showError(`Javascript Error: ${err.message}<br>This usually means there's a typo in your chart specification. See the javascript console for the full traceback.`));\n",
              "    }\n",
              "\n",
              "    if(typeof define === \"function\" && define.amd) {\n",
              "      requirejs.config({paths});\n",
              "      require([\"vega-embed\"], displayChart, err => showError(`Error loading script: ${err.message}`));\n",
              "    } else if (typeof vegaEmbed === \"function\") {\n",
              "      displayChart(vegaEmbed);\n",
              "    } else {\n",
              "      loadScript(\"vega\")\n",
              "        .then(() => loadScript(\"vega-lite\"))\n",
              "        .then(() => loadScript(\"vega-embed\"))\n",
              "        .catch(showError)\n",
              "        .then(() => displayChart(vegaEmbed));\n",
              "    }\n",
              "  })({\"config\": {\"view\": {\"continuousWidth\": 400, \"continuousHeight\": 300}}, \"layer\": [{\"mark\": {\"type\": \"bar\", \"size\": 50}, \"encoding\": {\"color\": {\"type\": \"nominal\", \"field\": \"Project Name\"}, \"x\": {\"type\": \"nominal\", \"field\": \"Project Name\"}, \"y\": {\"type\": \"quantitative\", \"axis\": {\"format\": \".0%\", \"title\": \"Precentage Client Disatisfaction by Projects\"}, \"field\": \"PercentOfTotal\"}}, \"selection\": {\"selector002\": {\"type\": \"interval\", \"bind\": \"scales\", \"encodings\": [\"x\", \"y\"]}}, \"transform\": [{\"window\": [{\"op\": \"sum\", \"field\": \"id\", \"as\": \"Total\"}], \"frame\": [null, null]}, {\"calculate\": \"datum.id / datum.Total\", \"as\": \"PercentOfTotal\"}]}, {\"mark\": {\"type\": \"text\", \"align\": \"center\", \"baseline\": \"bottom\"}, \"encoding\": {\"color\": {\"type\": \"nominal\", \"field\": \"Project Name\"}, \"text\": {\"type\": \"quantitative\", \"field\": \"PercentOfTotal\", \"format\": \".1%\"}, \"x\": {\"type\": \"nominal\", \"field\": \"Project Name\"}, \"y\": {\"type\": \"quantitative\", \"axis\": {\"format\": \".0%\", \"title\": \"Precentage Client Disatisfaction by Projects\"}, \"field\": \"PercentOfTotal\"}}, \"transform\": [{\"window\": [{\"op\": \"sum\", \"field\": \"id\", \"as\": \"Total\"}], \"frame\": [null, null]}, {\"calculate\": \"datum.id / datum.Total\", \"as\": \"PercentOfTotal\"}]}], \"data\": {\"name\": \"data-0b429319fd8fd2e089dc3993cbc88c09\"}, \"height\": 300, \"title\": \"Precentage Client Disatisfaction of Projects\", \"width\": 700, \"$schema\": \"https://vega.github.io/schema/vega-lite/v4.8.1.json\", \"datasets\": {\"data-0b429319fd8fd2e089dc3993cbc88c09\": [{\"Project Name\": \"Apache Cordova\", \"id\": 1078}, {\"Project Name\": \"Atlas\", \"id\": 395}, {\"Project Name\": \"Beam\", \"id\": 1611}, {\"Project Name\": \"Mesos\", \"id\": 5357}, {\"Project Name\": \"UIMA\", \"id\": 1218}]}}, {\"mode\": \"vega-lite\"});\n",
              "</script>"
            ]
          },
          "metadata": {},
          "execution_count": 43
        }
      ]
    },
    {
      "cell_type": "markdown",
      "metadata": {
        "id": "i_qitNRKkA-2"
      },
      "source": [
        "#### It seems like client satisfaction and disatisfaction may depends on the client or project"
      ]
    },
    {
      "cell_type": "markdown",
      "metadata": {
        "id": "IoD1Ng4W_9dF"
      },
      "source": [
        "##### Now both data frames ready for pre-processing, feature engineering and training"
      ]
    },
    {
      "cell_type": "markdown",
      "metadata": {
        "id": "cqwSPCMHAWqM"
      },
      "source": [
        "## df_time_spent_not_null"
      ]
    },
    {
      "cell_type": "code",
      "metadata": {
        "id": "TuWuwE4t_8Vz"
      },
      "source": [
        "df = df_time_spent_not_null.copy()"
      ],
      "execution_count": null,
      "outputs": []
    },
    {
      "cell_type": "code",
      "metadata": {
        "colab": {
          "base_uri": "https://localhost:8080/",
          "height": 206
        },
        "id": "JhEtJSVlAhY7",
        "outputId": "a43fa575-c901-405c-d32c-436ac007cf03"
      },
      "source": [
        "df.head()"
      ],
      "execution_count": null,
      "outputs": [
        {
          "output_type": "execute_result",
          "data": {
            "text/html": [
              "<div>\n",
              "<style scoped>\n",
              "    .dataframe tbody tr th:only-of-type {\n",
              "        vertical-align: middle;\n",
              "    }\n",
              "\n",
              "    .dataframe tbody tr th {\n",
              "        vertical-align: top;\n",
              "    }\n",
              "\n",
              "    .dataframe thead th {\n",
              "        text-align: right;\n",
              "    }\n",
              "</style>\n",
              "<table border=\"1\" class=\"dataframe\">\n",
              "  <thead>\n",
              "    <tr style=\"text-align: right;\">\n",
              "      <th></th>\n",
              "      <th>Priority</th>\n",
              "      <th>Status</th>\n",
              "      <th>Resolution</th>\n",
              "      <th>Total Time Spent</th>\n",
              "      <th>Issue Category and Classification</th>\n",
              "      <th>Estimated SLA in Hours</th>\n",
              "      <th>Client Satisfaction</th>\n",
              "      <th>Project Name</th>\n",
              "      <th>Time Taken for First Response</th>\n",
              "    </tr>\n",
              "  </thead>\n",
              "  <tbody>\n",
              "    <tr>\n",
              "      <th>0</th>\n",
              "      <td>Critical</td>\n",
              "      <td>Closed</td>\n",
              "      <td>Fixed</td>\n",
              "      <td>12600.0</td>\n",
              "      <td>Defect - Coding error</td>\n",
              "      <td>4.0</td>\n",
              "      <td>Satsfied</td>\n",
              "      <td>Apache Cordova</td>\n",
              "      <td>41380.0</td>\n",
              "    </tr>\n",
              "    <tr>\n",
              "      <th>1</th>\n",
              "      <td>Medium</td>\n",
              "      <td>Verified</td>\n",
              "      <td>Fixed</td>\n",
              "      <td>10800.0</td>\n",
              "      <td>N/A</td>\n",
              "      <td>6.0</td>\n",
              "      <td>Satsfied</td>\n",
              "      <td>UIMA</td>\n",
              "      <td>15.0</td>\n",
              "    </tr>\n",
              "    <tr>\n",
              "      <th>2</th>\n",
              "      <td>Medium</td>\n",
              "      <td>Closed</td>\n",
              "      <td>Fixed</td>\n",
              "      <td>181800.0</td>\n",
              "      <td>N/A</td>\n",
              "      <td>6.0</td>\n",
              "      <td>Not Satisfied</td>\n",
              "      <td>Mesos</td>\n",
              "      <td>8688.0</td>\n",
              "    </tr>\n",
              "    <tr>\n",
              "      <th>3</th>\n",
              "      <td>Medium</td>\n",
              "      <td>Closed</td>\n",
              "      <td>Responded</td>\n",
              "      <td>12600.0</td>\n",
              "      <td>N/A</td>\n",
              "      <td>6.0</td>\n",
              "      <td>Satsfied</td>\n",
              "      <td>Beam</td>\n",
              "      <td>854.0</td>\n",
              "    </tr>\n",
              "    <tr>\n",
              "      <th>4</th>\n",
              "      <td>Critical</td>\n",
              "      <td>Closed</td>\n",
              "      <td>Fixed</td>\n",
              "      <td>30636.0</td>\n",
              "      <td>N/A</td>\n",
              "      <td>4.0</td>\n",
              "      <td>Not Satisfied</td>\n",
              "      <td>Mesos</td>\n",
              "      <td>512.0</td>\n",
              "    </tr>\n",
              "  </tbody>\n",
              "</table>\n",
              "</div>"
            ],
            "text/plain": [
              "   Priority    Status  ...    Project Name  Time Taken for First Response\n",
              "0  Critical    Closed  ...  Apache Cordova                        41380.0\n",
              "1    Medium  Verified  ...            UIMA                           15.0\n",
              "2    Medium    Closed  ...           Mesos                         8688.0\n",
              "3    Medium    Closed  ...            Beam                          854.0\n",
              "4  Critical    Closed  ...           Mesos                          512.0\n",
              "\n",
              "[5 rows x 9 columns]"
            ]
          },
          "metadata": {},
          "execution_count": 45
        }
      ]
    },
    {
      "cell_type": "code",
      "metadata": {
        "id": "lGNhXJUuBUfB"
      },
      "source": [
        "columns = list(df.columns)"
      ],
      "execution_count": null,
      "outputs": []
    },
    {
      "cell_type": "code",
      "metadata": {
        "colab": {
          "base_uri": "https://localhost:8080/"
        },
        "id": "yhZfMPXuBZ1G",
        "outputId": "33ff0b9d-998c-4b49-e0ff-a9d3e456ed9d"
      },
      "source": [
        "columns"
      ],
      "execution_count": null,
      "outputs": [
        {
          "output_type": "execute_result",
          "data": {
            "text/plain": [
              "['Priority',\n",
              " 'Status',\n",
              " 'Resolution',\n",
              " 'Total Time Spent',\n",
              " 'Issue Category and Classification',\n",
              " 'Estimated SLA in Hours',\n",
              " 'Client Satisfaction',\n",
              " 'Project Name',\n",
              " 'Time Taken for First Response']"
            ]
          },
          "metadata": {},
          "execution_count": 47
        }
      ]
    },
    {
      "cell_type": "code",
      "metadata": {
        "id": "GJLUlIr2BcAg"
      },
      "source": [
        "categorical_cols = [columns[0],columns[1],columns[2],columns[4],columns[6],columns[7]]\n",
        "numerical_cols = [columns[3],columns[5]]"
      ],
      "execution_count": null,
      "outputs": []
    },
    {
      "cell_type": "code",
      "metadata": {
        "colab": {
          "base_uri": "https://localhost:8080/"
        },
        "id": "Ai-iJ9eqB8tU",
        "outputId": "d28b383e-6a2b-4957-92a8-2f634c80bdbf"
      },
      "source": [
        "categorical_cols"
      ],
      "execution_count": null,
      "outputs": [
        {
          "output_type": "execute_result",
          "data": {
            "text/plain": [
              "['Priority',\n",
              " 'Status',\n",
              " 'Resolution',\n",
              " 'Issue Category and Classification',\n",
              " 'Client Satisfaction',\n",
              " 'Project Name']"
            ]
          },
          "metadata": {},
          "execution_count": 49
        }
      ]
    },
    {
      "cell_type": "code",
      "metadata": {
        "colab": {
          "base_uri": "https://localhost:8080/"
        },
        "id": "E6p9S9kHB_dW",
        "outputId": "c1adf0a5-00da-40d8-9c0d-0c655caeb89a"
      },
      "source": [
        "numerical_cols"
      ],
      "execution_count": null,
      "outputs": [
        {
          "output_type": "execute_result",
          "data": {
            "text/plain": [
              "['Total Time Spent', 'Estimated SLA in Hours']"
            ]
          },
          "metadata": {},
          "execution_count": 50
        }
      ]
    },
    {
      "cell_type": "markdown",
      "metadata": {
        "id": "1us1QSNFBH2L"
      },
      "source": [
        "## Outlier Handling"
      ]
    },
    {
      "cell_type": "code",
      "metadata": {
        "id": "Q60TUx69AkVf"
      },
      "source": [
        "# import required libraries\n",
        "import numpy as np\n",
        "import pandas as pd\n",
        "import matplotlib.pyplot as plt\n",
        "import warnings\n",
        "import seaborn as sns\n",
        "warnings.filterwarnings(\"ignore\")"
      ],
      "execution_count": null,
      "outputs": []
    },
    {
      "cell_type": "code",
      "metadata": {
        "colab": {
          "base_uri": "https://localhost:8080/",
          "height": 513
        },
        "id": "nlsFCaV6BQ-X",
        "outputId": "300551f7-62a6-4fe6-a839-1e46e008081a"
      },
      "source": [
        "# boxplot for network_stay\n",
        "df.boxplot(column=['Total Time Spent'],vert = False, figsize=(20,8))"
      ],
      "execution_count": null,
      "outputs": [
        {
          "output_type": "execute_result",
          "data": {
            "text/plain": [
              "<matplotlib.axes._subplots.AxesSubplot at 0x7fdd70feb110>"
            ]
          },
          "metadata": {},
          "execution_count": 52
        },
        {
          "output_type": "display_data",
          "data": {
            "image/png": "[encoded data removed]",
            "text/plain": [
              "<Figure size 1440x576 with 1 Axes>"
            ]
          },
          "metadata": {
            "needs_background": "light"
          }
        }
      ]
    },
    {
      "cell_type": "code",
      "metadata": {
        "colab": {
          "base_uri": "https://localhost:8080/",
          "height": 376
        },
        "id": "kJFvVfDWCZPl",
        "outputId": "a2381112-d49f-4bae-a021-084f205cde28"
      },
      "source": [
        "fig, axes = plt.subplots(1,2)\n",
        "plt.tight_layout(0.2)\n",
        "\n",
        "# DataFrame\n",
        "print(\"Before Shape:\",df.shape)\n",
        "\n",
        "# Removing all the outliers\n",
        "df2 = df[(df['Total Time Spent'] < 0.5 * (10**6))]\n",
        "\n",
        "#Visulization\n",
        "print(\"After Shape:\",df2.shape)\n",
        "\n",
        "sns.boxplot(df['Total Time Spent'],orient='v',ax=axes[0])\n",
        "axes[0].title.set_text(\"Before\")\n",
        "sns.boxplot(df2['Total Time Spent'],orient='v',ax=axes[1])\n",
        "axes[1].title.set_text(\"After\")\n",
        "plt.show()"
      ],
      "execution_count": null,
      "outputs": [
        {
          "output_type": "stream",
          "name": "stdout",
          "text": [
            "Before Shape: (16988, 9)\n",
            "After Shape: (16977, 9)\n"
          ]
        },
        {
          "output_type": "display_data",
          "data": {
            "image/png": "[encoded data removed]",
            "text/plain": [
              "<Figure size 432x288 with 2 Axes>"
            ]
          },
          "metadata": {
            "needs_background": "light"
          }
        }
      ]
    },
    {
      "cell_type": "markdown",
      "metadata": {
        "id": "1lgV_FC5C-bR"
      },
      "source": [
        "#### Only 13 points removed by the above outlier handling using BoxPlot. So, we can continue with that operation"
      ]
    },
    {
      "cell_type": "code",
      "metadata": {
        "id": "UvpgFPRxC9mE"
      },
      "source": [
        "df = df2.copy()"
      ],
      "execution_count": null,
      "outputs": []
    },
    {
      "cell_type": "code",
      "metadata": {
        "colab": {
          "base_uri": "https://localhost:8080/",
          "height": 500
        },
        "id": "dBLBNxeDDaBX",
        "outputId": "9febb589-aebe-4057-b0e6-bdb226405be6"
      },
      "source": [
        "# boxplot for network_stay\n",
        "df.boxplot(column=['Estimated SLA in Hours'],vert = False, figsize=(20,8))"
      ],
      "execution_count": null,
      "outputs": [
        {
          "output_type": "execute_result",
          "data": {
            "text/plain": [
              "<matplotlib.axes._subplots.AxesSubplot at 0x7fdd7078ff10>"
            ]
          },
          "metadata": {},
          "execution_count": 55
        },
        {
          "output_type": "display_data",
          "data": {
            "image/png": "[encoded data removed]",
            "text/plain": [
              "<Figure size 1440x576 with 1 Axes>"
            ]
          },
          "metadata": {
            "needs_background": "light"
          }
        }
      ]
    },
    {
      "cell_type": "markdown",
      "metadata": {
        "id": "dqiNGCxSDibY"
      },
      "source": [
        "#### It seems no outliers for Estimated SLA in Hours"
      ]
    },
    {
      "cell_type": "code",
      "metadata": {
        "colab": {
          "base_uri": "https://localhost:8080/",
          "height": 513
        },
        "id": "8Tnxfm3rJIf2",
        "outputId": "d7ff9a5c-8baa-4d42-bc94-3ec909a32ab1"
      },
      "source": [
        "# boxplot for network_stay\n",
        "df.boxplot(column=['Time Taken for First Response'],vert = False, figsize=(20,8))"
      ],
      "execution_count": null,
      "outputs": [
        {
          "output_type": "execute_result",
          "data": {
            "text/plain": [
              "<matplotlib.axes._subplots.AxesSubplot at 0x7fdd6797b550>"
            ]
          },
          "metadata": {},
          "execution_count": 56
        },
        {
          "output_type": "display_data",
          "data": {
            "image/png": "[encoded data removed]",
            "text/plain": [
              "<Figure size 1440x576 with 1 Axes>"
            ]
          },
          "metadata": {
            "needs_background": "light"
          }
        }
      ]
    },
    {
      "cell_type": "code",
      "metadata": {
        "colab": {
          "base_uri": "https://localhost:8080/",
          "height": 376
        },
        "id": "vsZ0PFykJS6i",
        "outputId": "74f603a2-9d71-436f-c635-ae2ae34716a3"
      },
      "source": [
        "fig, axes = plt.subplots(1,2)\n",
        "plt.tight_layout(0.2)\n",
        "\n",
        "# DataFrame\n",
        "print(\"Before Shape:\",df.shape)\n",
        "\n",
        "# Removing all the outliers\n",
        "df2 = df[(df['Time Taken for First Response'] < 0.75 * (10**6))]\n",
        "\n",
        "#Visulization\n",
        "print(\"After Shape:\",df2.shape)\n",
        "\n",
        "sns.boxplot(df['Time Taken for First Response'],orient='v',ax=axes[0])\n",
        "axes[0].title.set_text(\"Before\")\n",
        "sns.boxplot(df2['Total Time Spent'],orient='v',ax=axes[1])\n",
        "axes[1].title.set_text(\"After\")\n",
        "plt.show()"
      ],
      "execution_count": null,
      "outputs": [
        {
          "output_type": "stream",
          "name": "stdout",
          "text": [
            "Before Shape: (16977, 9)\n",
            "After Shape: (16938, 9)\n"
          ]
        },
        {
          "output_type": "display_data",
          "data": {
            "image/png": "[encoded data removed]",
            "text/plain": [
              "<Figure size 432x288 with 2 Axes>"
            ]
          },
          "metadata": {
            "needs_background": "light"
          }
        }
      ]
    },
    {
      "cell_type": "markdown",
      "metadata": {
        "id": "corldvwSJmZH"
      },
      "source": [
        "#### Only 39 points removed by the above outlier handling using BoxPlot. So, we can continue with that operation"
      ]
    },
    {
      "cell_type": "code",
      "metadata": {
        "id": "cjG9ZbYwJtIz"
      },
      "source": [
        "df = df2.copy()"
      ],
      "execution_count": null,
      "outputs": []
    },
    {
      "cell_type": "markdown",
      "metadata": {
        "id": "OMBEFkF7DsJr"
      },
      "source": [
        "#### Outlier Handling completed"
      ]
    },
    {
      "cell_type": "markdown",
      "metadata": {
        "id": "XquUVfg4D5gv"
      },
      "source": [
        "## Feature Transformation"
      ]
    },
    {
      "cell_type": "markdown",
      "metadata": {
        "id": "AqbXPRBwEFzI"
      },
      "source": [
        "### Plot histograms and Q-Q Plots to see the distribution "
      ]
    },
    {
      "cell_type": "code",
      "metadata": {
        "colab": {
          "base_uri": "https://localhost:8080/",
          "height": 442
        },
        "id": "TTaOHINoDo-X",
        "outputId": "ba4af2bb-46ae-45a3-c951-3f4cd20613bf"
      },
      "source": [
        "df[numerical_cols].hist(figsize=(10,6))"
      ],
      "execution_count": null,
      "outputs": [
        {
          "output_type": "execute_result",
          "data": {
            "text/plain": [
              "array([[<matplotlib.axes._subplots.AxesSubplot object at 0x7fdd70fb7b10>,\n",
              "        <matplotlib.axes._subplots.AxesSubplot object at 0x7fdd6778a490>]],\n",
              "      dtype=object)"
            ]
          },
          "metadata": {},
          "execution_count": 59
        },
        {
          "output_type": "display_data",
          "data": {
            "image/png": "[encoded data removed]",
            "text/plain": [
              "<Figure size 720x432 with 2 Axes>"
            ]
          },
          "metadata": {
            "needs_background": "light"
          }
        }
      ]
    },
    {
      "cell_type": "code",
      "metadata": {
        "colab": {
          "base_uri": "https://localhost:8080/"
        },
        "id": "ESs-3QG6Eiig",
        "outputId": "88d93693-738f-466f-e941-b91fda16e059"
      },
      "source": [
        "# check Estimated SLA in Hours unique values\n",
        "list(df['Estimated SLA in Hours'].unique())"
      ],
      "execution_count": null,
      "outputs": [
        {
          "output_type": "execute_result",
          "data": {
            "text/plain": [
              "[4.0, 6.0, 8.0, 2.0]"
            ]
          },
          "metadata": {},
          "execution_count": 60
        }
      ]
    },
    {
      "cell_type": "markdown",
      "metadata": {
        "id": "lReQ_4-SE5No"
      },
      "source": [
        "#### Estimated SLA in Hours is discrete featue which only contains four values"
      ]
    },
    {
      "cell_type": "markdown",
      "metadata": {
        "id": "O1bQqPqTFB9f"
      },
      "source": [
        "#### Total Time Spent is right skewness. "
      ]
    },
    {
      "cell_type": "code",
      "metadata": {
        "colab": {
          "base_uri": "https://localhost:8080/",
          "height": 295
        },
        "id": "KKj8ajpcFLgG",
        "outputId": "6416d3b5-8072-4172-b794-d0dc33dfacf5"
      },
      "source": [
        "# plot Q-Q plot for age\n",
        "import scipy.stats as stats\n",
        "stats.probplot(df['Total Time Spent'], dist=\"norm\", plot=plt)\n",
        "plt.show()"
      ],
      "execution_count": null,
      "outputs": [
        {
          "output_type": "display_data",
          "data": {
            "image/png": "[encoded data removed]",
            "text/plain": [
              "<Figure size 432x288 with 1 Axes>"
            ]
          },
          "metadata": {
            "needs_background": "light"
          }
        }
      ]
    },
    {
      "cell_type": "markdown",
      "metadata": {
        "id": "6MqRsokjF8-P"
      },
      "source": [
        "#### Apply sqrt transformation to reduce the skewness\n",
        "#### Functionn- sqrt"
      ]
    },
    {
      "cell_type": "code",
      "metadata": {
        "id": "nwfLvn_zFWgZ"
      },
      "source": [
        "from sklearn.preprocessing import FunctionTransformer\n",
        "\n",
        "# Define required columns for logarithm transformation\n",
        "columns = ['Total Time Spent']\n",
        "\n",
        "# Init log transformer with logarithm transformation \n",
        "# Natural logarithm function with plus 1 - log(1 + x)\n",
        "log = FunctionTransformer(np.sqrt)\n",
        "\n",
        "# Apply the transformation for train data\n",
        "tansformed_df = log.transform(df[columns])\n",
        "\n",
        "# Re-init dataframe by new values\n",
        "df_new = pd.DataFrame(tansformed_df, columns=columns)"
      ],
      "execution_count": null,
      "outputs": []
    },
    {
      "cell_type": "markdown",
      "metadata": {
        "id": "gpO2k9DnGK26"
      },
      "source": [
        "#### Check effect of transformation"
      ]
    },
    {
      "cell_type": "code",
      "metadata": {
        "colab": {
          "base_uri": "https://localhost:8080/",
          "height": 316
        },
        "id": "_NLkfPh-GJOf",
        "outputId": "1b6fb85f-8c20-4f6b-94cf-292fa61412dc"
      },
      "source": [
        "df_new.hist()"
      ],
      "execution_count": null,
      "outputs": [
        {
          "output_type": "execute_result",
          "data": {
            "text/plain": [
              "array([[<matplotlib.axes._subplots.AxesSubplot object at 0x7fdd66596fd0>]],\n",
              "      dtype=object)"
            ]
          },
          "metadata": {},
          "execution_count": 63
        },
        {
          "output_type": "display_data",
          "data": {
            "image/png": "[encoded data removed]",
            "text/plain": [
              "<Figure size 432x288 with 1 Axes>"
            ]
          },
          "metadata": {
            "needs_background": "light"
          }
        }
      ]
    },
    {
      "cell_type": "code",
      "metadata": {
        "id": "AhjcacumGlaf"
      },
      "source": [
        "# Replace df data with new values\n",
        "df[columns] = df_new[columns]"
      ],
      "execution_count": null,
      "outputs": []
    },
    {
      "cell_type": "markdown",
      "metadata": {
        "id": "A0_bEWVTGvwx"
      },
      "source": [
        "#### Sqrt transformation reduced the skewness\n",
        "#### Again apply and check whether skewness can be reduced further"
      ]
    },
    {
      "cell_type": "code",
      "metadata": {
        "id": "qmZxT2e-Gr0E"
      },
      "source": [
        "# Define required columns for logarithm transformation\n",
        "columns = ['Total Time Spent']\n",
        "\n",
        "# Init log transformer with logarithm transformation \n",
        "# Natural logarithm function with plus 1 - log(1 + x)\n",
        "log = FunctionTransformer(np.sqrt)\n",
        "\n",
        "# Apply the transformation for train data\n",
        "tansformed_df = log.transform(df[columns])\n",
        "\n",
        "# Re-init dataframe by new values\n",
        "df_new = pd.DataFrame(tansformed_df, columns=columns)"
      ],
      "execution_count": null,
      "outputs": []
    },
    {
      "cell_type": "code",
      "metadata": {
        "colab": {
          "base_uri": "https://localhost:8080/",
          "height": 316
        },
        "id": "oz9gLTqhHMdS",
        "outputId": "4e857af0-eb01-4f7b-9885-f6d8b80632e4"
      },
      "source": [
        "df_new.hist()"
      ],
      "execution_count": null,
      "outputs": [
        {
          "output_type": "execute_result",
          "data": {
            "text/plain": [
              "array([[<matplotlib.axes._subplots.AxesSubplot object at 0x7fdd662fef10>]],\n",
              "      dtype=object)"
            ]
          },
          "metadata": {},
          "execution_count": 66
        },
        {
          "output_type": "display_data",
          "data": {
            "image/png": "[encoded data removed]",
            "text/plain": [
              "<Figure size 432x288 with 1 Axes>"
            ]
          },
          "metadata": {
            "needs_background": "light"
          }
        }
      ]
    },
    {
      "cell_type": "code",
      "metadata": {
        "id": "ARu4O3_8HOhF"
      },
      "source": [
        "# Replace df data with new values\n",
        "df[columns] = df_new[columns]"
      ],
      "execution_count": null,
      "outputs": []
    },
    {
      "cell_type": "markdown",
      "metadata": {
        "id": "64nmYVC1HSOT"
      },
      "source": [
        "#### Now, it is well distributed"
      ]
    },
    {
      "cell_type": "code",
      "metadata": {
        "colab": {
          "base_uri": "https://localhost:8080/",
          "height": 367
        },
        "id": "flnY4mw-HRlL",
        "outputId": "4720a827-89be-49ae-e6f7-040b1b1685e7"
      },
      "source": [
        "#### Verify Distribution again\n",
        "\n",
        "df.hist()"
      ],
      "execution_count": null,
      "outputs": [
        {
          "output_type": "execute_result",
          "data": {
            "text/plain": [
              "array([[<matplotlib.axes._subplots.AxesSubplot object at 0x7fdd6620e2d0>,\n",
              "        <matplotlib.axes._subplots.AxesSubplot object at 0x7fdd662feed0>],\n",
              "       [<matplotlib.axes._subplots.AxesSubplot object at 0x7fdd66291250>,\n",
              "        <matplotlib.axes._subplots.AxesSubplot object at 0x7fdd676bbd90>]],\n",
              "      dtype=object)"
            ]
          },
          "metadata": {},
          "execution_count": 68
        },
        {
          "output_type": "display_data",
          "data": {
            "image/png": "[encoded data removed]",
            "text/plain": [
              "<Figure size 432x288 with 4 Axes>"
            ]
          },
          "metadata": {
            "needs_background": "light"
          }
        }
      ]
    },
    {
      "cell_type": "code",
      "metadata": {
        "colab": {
          "base_uri": "https://localhost:8080/",
          "height": 282
        },
        "id": "R65qRSTNHmoS",
        "outputId": "cd655415-345a-4043-911a-444438ed1f72"
      },
      "source": [
        "df['Time Taken for First Response'].hist()"
      ],
      "execution_count": null,
      "outputs": [
        {
          "output_type": "execute_result",
          "data": {
            "text/plain": [
              "<matplotlib.axes._subplots.AxesSubplot at 0x7fdd661f4110>"
            ]
          },
          "metadata": {},
          "execution_count": 69
        },
        {
          "output_type": "display_data",
          "data": {
            "image/png": "[encoded data removed]",
            "text/plain": [
              "<Figure size 432x288 with 1 Axes>"
            ]
          },
          "metadata": {
            "needs_background": "light"
          }
        }
      ]
    },
    {
      "cell_type": "markdown",
      "metadata": {
        "id": "C_PBEzYVKc0g"
      },
      "source": [
        "### Time Taken for First Response is right skewness"
      ]
    },
    {
      "cell_type": "code",
      "metadata": {
        "id": "BT39lrKgI2MP"
      },
      "source": [
        "# Define required columns for logarithm transformation\n",
        "columns = ['Time Taken for First Response']\n",
        "\n",
        "# Init log transformer with logarithm transformation \n",
        "# Natural logarithm function with plus 1 - log(1 + x)\n",
        "log = FunctionTransformer(np.sqrt)\n",
        "\n",
        "# Apply the transformation for train data\n",
        "tansformed_df = log.transform(df[columns])\n",
        "\n",
        "# Re-init dataframe by new values\n",
        "df_new = pd.DataFrame(tansformed_df, columns=columns)"
      ],
      "execution_count": null,
      "outputs": []
    },
    {
      "cell_type": "code",
      "metadata": {
        "colab": {
          "base_uri": "https://localhost:8080/",
          "height": 316
        },
        "id": "FPIGW1CjI_AV",
        "outputId": "b54400f8-bc56-4f43-8403-53d56141f52d"
      },
      "source": [
        "df_new.hist()"
      ],
      "execution_count": null,
      "outputs": [
        {
          "output_type": "execute_result",
          "data": {
            "text/plain": [
              "array([[<matplotlib.axes._subplots.AxesSubplot object at 0x7fdd6616f5d0>]],\n",
              "      dtype=object)"
            ]
          },
          "metadata": {},
          "execution_count": 71
        },
        {
          "output_type": "display_data",
          "data": {
            "image/png": "[encoded data removed]",
            "text/plain": [
              "<Figure size 432x288 with 1 Axes>"
            ]
          },
          "metadata": {
            "needs_background": "light"
          }
        }
      ]
    },
    {
      "cell_type": "code",
      "metadata": {
        "id": "pwRUSDhnJDW0"
      },
      "source": [
        "# Replace df data with new values\n",
        "df[columns] = df_new[columns]"
      ],
      "execution_count": null,
      "outputs": []
    },
    {
      "cell_type": "markdown",
      "metadata": {
        "id": "I8V1EyIUKpHi"
      },
      "source": [
        "### Check again by applying sqrt transformation"
      ]
    },
    {
      "cell_type": "code",
      "metadata": {
        "id": "Pmm4TgwbKoFJ"
      },
      "source": [
        "# Define required columns for logarithm transformation\n",
        "columns = ['Time Taken for First Response']\n",
        "\n",
        "# Init log transformer with logarithm transformation \n",
        "# Natural logarithm function with plus 1 - log(1 + x)\n",
        "log = FunctionTransformer(np.sqrt)\n",
        "\n",
        "# Apply the transformation for train data\n",
        "tansformed_df = log.transform(df[columns])\n",
        "\n",
        "# Re-init dataframe by new values\n",
        "df_new = pd.DataFrame(tansformed_df, columns=columns)"
      ],
      "execution_count": null,
      "outputs": []
    },
    {
      "cell_type": "code",
      "metadata": {
        "colab": {
          "base_uri": "https://localhost:8080/",
          "height": 316
        },
        "id": "vDbHZq_FKxUk",
        "outputId": "d8c19c0d-98a9-4c48-e858-a18a4e6ab28a"
      },
      "source": [
        "df_new.hist()"
      ],
      "execution_count": null,
      "outputs": [
        {
          "output_type": "execute_result",
          "data": {
            "text/plain": [
              "array([[<matplotlib.axes._subplots.AxesSubplot object at 0x7fdd660f8c50>]],\n",
              "      dtype=object)"
            ]
          },
          "metadata": {},
          "execution_count": 74
        },
        {
          "output_type": "display_data",
          "data": {
            "image/png": "[encoded data removed]",
            "text/plain": [
              "<Figure size 432x288 with 1 Axes>"
            ]
          },
          "metadata": {
            "needs_background": "light"
          }
        }
      ]
    },
    {
      "cell_type": "code",
      "metadata": {
        "id": "F7uakHHPK7gQ"
      },
      "source": [
        "# Replace df data with new values\n",
        "df[columns] = df_new[columns]"
      ],
      "execution_count": null,
      "outputs": []
    },
    {
      "cell_type": "markdown",
      "metadata": {
        "id": "FVKZe-M-K3zU"
      },
      "source": [
        "### Check again by applying sqrt transformation\n"
      ]
    },
    {
      "cell_type": "code",
      "metadata": {
        "id": "kOwsSF6rK1Xd"
      },
      "source": [
        "# Define required columns for logarithm transformation\n",
        "columns = ['Time Taken for First Response']\n",
        "\n",
        "# Init log transformer with logarithm transformation \n",
        "# Natural logarithm function with plus 1 - log(1 + x)\n",
        "log = FunctionTransformer(np.sqrt)\n",
        "\n",
        "# Apply the transformation for train data\n",
        "tansformed_df = log.transform(df[columns])\n",
        "\n",
        "# Re-init dataframe by new values\n",
        "df_new = pd.DataFrame(tansformed_df, columns=columns)"
      ],
      "execution_count": null,
      "outputs": []
    },
    {
      "cell_type": "code",
      "metadata": {
        "colab": {
          "base_uri": "https://localhost:8080/",
          "height": 316
        },
        "id": "8KRAHlIlK_YL",
        "outputId": "613d8312-46d6-489d-f29d-6625b6232bcc"
      },
      "source": [
        "df_new.hist()"
      ],
      "execution_count": null,
      "outputs": [
        {
          "output_type": "execute_result",
          "data": {
            "text/plain": [
              "array([[<matplotlib.axes._subplots.AxesSubplot object at 0x7fdd66072710>]],\n",
              "      dtype=object)"
            ]
          },
          "metadata": {},
          "execution_count": 77
        },
        {
          "output_type": "display_data",
          "data": {
            "image/png": "[encoded data removed]",
            "text/plain": [
              "<Figure size 432x288 with 1 Axes>"
            ]
          },
          "metadata": {
            "needs_background": "light"
          }
        }
      ]
    },
    {
      "cell_type": "code",
      "metadata": {
        "id": "3wOokpDTLCkv"
      },
      "source": [
        "# Replace df data with new values\n",
        "df[columns] = df_new[columns]"
      ],
      "execution_count": null,
      "outputs": []
    },
    {
      "cell_type": "markdown",
      "metadata": {
        "id": "yiNmVNFHLEwM"
      },
      "source": [
        "### Now, it is well distributed"
      ]
    },
    {
      "cell_type": "code",
      "metadata": {
        "colab": {
          "base_uri": "https://localhost:8080/",
          "height": 367
        },
        "id": "Ktq4rQuKLMQ8",
        "outputId": "95c61cc4-2f72-465c-81eb-4e5b9dcf7f08"
      },
      "source": [
        "df.hist()"
      ],
      "execution_count": null,
      "outputs": [
        {
          "output_type": "execute_result",
          "data": {
            "text/plain": [
              "array([[<matplotlib.axes._subplots.AxesSubplot object at 0x7fdd65f8dc10>,\n",
              "        <matplotlib.axes._subplots.AxesSubplot object at 0x7fdd65fbf810>],\n",
              "       [<matplotlib.axes._subplots.AxesSubplot object at 0x7fdd65f72e90>,\n",
              "        <matplotlib.axes._subplots.AxesSubplot object at 0x7fdd65f34550>]],\n",
              "      dtype=object)"
            ]
          },
          "metadata": {},
          "execution_count": 79
        },
        {
          "output_type": "display_data",
          "data": {
            "image/png": "[encoded data removed]",
            "text/plain": [
              "<Figure size 432x288 with 4 Axes>"
            ]
          },
          "metadata": {
            "needs_background": "light"
          }
        }
      ]
    },
    {
      "cell_type": "markdown",
      "metadata": {
        "id": "A-lQKigqLIZX"
      },
      "source": [
        "### Feature Transformations Completed"
      ]
    },
    {
      "cell_type": "markdown",
      "metadata": {
        "id": "I4ctQ_Ewcfzw"
      },
      "source": [
        "## Label Coding"
      ]
    },
    {
      "cell_type": "markdown",
      "metadata": {
        "id": "6Ji0WkEpc--g"
      },
      "source": [
        "#### Here, i used label coding since, the target is categorical and the domain is classification it does not create order of label "
      ]
    },
    {
      "cell_type": "code",
      "metadata": {
        "colab": {
          "base_uri": "https://localhost:8080/",
          "height": 206
        },
        "id": "4ugav7Jsc9w2",
        "outputId": "59e163af-b656-4266-91be-1aa2caed4fef"
      },
      "source": [
        "df.head()"
      ],
      "execution_count": null,
      "outputs": [
        {
          "output_type": "execute_result",
          "data": {
            "text/html": [
              "<div>\n",
              "<style scoped>\n",
              "    .dataframe tbody tr th:only-of-type {\n",
              "        vertical-align: middle;\n",
              "    }\n",
              "\n",
              "    .dataframe tbody tr th {\n",
              "        vertical-align: top;\n",
              "    }\n",
              "\n",
              "    .dataframe thead th {\n",
              "        text-align: right;\n",
              "    }\n",
              "</style>\n",
              "<table border=\"1\" class=\"dataframe\">\n",
              "  <thead>\n",
              "    <tr style=\"text-align: right;\">\n",
              "      <th></th>\n",
              "      <th>Priority</th>\n",
              "      <th>Status</th>\n",
              "      <th>Resolution</th>\n",
              "      <th>Total Time Spent</th>\n",
              "      <th>Issue Category and Classification</th>\n",
              "      <th>Estimated SLA in Hours</th>\n",
              "      <th>Client Satisfaction</th>\n",
              "      <th>Project Name</th>\n",
              "      <th>Time Taken for First Response</th>\n",
              "    </tr>\n",
              "  </thead>\n",
              "  <tbody>\n",
              "    <tr>\n",
              "      <th>0</th>\n",
              "      <td>Critical</td>\n",
              "      <td>Closed</td>\n",
              "      <td>Fixed</td>\n",
              "      <td>10.594797</td>\n",
              "      <td>Defect - Coding error</td>\n",
              "      <td>4.0</td>\n",
              "      <td>Satsfied</td>\n",
              "      <td>Apache Cordova</td>\n",
              "      <td>3.776581</td>\n",
              "    </tr>\n",
              "    <tr>\n",
              "      <th>1</th>\n",
              "      <td>Medium</td>\n",
              "      <td>Verified</td>\n",
              "      <td>Fixed</td>\n",
              "      <td>10.194265</td>\n",
              "      <td>N/A</td>\n",
              "      <td>6.0</td>\n",
              "      <td>Satsfied</td>\n",
              "      <td>UIMA</td>\n",
              "      <td>1.402851</td>\n",
              "    </tr>\n",
              "    <tr>\n",
              "      <th>2</th>\n",
              "      <td>Medium</td>\n",
              "      <td>Closed</td>\n",
              "      <td>Fixed</td>\n",
              "      <td>20.648974</td>\n",
              "      <td>N/A</td>\n",
              "      <td>6.0</td>\n",
              "      <td>Not Satisfied</td>\n",
              "      <td>Mesos</td>\n",
              "      <td>3.107170</td>\n",
              "    </tr>\n",
              "    <tr>\n",
              "      <th>3</th>\n",
              "      <td>Medium</td>\n",
              "      <td>Closed</td>\n",
              "      <td>Responded</td>\n",
              "      <td>10.594797</td>\n",
              "      <td>N/A</td>\n",
              "      <td>6.0</td>\n",
              "      <td>Satsfied</td>\n",
              "      <td>Beam</td>\n",
              "      <td>2.325050</td>\n",
              "    </tr>\n",
              "    <tr>\n",
              "      <th>4</th>\n",
              "      <td>Critical</td>\n",
              "      <td>Closed</td>\n",
              "      <td>Fixed</td>\n",
              "      <td>13.229944</td>\n",
              "      <td>N/A</td>\n",
              "      <td>4.0</td>\n",
              "      <td>Not Satisfied</td>\n",
              "      <td>Mesos</td>\n",
              "      <td>2.181015</td>\n",
              "    </tr>\n",
              "  </tbody>\n",
              "</table>\n",
              "</div>"
            ],
            "text/plain": [
              "   Priority    Status  ...    Project Name  Time Taken for First Response\n",
              "0  Critical    Closed  ...  Apache Cordova                       3.776581\n",
              "1    Medium  Verified  ...            UIMA                       1.402851\n",
              "2    Medium    Closed  ...           Mesos                       3.107170\n",
              "3    Medium    Closed  ...            Beam                       2.325050\n",
              "4  Critical    Closed  ...           Mesos                       2.181015\n",
              "\n",
              "[5 rows x 9 columns]"
            ]
          },
          "metadata": {},
          "execution_count": 80
        }
      ]
    },
    {
      "cell_type": "code",
      "metadata": {
        "colab": {
          "base_uri": "https://localhost:8080/"
        },
        "id": "mkXTcdE0ci7l",
        "outputId": "c63d0d1d-07c8-4477-eabc-f1f002e511b0"
      },
      "source": [
        "priority_codes = dict()\n",
        "index = 0\n",
        "for topic in list(df['Priority'].unique()):\n",
        "    priority_codes[topic] = index\n",
        "    index += 1\n",
        "\n",
        "priority_codes"
      ],
      "execution_count": null,
      "outputs": [
        {
          "output_type": "execute_result",
          "data": {
            "text/plain": [
              "{'Blocker': 3, 'Critical': 0, 'Low': 2, 'Medium': 1}"
            ]
          },
          "metadata": {},
          "execution_count": 81
        }
      ]
    },
    {
      "cell_type": "code",
      "metadata": {
        "colab": {
          "base_uri": "https://localhost:8080/"
        },
        "id": "jGhV9WHRehno",
        "outputId": "cf70047e-d1e1-475f-be02-6b3f08ec5086"
      },
      "source": [
        "status_codes = dict()\n",
        "index = 0\n",
        "for topic in list(df['Status'].unique()):\n",
        "    status_codes[topic] = index\n",
        "    index += 1\n",
        "\n",
        "status_codes"
      ],
      "execution_count": null,
      "outputs": [
        {
          "output_type": "execute_result",
          "data": {
            "text/plain": [
              "{'Closed': 0,\n",
              " 'In Progress': 3,\n",
              " 'On Hold': 5,\n",
              " 'Open': 4,\n",
              " 'Reopened': 6,\n",
              " 'Resolved': 2,\n",
              " 'Verified': 1}"
            ]
          },
          "metadata": {},
          "execution_count": 82
        }
      ]
    },
    {
      "cell_type": "code",
      "metadata": {
        "colab": {
          "base_uri": "https://localhost:8080/"
        },
        "id": "yPxTDYVUexlt",
        "outputId": "45783cb6-dbef-4abf-f44e-26de20414c0a"
      },
      "source": [
        "resolution_codes = dict()\n",
        "index = 0\n",
        "for topic in list(df['Resolution'].unique()):\n",
        "    resolution_codes[topic] = index\n",
        "    index += 1\n",
        "\n",
        "resolution_codes"
      ],
      "execution_count": null,
      "outputs": [
        {
          "output_type": "execute_result",
          "data": {
            "text/plain": [
              "{'Await 3rd Party Feedback': 12,\n",
              " 'Await Client Feedback': 7,\n",
              " 'Cannot Reproduce': 5,\n",
              " 'Done': 2,\n",
              " 'Duplicate': 9,\n",
              " 'Fixed': 0,\n",
              " 'Incomplete': 13,\n",
              " 'Invalid': 6,\n",
              " 'Later': 11,\n",
              " 'N/A': 8,\n",
              " 'Responded': 1,\n",
              " \"Won't Do\": 10,\n",
              " \"Won't Fix\": 3,\n",
              " 'Works for Me': 4}"
            ]
          },
          "metadata": {},
          "execution_count": 83
        }
      ]
    },
    {
      "cell_type": "code",
      "metadata": {
        "colab": {
          "base_uri": "https://localhost:8080/"
        },
        "id": "Tl-Kc99xe8LE",
        "outputId": "c7cf80a6-70b1-49a5-8777-6ba942707d23"
      },
      "source": [
        "issue_codes = dict()\n",
        "index = 0\n",
        "for topic in list(df['Issue Category and Classification'].unique()):\n",
        "    issue_codes[topic] = index\n",
        "    index += 1\n",
        "\n",
        "issue_codes"
      ],
      "execution_count": null,
      "outputs": [
        {
          "output_type": "execute_result",
          "data": {
            "text/plain": [
              "{'Connectivity_Issue': 22,\n",
              " 'Connectivity_Issue - Infrastructure Issue': 18,\n",
              " 'Connectivity_Issue - Third party Issue': 16,\n",
              " 'Data_Correction': 20,\n",
              " 'Data_Correction - Not an error': 11,\n",
              " 'Defect': 9,\n",
              " 'Defect - Coding error': 0,\n",
              " 'Defect - Incorrect Requirement': 27,\n",
              " 'Defect - Incorrect design': 7,\n",
              " 'Defect - Misunderstood design': 13,\n",
              " 'Defect - Misunderstood requirement': 14,\n",
              " 'Defect - Omitted Requirement': 17,\n",
              " 'Defect - Performance Issue': 21,\n",
              " 'Enhancement': 24,\n",
              " 'Enhancement - Enhancement': 3,\n",
              " 'Enhancement - Report request': 23,\n",
              " 'Explanation': 10,\n",
              " 'Explanation - Incomplete': 26,\n",
              " 'Explanation - Incorrect workflow': 19,\n",
              " 'Explanation - Lack of understanding': 25,\n",
              " 'Explanation - Not a defect': 2,\n",
              " 'Explanation - Unable to Re-create': 8,\n",
              " 'Invalid': 6,\n",
              " 'Invalid - Not an error': 4,\n",
              " 'N/A': 1,\n",
              " 'Setup_Issue': 12,\n",
              " 'Setup_Issue - Config error': 5,\n",
              " 'Setup_Issue - Data setup': 15}"
            ]
          },
          "metadata": {},
          "execution_count": 84
        }
      ]
    },
    {
      "cell_type": "code",
      "metadata": {
        "colab": {
          "base_uri": "https://localhost:8080/"
        },
        "id": "1dZ4HPBhfNe-",
        "outputId": "9fbc0c8e-7189-4fc4-abd3-84ea3b9b17a2"
      },
      "source": [
        "client_satis_codes = dict()\n",
        "index = 0\n",
        "for topic in list(df['Client Satisfaction'].unique()):\n",
        "    client_satis_codes[topic] = index\n",
        "    index += 1\n",
        "\n",
        "client_satis_codes"
      ],
      "execution_count": null,
      "outputs": [
        {
          "output_type": "execute_result",
          "data": {
            "text/plain": [
              "{'Not Satisfied': 1, 'Satsfied': 0}"
            ]
          },
          "metadata": {},
          "execution_count": 85
        }
      ]
    },
    {
      "cell_type": "code",
      "metadata": {
        "colab": {
          "base_uri": "https://localhost:8080/"
        },
        "id": "XzMX_ocPfmHY",
        "outputId": "17e6e0f0-9528-4b82-926a-c5886059f094"
      },
      "source": [
        "project_codes = dict()\n",
        "index = 0\n",
        "for topic in list(df['Project Name'].unique()):\n",
        "    project_codes[topic] = index\n",
        "    index += 1\n",
        "\n",
        "project_codes"
      ],
      "execution_count": null,
      "outputs": [
        {
          "output_type": "execute_result",
          "data": {
            "text/plain": [
              "{'Apache Cordova': 0, 'Atlas': 4, 'Beam': 3, 'Mesos': 2, 'UIMA': 1}"
            ]
          },
          "metadata": {},
          "execution_count": 86
        }
      ]
    },
    {
      "cell_type": "code",
      "metadata": {
        "id": "pKfGnwqpf0Md"
      },
      "source": [
        "#### Encoding\n",
        "\n",
        "df.replace({'Priority' : priority_codes,'Status' : status_codes,'Resolution' : resolution_codes, 'Issue Category and Classification' : issue_codes, 'Client Satisfaction'  : client_satis_codes, 'Project Name' : project_codes}, inplace=True)"
      ],
      "execution_count": null,
      "outputs": []
    },
    {
      "cell_type": "code",
      "metadata": {
        "colab": {
          "base_uri": "https://localhost:8080/",
          "height": 206
        },
        "id": "euj8-LJalcA6",
        "outputId": "d72fcc52-0b02-46ca-c88f-f92bc6103cc7"
      },
      "source": [
        "df.head()"
      ],
      "execution_count": null,
      "outputs": [
        {
          "output_type": "execute_result",
          "data": {
            "text/html": [
              "<div>\n",
              "<style scoped>\n",
              "    .dataframe tbody tr th:only-of-type {\n",
              "        vertical-align: middle;\n",
              "    }\n",
              "\n",
              "    .dataframe tbody tr th {\n",
              "        vertical-align: top;\n",
              "    }\n",
              "\n",
              "    .dataframe thead th {\n",
              "        text-align: right;\n",
              "    }\n",
              "</style>\n",
              "<table border=\"1\" class=\"dataframe\">\n",
              "  <thead>\n",
              "    <tr style=\"text-align: right;\">\n",
              "      <th></th>\n",
              "      <th>Priority</th>\n",
              "      <th>Status</th>\n",
              "      <th>Resolution</th>\n",
              "      <th>Total Time Spent</th>\n",
              "      <th>Issue Category and Classification</th>\n",
              "      <th>Estimated SLA in Hours</th>\n",
              "      <th>Client Satisfaction</th>\n",
              "      <th>Project Name</th>\n",
              "      <th>Time Taken for First Response</th>\n",
              "    </tr>\n",
              "  </thead>\n",
              "  <tbody>\n",
              "    <tr>\n",
              "      <th>0</th>\n",
              "      <td>0</td>\n",
              "      <td>0</td>\n",
              "      <td>0</td>\n",
              "      <td>10.594797</td>\n",
              "      <td>0</td>\n",
              "      <td>4.0</td>\n",
              "      <td>0</td>\n",
              "      <td>0</td>\n",
              "      <td>3.776581</td>\n",
              "    </tr>\n",
              "    <tr>\n",
              "      <th>1</th>\n",
              "      <td>1</td>\n",
              "      <td>1</td>\n",
              "      <td>0</td>\n",
              "      <td>10.194265</td>\n",
              "      <td>1</td>\n",
              "      <td>6.0</td>\n",
              "      <td>0</td>\n",
              "      <td>1</td>\n",
              "      <td>1.402851</td>\n",
              "    </tr>\n",
              "    <tr>\n",
              "      <th>2</th>\n",
              "      <td>1</td>\n",
              "      <td>0</td>\n",
              "      <td>0</td>\n",
              "      <td>20.648974</td>\n",
              "      <td>1</td>\n",
              "      <td>6.0</td>\n",
              "      <td>1</td>\n",
              "      <td>2</td>\n",
              "      <td>3.107170</td>\n",
              "    </tr>\n",
              "    <tr>\n",
              "      <th>3</th>\n",
              "      <td>1</td>\n",
              "      <td>0</td>\n",
              "      <td>1</td>\n",
              "      <td>10.594797</td>\n",
              "      <td>1</td>\n",
              "      <td>6.0</td>\n",
              "      <td>0</td>\n",
              "      <td>3</td>\n",
              "      <td>2.325050</td>\n",
              "    </tr>\n",
              "    <tr>\n",
              "      <th>4</th>\n",
              "      <td>0</td>\n",
              "      <td>0</td>\n",
              "      <td>0</td>\n",
              "      <td>13.229944</td>\n",
              "      <td>1</td>\n",
              "      <td>4.0</td>\n",
              "      <td>1</td>\n",
              "      <td>2</td>\n",
              "      <td>2.181015</td>\n",
              "    </tr>\n",
              "  </tbody>\n",
              "</table>\n",
              "</div>"
            ],
            "text/plain": [
              "   Priority  Status  ...  Project Name  Time Taken for First Response\n",
              "0         0       0  ...             0                       3.776581\n",
              "1         1       1  ...             1                       1.402851\n",
              "2         1       0  ...             2                       3.107170\n",
              "3         1       0  ...             3                       2.325050\n",
              "4         0       0  ...             2                       2.181015\n",
              "\n",
              "[5 rows x 9 columns]"
            ]
          },
          "metadata": {},
          "execution_count": 88
        }
      ]
    },
    {
      "cell_type": "markdown",
      "metadata": {
        "id": "ML7lOW5pLqOq"
      },
      "source": [
        "### Next step is feature scaling. Before that, it is better to split the dataset to avoid and ensure data leak from train to test"
      ]
    },
    {
      "cell_type": "markdown",
      "metadata": {
        "id": "5DF3sc43L6za"
      },
      "source": [
        "## Split the Dataset"
      ]
    },
    {
      "cell_type": "code",
      "metadata": {
        "colab": {
          "base_uri": "https://localhost:8080/"
        },
        "id": "7TzMsH7Dl9jl",
        "outputId": "35bd430f-1e84-4adf-e6c6-80a06bf60179"
      },
      "source": [
        "df.columns"
      ],
      "execution_count": null,
      "outputs": [
        {
          "output_type": "execute_result",
          "data": {
            "text/plain": [
              "Index(['Priority', 'Status', 'Resolution', 'Total Time Spent',\n",
              "       'Issue Category and Classification', 'Estimated SLA in Hours',\n",
              "       'Client Satisfaction', 'Project Name', 'Time Taken for First Response'],\n",
              "      dtype='object')"
            ]
          },
          "metadata": {},
          "execution_count": 89
        }
      ]
    },
    {
      "cell_type": "code",
      "metadata": {
        "id": "yDnDv2Xrl1Cx"
      },
      "source": [
        "# define features as X and target as y\n",
        "\n",
        "X = df.drop('Client Satisfaction',axis=1)\n",
        "y = pd.DataFrame(df['Client Satisfaction'],columns = ['Client Satisfaction'])"
      ],
      "execution_count": null,
      "outputs": []
    },
    {
      "cell_type": "code",
      "metadata": {
        "colab": {
          "base_uri": "https://localhost:8080/",
          "height": 206
        },
        "id": "7dtwvDrHL95Q",
        "outputId": "458448d6-abcd-472e-e6d1-8b0e29e395e3"
      },
      "source": [
        "from sklearn.model_selection import train_test_split\n",
        "\n",
        "# spliting dataset\n",
        "X_train,X_test,y_train,y_test = train_test_split(X,y,test_size=0.2,random_state = 101)\n",
        "\n",
        "# reset indexes\n",
        "X_train = X_train.reset_index(drop=True)\n",
        "X_test = X_test.reset_index(drop=True)\n",
        "y_train = y_train.reset_index(drop=True)\n",
        "y_test = y_test.reset_index(drop=True)\n",
        "\n",
        "X_train.head(5)"
      ],
      "execution_count": null,
      "outputs": [
        {
          "output_type": "execute_result",
          "data": {
            "text/html": [
              "<div>\n",
              "<style scoped>\n",
              "    .dataframe tbody tr th:only-of-type {\n",
              "        vertical-align: middle;\n",
              "    }\n",
              "\n",
              "    .dataframe tbody tr th {\n",
              "        vertical-align: top;\n",
              "    }\n",
              "\n",
              "    .dataframe thead th {\n",
              "        text-align: right;\n",
              "    }\n",
              "</style>\n",
              "<table border=\"1\" class=\"dataframe\">\n",
              "  <thead>\n",
              "    <tr style=\"text-align: right;\">\n",
              "      <th></th>\n",
              "      <th>Priority</th>\n",
              "      <th>Status</th>\n",
              "      <th>Resolution</th>\n",
              "      <th>Total Time Spent</th>\n",
              "      <th>Issue Category and Classification</th>\n",
              "      <th>Estimated SLA in Hours</th>\n",
              "      <th>Project Name</th>\n",
              "      <th>Time Taken for First Response</th>\n",
              "    </tr>\n",
              "  </thead>\n",
              "  <tbody>\n",
              "    <tr>\n",
              "      <th>0</th>\n",
              "      <td>0</td>\n",
              "      <td>0</td>\n",
              "      <td>1</td>\n",
              "      <td>15.369458</td>\n",
              "      <td>1</td>\n",
              "      <td>4.0</td>\n",
              "      <td>3</td>\n",
              "      <td>1.516683</td>\n",
              "    </tr>\n",
              "    <tr>\n",
              "      <th>1</th>\n",
              "      <td>1</td>\n",
              "      <td>0</td>\n",
              "      <td>0</td>\n",
              "      <td>12.368128</td>\n",
              "      <td>1</td>\n",
              "      <td>6.0</td>\n",
              "      <td>0</td>\n",
              "      <td>3.162317</td>\n",
              "    </tr>\n",
              "    <tr>\n",
              "      <th>2</th>\n",
              "      <td>0</td>\n",
              "      <td>0</td>\n",
              "      <td>0</td>\n",
              "      <td>8.572321</td>\n",
              "      <td>1</td>\n",
              "      <td>4.0</td>\n",
              "      <td>2</td>\n",
              "      <td>2.954059</td>\n",
              "    </tr>\n",
              "    <tr>\n",
              "      <th>3</th>\n",
              "      <td>1</td>\n",
              "      <td>1</td>\n",
              "      <td>0</td>\n",
              "      <td>15.115330</td>\n",
              "      <td>1</td>\n",
              "      <td>6.0</td>\n",
              "      <td>1</td>\n",
              "      <td>3.651427</td>\n",
              "    </tr>\n",
              "    <tr>\n",
              "      <th>4</th>\n",
              "      <td>0</td>\n",
              "      <td>0</td>\n",
              "      <td>2</td>\n",
              "      <td>13.027111</td>\n",
              "      <td>1</td>\n",
              "      <td>4.0</td>\n",
              "      <td>2</td>\n",
              "      <td>2.258101</td>\n",
              "    </tr>\n",
              "  </tbody>\n",
              "</table>\n",
              "</div>"
            ],
            "text/plain": [
              "   Priority  Status  ...  Project Name  Time Taken for First Response\n",
              "0         0       0  ...             3                       1.516683\n",
              "1         1       0  ...             0                       3.162317\n",
              "2         0       0  ...             2                       2.954059\n",
              "3         1       1  ...             1                       3.651427\n",
              "4         0       0  ...             2                       2.258101\n",
              "\n",
              "[5 rows x 8 columns]"
            ]
          },
          "metadata": {},
          "execution_count": 91
        }
      ]
    },
    {
      "cell_type": "code",
      "metadata": {
        "colab": {
          "base_uri": "https://localhost:8080/",
          "height": 206
        },
        "id": "Lk3685F3m8lB",
        "outputId": "639d8b43-1dde-40b4-9f8d-6d781aef21ba"
      },
      "source": [
        "y_train.head()"
      ],
      "execution_count": null,
      "outputs": [
        {
          "output_type": "execute_result",
          "data": {
            "text/html": [
              "<div>\n",
              "<style scoped>\n",
              "    .dataframe tbody tr th:only-of-type {\n",
              "        vertical-align: middle;\n",
              "    }\n",
              "\n",
              "    .dataframe tbody tr th {\n",
              "        vertical-align: top;\n",
              "    }\n",
              "\n",
              "    .dataframe thead th {\n",
              "        text-align: right;\n",
              "    }\n",
              "</style>\n",
              "<table border=\"1\" class=\"dataframe\">\n",
              "  <thead>\n",
              "    <tr style=\"text-align: right;\">\n",
              "      <th></th>\n",
              "      <th>Client Satisfaction</th>\n",
              "    </tr>\n",
              "  </thead>\n",
              "  <tbody>\n",
              "    <tr>\n",
              "      <th>0</th>\n",
              "      <td>1</td>\n",
              "    </tr>\n",
              "    <tr>\n",
              "      <th>1</th>\n",
              "      <td>1</td>\n",
              "    </tr>\n",
              "    <tr>\n",
              "      <th>2</th>\n",
              "      <td>0</td>\n",
              "    </tr>\n",
              "    <tr>\n",
              "      <th>3</th>\n",
              "      <td>1</td>\n",
              "    </tr>\n",
              "    <tr>\n",
              "      <th>4</th>\n",
              "      <td>1</td>\n",
              "    </tr>\n",
              "  </tbody>\n",
              "</table>\n",
              "</div>"
            ],
            "text/plain": [
              "   Client Satisfaction\n",
              "0                    1\n",
              "1                    1\n",
              "2                    0\n",
              "3                    1\n",
              "4                    1"
            ]
          },
          "metadata": {},
          "execution_count": 92
        }
      ]
    },
    {
      "cell_type": "code",
      "metadata": {
        "colab": {
          "base_uri": "https://localhost:8080/"
        },
        "id": "bCoyu9GDm_R6",
        "outputId": "66bcabee-2b4e-47f2-e5a7-28e3296951a4"
      },
      "source": [
        "print(f'X_train shape = {X_train.shape}, y_train shape = {y_train.shape}, X_test shape = {X_test.shape}, y_test shape = {y_test.shape}')"
      ],
      "execution_count": null,
      "outputs": [
        {
          "output_type": "stream",
          "name": "stdout",
          "text": [
            "X_train shape = (13550, 8), y_train shape = (13550, 1), X_test shape = (3388, 8), y_test shape = (3388, 1)\n"
          ]
        }
      ]
    },
    {
      "cell_type": "markdown",
      "metadata": {
        "id": "QomfiXQznR0i"
      },
      "source": [
        "## Feature Scaling (Standard Scaler)"
      ]
    },
    {
      "cell_type": "code",
      "metadata": {
        "colab": {
          "base_uri": "https://localhost:8080/",
          "height": 206
        },
        "id": "SKTo0WCLnXql",
        "outputId": "dce9d334-e691-4ad5-dfd7-5dbce2277b3b"
      },
      "source": [
        "from sklearn.preprocessing import StandardScaler\n",
        "\n",
        "# Removing Categorical Features before the feature scaling\n",
        "columns = X_train.columns\n",
        "columns_new = np.delete(columns,[0,1,2,4,5,6])\n",
        "removed_columns = np.delete(columns,[3,7])\n",
        "\n",
        "# Applying Standardization \n",
        "# Init StandardScaler\n",
        "scaler = StandardScaler() \n",
        "\n",
        "#Transformation of training dataset features\n",
        "X_train_except = pd.DataFrame(X_train, columns = columns_new)\n",
        "scaler.fit(X_train_except)\n",
        "X_train = pd.DataFrame(scaler.transform(X_train_except), columns = columns_new).join(X_train[removed_columns])\n",
        "\n",
        "#Transformation of testing dataset features\n",
        "X_test_except = pd.DataFrame(X_test, columns = columns_new)\n",
        "X_test = pd.DataFrame(scaler.transform(X_test_except), columns = columns_new).join(X_test[removed_columns])\n",
        "\n",
        "X_train.head()"
      ],
      "execution_count": null,
      "outputs": [
        {
          "output_type": "execute_result",
          "data": {
            "text/html": [
              "<div>\n",
              "<style scoped>\n",
              "    .dataframe tbody tr th:only-of-type {\n",
              "        vertical-align: middle;\n",
              "    }\n",
              "\n",
              "    .dataframe tbody tr th {\n",
              "        vertical-align: top;\n",
              "    }\n",
              "\n",
              "    .dataframe thead th {\n",
              "        text-align: right;\n",
              "    }\n",
              "</style>\n",
              "<table border=\"1\" class=\"dataframe\">\n",
              "  <thead>\n",
              "    <tr style=\"text-align: right;\">\n",
              "      <th></th>\n",
              "      <th>Total Time Spent</th>\n",
              "      <th>Time Taken for First Response</th>\n",
              "      <th>Priority</th>\n",
              "      <th>Status</th>\n",
              "      <th>Resolution</th>\n",
              "      <th>Issue Category and Classification</th>\n",
              "      <th>Estimated SLA in Hours</th>\n",
              "      <th>Project Name</th>\n",
              "    </tr>\n",
              "  </thead>\n",
              "  <tbody>\n",
              "    <tr>\n",
              "      <th>0</th>\n",
              "      <td>0.979634</td>\n",
              "      <td>-1.391846</td>\n",
              "      <td>0</td>\n",
              "      <td>0</td>\n",
              "      <td>1</td>\n",
              "      <td>1</td>\n",
              "      <td>4.0</td>\n",
              "      <td>3</td>\n",
              "    </tr>\n",
              "    <tr>\n",
              "      <th>1</th>\n",
              "      <td>0.089399</td>\n",
              "      <td>0.655444</td>\n",
              "      <td>1</td>\n",
              "      <td>0</td>\n",
              "      <td>0</td>\n",
              "      <td>1</td>\n",
              "      <td>6.0</td>\n",
              "      <td>0</td>\n",
              "    </tr>\n",
              "    <tr>\n",
              "      <th>2</th>\n",
              "      <td>-1.036488</td>\n",
              "      <td>0.396356</td>\n",
              "      <td>0</td>\n",
              "      <td>0</td>\n",
              "      <td>0</td>\n",
              "      <td>1</td>\n",
              "      <td>4.0</td>\n",
              "      <td>2</td>\n",
              "    </tr>\n",
              "    <tr>\n",
              "      <th>3</th>\n",
              "      <td>0.904257</td>\n",
              "      <td>1.263933</td>\n",
              "      <td>1</td>\n",
              "      <td>1</td>\n",
              "      <td>0</td>\n",
              "      <td>1</td>\n",
              "      <td>6.0</td>\n",
              "      <td>1</td>\n",
              "    </tr>\n",
              "    <tr>\n",
              "      <th>4</th>\n",
              "      <td>0.284863</td>\n",
              "      <td>-0.469467</td>\n",
              "      <td>0</td>\n",
              "      <td>0</td>\n",
              "      <td>2</td>\n",
              "      <td>1</td>\n",
              "      <td>4.0</td>\n",
              "      <td>2</td>\n",
              "    </tr>\n",
              "  </tbody>\n",
              "</table>\n",
              "</div>"
            ],
            "text/plain": [
              "   Total Time Spent  ...  Project Name\n",
              "0          0.979634  ...             3\n",
              "1          0.089399  ...             0\n",
              "2         -1.036488  ...             2\n",
              "3          0.904257  ...             1\n",
              "4          0.284863  ...             2\n",
              "\n",
              "[5 rows x 8 columns]"
            ]
          },
          "metadata": {},
          "execution_count": 94
        }
      ]
    },
    {
      "cell_type": "markdown",
      "metadata": {
        "id": "OlHVTTafn48_"
      },
      "source": [
        "### See feature scaling effect by usuing histrograms"
      ]
    },
    {
      "cell_type": "code",
      "metadata": {
        "colab": {
          "base_uri": "https://localhost:8080/",
          "height": 332
        },
        "id": "qUhijRcnnw9j",
        "outputId": "9bf4c0c9-9c3b-4a39-cc89-40a03b6c8a79"
      },
      "source": [
        "X_train[['Total Time Spent','Time Taken for First Response']].hist()"
      ],
      "execution_count": null,
      "outputs": [
        {
          "output_type": "execute_result",
          "data": {
            "text/plain": [
              "array([[<matplotlib.axes._subplots.AxesSubplot object at 0x7fdd65e3f650>,\n",
              "        <matplotlib.axes._subplots.AxesSubplot object at 0x7fdd6568fc90>]],\n",
              "      dtype=object)"
            ]
          },
          "metadata": {},
          "execution_count": 95
        },
        {
          "output_type": "display_data",
          "data": {
            "image/png": "[encoded data removed]",
            "text/plain": [
              "<Figure size 432x288 with 2 Axes>"
            ]
          },
          "metadata": {
            "needs_background": "light"
          }
        }
      ]
    },
    {
      "cell_type": "markdown",
      "metadata": {
        "id": "uZFh7_1Hpc4G"
      },
      "source": [
        "## Feature Engineering"
      ]
    },
    {
      "cell_type": "code",
      "metadata": {
        "colab": {
          "base_uri": "https://localhost:8080/",
          "height": 942
        },
        "id": "ilakt49OLTd0",
        "outputId": "acd5940b-bc09-45a5-b994-2b49f2fac307"
      },
      "source": [
        "# plot heatmap\n",
        "import seaborn as sns\n",
        "print(X_train.corr());\n",
        "plt.figure(figsize = (10,10))\n",
        "sns.heatmap(X_train.corr());"
      ],
      "execution_count": null,
      "outputs": [
        {
          "output_type": "stream",
          "name": "stdout",
          "text": [
            "                                   Total Time Spent  ...  Project Name\n",
            "Total Time Spent                           1.000000  ...     -0.179231\n",
            "Time Taken for First Response              0.113719  ...     -0.169203\n",
            "Priority                                  -0.019874  ...     -0.008802\n",
            "Status                                    -0.021385  ...      0.023140\n",
            "Resolution                                -0.074307  ...     -0.052729\n",
            "Issue Category and Classification         -0.018809  ...      0.066209\n",
            "Estimated SLA in Hours                    -0.062433  ...     -0.007263\n",
            "Project Name                              -0.179231  ...      1.000000\n",
            "\n",
            "[8 rows x 8 columns]\n"
          ]
        },
        {
          "output_type": "display_data",
          "data": {
            "image/png": "[encoded data removed]",
            "text/plain": [
              "<Figure size 720x720 with 2 Axes>"
            ]
          },
          "metadata": {
            "needs_background": "light"
          }
        }
      ]
    },
    {
      "cell_type": "markdown",
      "metadata": {
        "id": "6_I9tvSQpuY8"
      },
      "source": [
        "### It seems like all feature can be assemed as independet features, Since, there are no significant correlation to moderate or higer correlations"
      ]
    },
    {
      "cell_type": "markdown",
      "metadata": {
        "id": "sIrsCgVNcuaS"
      },
      "source": [
        ""
      ]
    },
    {
      "cell_type": "code",
      "metadata": {
        "colab": {
          "base_uri": "https://localhost:8080/",
          "height": 768
        },
        "id": "0VHWwI3mqtHf",
        "outputId": "8857d3d3-c7f5-43b9-86ee-ccd810475104"
      },
      "source": [
        "#test the signifncance of the continuous features\n",
        "d_data = pd.concat([y_train,X_train], axis=1, join=\"inner\")\n",
        "plt.figure(figsize = (10,10))\n",
        "sns.heatmap(d_data.corr()) "
      ],
      "execution_count": null,
      "outputs": [
        {
          "output_type": "execute_result",
          "data": {
            "text/plain": [
              "<matplotlib.axes._subplots.AxesSubplot at 0x7fdd6551df90>"
            ]
          },
          "metadata": {},
          "execution_count": 97
        },
        {
          "output_type": "display_data",
          "data": {
            "image/png": "[encoded data removed]",
            "text/plain": [
              "<Figure size 720x720 with 2 Axes>"
            ]
          },
          "metadata": {
            "needs_background": "light"
          }
        }
      ]
    },
    {
      "cell_type": "code",
      "metadata": {
        "colab": {
          "base_uri": "https://localhost:8080/",
          "height": 331
        },
        "id": "lZCk94N0q37M",
        "outputId": "afdb7c64-6854-43c7-b3ac-b05f74b5ef70"
      },
      "source": [
        "d_data.corr()"
      ],
      "execution_count": null,
      "outputs": [
        {
          "output_type": "execute_result",
          "data": {
            "text/html": [
              "<div>\n",
              "<style scoped>\n",
              "    .dataframe tbody tr th:only-of-type {\n",
              "        vertical-align: middle;\n",
              "    }\n",
              "\n",
              "    .dataframe tbody tr th {\n",
              "        vertical-align: top;\n",
              "    }\n",
              "\n",
              "    .dataframe thead th {\n",
              "        text-align: right;\n",
              "    }\n",
              "</style>\n",
              "<table border=\"1\" class=\"dataframe\">\n",
              "  <thead>\n",
              "    <tr style=\"text-align: right;\">\n",
              "      <th></th>\n",
              "      <th>Client Satisfaction</th>\n",
              "      <th>Total Time Spent</th>\n",
              "      <th>Time Taken for First Response</th>\n",
              "      <th>Priority</th>\n",
              "      <th>Status</th>\n",
              "      <th>Resolution</th>\n",
              "      <th>Issue Category and Classification</th>\n",
              "      <th>Estimated SLA in Hours</th>\n",
              "      <th>Project Name</th>\n",
              "    </tr>\n",
              "  </thead>\n",
              "  <tbody>\n",
              "    <tr>\n",
              "      <th>Client Satisfaction</th>\n",
              "      <td>1.000000</td>\n",
              "      <td>0.740382</td>\n",
              "      <td>0.081277</td>\n",
              "      <td>0.003342</td>\n",
              "      <td>-0.026179</td>\n",
              "      <td>-0.054019</td>\n",
              "      <td>-0.010493</td>\n",
              "      <td>-0.273430</td>\n",
              "      <td>-0.122595</td>\n",
              "    </tr>\n",
              "    <tr>\n",
              "      <th>Total Time Spent</th>\n",
              "      <td>0.740382</td>\n",
              "      <td>1.000000</td>\n",
              "      <td>0.113719</td>\n",
              "      <td>-0.019874</td>\n",
              "      <td>-0.021385</td>\n",
              "      <td>-0.074307</td>\n",
              "      <td>-0.018809</td>\n",
              "      <td>-0.062433</td>\n",
              "      <td>-0.179231</td>\n",
              "    </tr>\n",
              "    <tr>\n",
              "      <th>Time Taken for First Response</th>\n",
              "      <td>0.081277</td>\n",
              "      <td>0.113719</td>\n",
              "      <td>1.000000</td>\n",
              "      <td>-0.054259</td>\n",
              "      <td>0.024167</td>\n",
              "      <td>-0.022330</td>\n",
              "      <td>0.018479</td>\n",
              "      <td>0.078653</td>\n",
              "      <td>-0.169203</td>\n",
              "    </tr>\n",
              "    <tr>\n",
              "      <th>Priority</th>\n",
              "      <td>0.003342</td>\n",
              "      <td>-0.019874</td>\n",
              "      <td>-0.054259</td>\n",
              "      <td>1.000000</td>\n",
              "      <td>-0.008549</td>\n",
              "      <td>-0.003279</td>\n",
              "      <td>0.012715</td>\n",
              "      <td>0.001420</td>\n",
              "      <td>-0.008802</td>\n",
              "    </tr>\n",
              "    <tr>\n",
              "      <th>Status</th>\n",
              "      <td>-0.026179</td>\n",
              "      <td>-0.021385</td>\n",
              "      <td>0.024167</td>\n",
              "      <td>-0.008549</td>\n",
              "      <td>1.000000</td>\n",
              "      <td>0.316499</td>\n",
              "      <td>0.055305</td>\n",
              "      <td>0.015256</td>\n",
              "      <td>0.023140</td>\n",
              "    </tr>\n",
              "    <tr>\n",
              "      <th>Resolution</th>\n",
              "      <td>-0.054019</td>\n",
              "      <td>-0.074307</td>\n",
              "      <td>-0.022330</td>\n",
              "      <td>-0.003279</td>\n",
              "      <td>0.316499</td>\n",
              "      <td>1.000000</td>\n",
              "      <td>-0.022937</td>\n",
              "      <td>-0.004457</td>\n",
              "      <td>-0.052729</td>\n",
              "    </tr>\n",
              "    <tr>\n",
              "      <th>Issue Category and Classification</th>\n",
              "      <td>-0.010493</td>\n",
              "      <td>-0.018809</td>\n",
              "      <td>0.018479</td>\n",
              "      <td>0.012715</td>\n",
              "      <td>0.055305</td>\n",
              "      <td>-0.022937</td>\n",
              "      <td>1.000000</td>\n",
              "      <td>-0.041651</td>\n",
              "      <td>0.066209</td>\n",
              "    </tr>\n",
              "    <tr>\n",
              "      <th>Estimated SLA in Hours</th>\n",
              "      <td>-0.273430</td>\n",
              "      <td>-0.062433</td>\n",
              "      <td>0.078653</td>\n",
              "      <td>0.001420</td>\n",
              "      <td>0.015256</td>\n",
              "      <td>-0.004457</td>\n",
              "      <td>-0.041651</td>\n",
              "      <td>1.000000</td>\n",
              "      <td>-0.007263</td>\n",
              "    </tr>\n",
              "    <tr>\n",
              "      <th>Project Name</th>\n",
              "      <td>-0.122595</td>\n",
              "      <td>-0.179231</td>\n",
              "      <td>-0.169203</td>\n",
              "      <td>-0.008802</td>\n",
              "      <td>0.023140</td>\n",
              "      <td>-0.052729</td>\n",
              "      <td>0.066209</td>\n",
              "      <td>-0.007263</td>\n",
              "      <td>1.000000</td>\n",
              "    </tr>\n",
              "  </tbody>\n",
              "</table>\n",
              "</div>"
            ],
            "text/plain": [
              "                                   Client Satisfaction  ...  Project Name\n",
              "Client Satisfaction                           1.000000  ...     -0.122595\n",
              "Total Time Spent                              0.740382  ...     -0.179231\n",
              "Time Taken for First Response                 0.081277  ...     -0.169203\n",
              "Priority                                      0.003342  ...     -0.008802\n",
              "Status                                       -0.026179  ...      0.023140\n",
              "Resolution                                   -0.054019  ...     -0.052729\n",
              "Issue Category and Classification            -0.010493  ...      0.066209\n",
              "Estimated SLA in Hours                       -0.273430  ...     -0.007263\n",
              "Project Name                                 -0.122595  ...      1.000000\n",
              "\n",
              "[9 rows x 9 columns]"
            ]
          },
          "metadata": {},
          "execution_count": 98
        }
      ]
    },
    {
      "cell_type": "markdown",
      "metadata": {
        "id": "R6scAVFHrYy2"
      },
      "source": [
        "### Significant and Independent features for target\n",
        "#### 1. Total Time Spent\n",
        "#### 2. Priority\n",
        "#### 3. Estimated SLA in Hours"
      ]
    },
    {
      "cell_type": "code",
      "metadata": {
        "id": "crHPPL1ns3sp"
      },
      "source": [
        "# selected features for training\n",
        "\n",
        "features = ['Total Time Spent','Priority','Estimated SLA in Hours']\n",
        "\n",
        "X_train = X_train[features]\n",
        "X_test = X_test[features]"
      ],
      "execution_count": null,
      "outputs": []
    },
    {
      "cell_type": "code",
      "metadata": {
        "colab": {
          "base_uri": "https://localhost:8080/",
          "height": 206
        },
        "id": "GuxjzNHLt6of",
        "outputId": "5ea03384-5d67-45e7-bac2-fbb85453c27e"
      },
      "source": [
        "X_train.head()"
      ],
      "execution_count": null,
      "outputs": [
        {
          "output_type": "execute_result",
          "data": {
            "text/html": [
              "<div>\n",
              "<style scoped>\n",
              "    .dataframe tbody tr th:only-of-type {\n",
              "        vertical-align: middle;\n",
              "    }\n",
              "\n",
              "    .dataframe tbody tr th {\n",
              "        vertical-align: top;\n",
              "    }\n",
              "\n",
              "    .dataframe thead th {\n",
              "        text-align: right;\n",
              "    }\n",
              "</style>\n",
              "<table border=\"1\" class=\"dataframe\">\n",
              "  <thead>\n",
              "    <tr style=\"text-align: right;\">\n",
              "      <th></th>\n",
              "      <th>Total Time Spent</th>\n",
              "      <th>Priority</th>\n",
              "      <th>Estimated SLA in Hours</th>\n",
              "    </tr>\n",
              "  </thead>\n",
              "  <tbody>\n",
              "    <tr>\n",
              "      <th>0</th>\n",
              "      <td>0.979634</td>\n",
              "      <td>0</td>\n",
              "      <td>4.0</td>\n",
              "    </tr>\n",
              "    <tr>\n",
              "      <th>1</th>\n",
              "      <td>0.089399</td>\n",
              "      <td>1</td>\n",
              "      <td>6.0</td>\n",
              "    </tr>\n",
              "    <tr>\n",
              "      <th>2</th>\n",
              "      <td>-1.036488</td>\n",
              "      <td>0</td>\n",
              "      <td>4.0</td>\n",
              "    </tr>\n",
              "    <tr>\n",
              "      <th>3</th>\n",
              "      <td>0.904257</td>\n",
              "      <td>1</td>\n",
              "      <td>6.0</td>\n",
              "    </tr>\n",
              "    <tr>\n",
              "      <th>4</th>\n",
              "      <td>0.284863</td>\n",
              "      <td>0</td>\n",
              "      <td>4.0</td>\n",
              "    </tr>\n",
              "  </tbody>\n",
              "</table>\n",
              "</div>"
            ],
            "text/plain": [
              "   Total Time Spent  Priority  Estimated SLA in Hours\n",
              "0          0.979634         0                     4.0\n",
              "1          0.089399         1                     6.0\n",
              "2         -1.036488         0                     4.0\n",
              "3          0.904257         1                     6.0\n",
              "4          0.284863         0                     4.0"
            ]
          },
          "metadata": {},
          "execution_count": 100
        }
      ]
    },
    {
      "cell_type": "markdown",
      "metadata": {
        "id": "wL4meUiHuAsZ"
      },
      "source": [
        "## Model Training"
      ]
    },
    {
      "cell_type": "code",
      "metadata": {
        "id": "MA_PJ6htuwmw"
      },
      "source": [
        "import pickle\n",
        "import numpy as np\n",
        "from sklearn.feature_extraction.text import TfidfVectorizer\n",
        "from sklearn.linear_model import LogisticRegression\n",
        "from pprint import pprint\n",
        "from sklearn.model_selection import RandomizedSearchCV\n",
        "from sklearn.model_selection import GridSearchCV\n",
        "from sklearn.metrics import classification_report, confusion_matrix, accuracy_score\n",
        "from sklearn.model_selection import ShuffleSplit\n",
        "import matplotlib.pyplot as plt\n",
        "import seaborn as sns\n",
        "import pandas as pd"
      ],
      "execution_count": null,
      "outputs": []
    },
    {
      "cell_type": "markdown",
      "metadata": {
        "id": "7--7vrLouH91"
      },
      "source": [
        "## 1. Logistic Regression"
      ]
    },
    {
      "cell_type": "markdown",
      "metadata": {
        "id": "3C95UMHXupZL"
      },
      "source": [
        "### Cross-Validation for Hyperparameter tuning"
      ]
    },
    {
      "cell_type": "code",
      "metadata": {
        "colab": {
          "base_uri": "https://localhost:8080/"
        },
        "id": "7Qw38PdiuXnI",
        "outputId": "73528426-29bf-4a82-ed1b-b67b18b6ab64"
      },
      "source": [
        "lr_0 = LogisticRegression(random_state = 8)\n",
        "\n",
        "print('Parameters currently in use:\\n')\n",
        "pprint(lr_0.get_params())"
      ],
      "execution_count": null,
      "outputs": [
        {
          "output_type": "stream",
          "name": "stdout",
          "text": [
            "Parameters currently in use:\n",
            "\n",
            "{'C': 1.0,\n",
            " 'class_weight': None,\n",
            " 'dual': False,\n",
            " 'fit_intercept': True,\n",
            " 'intercept_scaling': 1,\n",
            " 'l1_ratio': None,\n",
            " 'max_iter': 100,\n",
            " 'multi_class': 'auto',\n",
            " 'n_jobs': None,\n",
            " 'penalty': 'l2',\n",
            " 'random_state': 8,\n",
            " 'solver': 'lbfgs',\n",
            " 'tol': 0.0001,\n",
            " 'verbose': 0,\n",
            " 'warm_start': False}\n"
          ]
        }
      ]
    },
    {
      "cell_type": "markdown",
      "metadata": {
        "id": "48EYH2yWu3kZ"
      },
      "source": [
        "* `C` = Inverse of regularization strength. Smaller values specify stronger regularization.\n",
        "* `multi_class` = We'll choose `multinomial` because this is a multi-class problem.\n",
        "* `solver` = Algorithm to use in the optimization problem. For multiclass problems, only `newton-cg`, `sag`, `saga` and `lbfgs` handle multinomial loss.\n",
        "* `class_weight`: Weights associated with classes. \n",
        "* `penalty`: Used to specify the norm used in the penalization. The ‘newton-cg’, ‘sag’ and ‘lbfgs’ solvers support only l2 penalties."
      ]
    },
    {
      "cell_type": "markdown",
      "metadata": {
        "id": "BbUT-YY5u8z1"
      },
      "source": [
        "### Randomized Search Cross Validation"
      ]
    },
    {
      "cell_type": "code",
      "metadata": {
        "colab": {
          "base_uri": "https://localhost:8080/"
        },
        "id": "df0kcdYpu74s",
        "outputId": "a3212af7-bcc3-494c-cbcd-ac5d871ef3c1"
      },
      "source": [
        "# C\n",
        "C = [float(x) for x in np.linspace(start = 0.1, stop = 1, num = 10)]\n",
        "\n",
        "# multi_class\n",
        "multi_class = ['multinomial']\n",
        "\n",
        "# solver\n",
        "solver = ['newton-cg', 'sag', 'saga', 'lbfgs']\n",
        " \n",
        "# class_weight\n",
        "class_weight = ['balanced', None]\n",
        "\n",
        "# penalty\n",
        "penalty = ['l2']\n",
        "\n",
        "# Create the random grid\n",
        "random_grid = {'C': C,\n",
        "               'multi_class': multi_class,\n",
        "               'solver': solver,\n",
        "               'class_weight': class_weight,\n",
        "               'penalty': penalty}\n",
        "\n",
        "pprint(random_grid)"
      ],
      "execution_count": null,
      "outputs": [
        {
          "output_type": "stream",
          "name": "stdout",
          "text": [
            "{'C': [0.1,\n",
            "       0.2,\n",
            "       0.30000000000000004,\n",
            "       0.4,\n",
            "       0.5,\n",
            "       0.6,\n",
            "       0.7000000000000001,\n",
            "       0.8,\n",
            "       0.9,\n",
            "       1.0],\n",
            " 'class_weight': ['balanced', None],\n",
            " 'multi_class': ['multinomial'],\n",
            " 'penalty': ['l2'],\n",
            " 'solver': ['newton-cg', 'sag', 'saga', 'lbfgs']}\n"
          ]
        }
      ]
    },
    {
      "cell_type": "code",
      "metadata": {
        "colab": {
          "base_uri": "https://localhost:8080/"
        },
        "id": "pNQboa7svF-c",
        "outputId": "fb3bf2b3-4876-49b4-e965-7a7caee552db"
      },
      "source": [
        "# First create the base model to tune\n",
        "lrc = LogisticRegression(random_state=8)\n",
        "\n",
        "# Definition of the random search\n",
        "random_search = RandomizedSearchCV(estimator=lrc,\n",
        "                                   param_distributions=random_grid,\n",
        "                                   n_iter=100,\n",
        "                                   scoring='accuracy',\n",
        "                                   cv=5, \n",
        "                                   verbose=1, \n",
        "                                   random_state=8)\n",
        "\n",
        "# Fit the random search model\n",
        "random_search.fit(X_train, y_train)"
      ],
      "execution_count": null,
      "outputs": [
        {
          "output_type": "stream",
          "name": "stdout",
          "text": [
            "Fitting 5 folds for each of 80 candidates, totalling 400 fits\n"
          ]
        },
        {
          "output_type": "stream",
          "name": "stderr",
          "text": [
            "[Parallel(n_jobs=1)]: Using backend SequentialBackend with 1 concurrent workers.\n",
            "[Parallel(n_jobs=1)]: Done 400 out of 400 | elapsed:   56.4s finished\n"
          ]
        },
        {
          "output_type": "execute_result",
          "data": {
            "text/plain": [
              "RandomizedSearchCV(cv=5, error_score=nan,\n",
              "                   estimator=LogisticRegression(C=1.0, class_weight=None,\n",
              "                                                dual=False, fit_intercept=True,\n",
              "                                                intercept_scaling=1,\n",
              "                                                l1_ratio=None, max_iter=100,\n",
              "                                                multi_class='auto', n_jobs=None,\n",
              "                                                penalty='l2', random_state=8,\n",
              "                                                solver='lbfgs', tol=0.0001,\n",
              "                                                verbose=0, warm_start=False),\n",
              "                   iid='deprecated', n_iter=100, n_jobs=None,\n",
              "                   param_distributions={'C': [0.1, 0.2, 0.30000000000000004,\n",
              "                                              0.4, 0.5, 0.6, 0.7000000000000001,\n",
              "                                              0.8, 0.9, 1.0],\n",
              "                                        'class_weight': ['balanced', None],\n",
              "                                        'multi_class': ['multinomial'],\n",
              "                                        'penalty': ['l2'],\n",
              "                                        'solver': ['newton-cg', 'sag', 'saga',\n",
              "                                                   'lbfgs']},\n",
              "                   pre_dispatch='2*n_jobs', random_state=8, refit=True,\n",
              "                   return_train_score=False, scoring='accuracy', verbose=1)"
            ]
          },
          "metadata": {},
          "execution_count": 104
        }
      ]
    },
    {
      "cell_type": "markdown",
      "metadata": {
        "id": "Yf3F2xDovQXQ"
      },
      "source": [
        "#### Note that \n",
        "##### Number of Iterations used for Randomized Search Cross Validation is 100\n",
        "##### And Corss Validation folding is five"
      ]
    },
    {
      "cell_type": "code",
      "metadata": {
        "id": "Ves6qbrlvmgT",
        "colab": {
          "base_uri": "https://localhost:8080/"
        },
        "outputId": "89c738bb-3567-4f93-a3e5-007dad3d5178"
      },
      "source": [
        "print(\"The best hyperparameters from Random Search are:\")\n",
        "print(random_search.best_params_)\n",
        "print(\"\")\n",
        "print(\"The mean accuracy of a model with these hyperparameters is:\")\n",
        "print(random_search.best_score_)"
      ],
      "execution_count": null,
      "outputs": [
        {
          "output_type": "stream",
          "name": "stdout",
          "text": [
            "The best hyperparameters from Random Search are:\n",
            "{'solver': 'newton-cg', 'penalty': 'l2', 'multi_class': 'multinomial', 'class_weight': 'balanced', 'C': 0.2}\n",
            "\n",
            "The mean accuracy of a model with these hyperparameters is:\n",
            "0.9970479704797048\n"
          ]
        }
      ]
    },
    {
      "cell_type": "markdown",
      "metadata": {
        "id": "ikboTWSzvxTq"
      },
      "source": [
        "### Grid Search Cross Validation"
      ]
    },
    {
      "cell_type": "code",
      "metadata": {
        "id": "EQOaOPpZvysE",
        "colab": {
          "base_uri": "https://localhost:8080/"
        },
        "outputId": "8434201d-5576-456f-f85c-37b5244c06b5"
      },
      "source": [
        "# Create the parameter grid based on the results of random search \n",
        "C = [float(x) for x in np.linspace(start = -0.2, stop = 1, num = 10)]\n",
        "multi_class = ['multinomial']\n",
        "solver = ['newton-cg']\n",
        "class_weight = ['balanced']\n",
        "penalty = ['l2']\n",
        "\n",
        "param_grid = {'C': C,\n",
        "               'multi_class': multi_class,\n",
        "               'solver': solver,\n",
        "               'class_weight': class_weight,\n",
        "               'penalty': penalty}\n",
        "\n",
        "# Create a base model\n",
        "lrc = LogisticRegression(random_state=8)\n",
        "cv_sets = ShuffleSplit(n_splits = 5, test_size = .33, random_state = 8)\n",
        "\n",
        "# Instantiate the grid search model\n",
        "grid_search = GridSearchCV(estimator=lrc, \n",
        "                           param_grid=param_grid,\n",
        "                           scoring='accuracy',\n",
        "                           cv=cv_sets,\n",
        "                           verbose=1)\n",
        "\n",
        "# Fit the grid search to the data\n",
        "grid_search.fit(X_train, y_train)"
      ],
      "execution_count": null,
      "outputs": [
        {
          "output_type": "stream",
          "name": "stdout",
          "text": [
            "Fitting 5 folds for each of 10 candidates, totalling 50 fits\n"
          ]
        },
        {
          "output_type": "stream",
          "name": "stderr",
          "text": [
            "[Parallel(n_jobs=1)]: Using backend SequentialBackend with 1 concurrent workers.\n",
            "[Parallel(n_jobs=1)]: Done  50 out of  50 | elapsed:    7.3s finished\n"
          ]
        },
        {
          "output_type": "execute_result",
          "data": {
            "text/plain": [
              "GridSearchCV(cv=ShuffleSplit(n_splits=5, random_state=8, test_size=0.33, train_size=None),\n",
              "             error_score=nan,\n",
              "             estimator=LogisticRegression(C=1.0, class_weight=None, dual=False,\n",
              "                                          fit_intercept=True,\n",
              "                                          intercept_scaling=1, l1_ratio=None,\n",
              "                                          max_iter=100, multi_class='auto',\n",
              "                                          n_jobs=None, penalty='l2',\n",
              "                                          random_state=8, solver='lbfgs',\n",
              "                                          tol=0.0001, verbose=0,\n",
              "                                          warm_start=False),\n",
              "             iid=...\n",
              "             param_grid={'C': [-0.2, -0.06666666666666668, 0.06666666666666665,\n",
              "                               0.2, 0.3333333333333333, 0.4666666666666666,\n",
              "                               0.6000000000000001, 0.7333333333333334,\n",
              "                               0.8666666666666667, 1.0],\n",
              "                         'class_weight': ['balanced'],\n",
              "                         'multi_class': ['multinomial'], 'penalty': ['l2'],\n",
              "                         'solver': ['newton-cg']},\n",
              "             pre_dispatch='2*n_jobs', refit=True, return_train_score=False,\n",
              "             scoring='accuracy', verbose=1)"
            ]
          },
          "metadata": {},
          "execution_count": 106
        }
      ]
    },
    {
      "cell_type": "code",
      "metadata": {
        "id": "NrAwhaZnwLN0",
        "colab": {
          "base_uri": "https://localhost:8080/"
        },
        "outputId": "62c9405e-1dc2-4771-d304-985591a9efcd"
      },
      "source": [
        "print(\"The best hyperparameters from Grid Search are:\")\n",
        "print(grid_search.best_params_)\n",
        "print(\"\")\n",
        "print(\"The mean accuracy of a model with these hyperparameters is:\")\n",
        "print(grid_search.best_score_)"
      ],
      "execution_count": null,
      "outputs": [
        {
          "output_type": "stream",
          "name": "stdout",
          "text": [
            "The best hyperparameters from Grid Search are:\n",
            "{'C': 0.6000000000000001, 'class_weight': 'balanced', 'multi_class': 'multinomial', 'penalty': 'l2', 'solver': 'newton-cg'}\n",
            "\n",
            "The mean accuracy of a model with these hyperparameters is:\n",
            "0.9973166368515207\n"
          ]
        }
      ]
    },
    {
      "cell_type": "code",
      "metadata": {
        "id": "hjL0USvYwPRp"
      },
      "source": [
        "# select best estimator\n",
        "best_lrc = grid_search.best_estimator_"
      ],
      "execution_count": null,
      "outputs": []
    },
    {
      "cell_type": "code",
      "metadata": {
        "id": "40GdU2R2wXRx",
        "colab": {
          "base_uri": "https://localhost:8080/"
        },
        "outputId": "23286306-a09f-49f2-e114-b9b7a7f1283b"
      },
      "source": [
        "best_lrc.fit(X_train, y_train)"
      ],
      "execution_count": null,
      "outputs": [
        {
          "output_type": "execute_result",
          "data": {
            "text/plain": [
              "LogisticRegression(C=0.6000000000000001, class_weight='balanced', dual=False,\n",
              "                   fit_intercept=True, intercept_scaling=1, l1_ratio=None,\n",
              "                   max_iter=100, multi_class='multinomial', n_jobs=None,\n",
              "                   penalty='l2', random_state=8, solver='newton-cg', tol=0.0001,\n",
              "                   verbose=0, warm_start=False)"
            ]
          },
          "metadata": {},
          "execution_count": 109
        }
      ]
    },
    {
      "cell_type": "markdown",
      "metadata": {
        "id": "EQg5sg2hw5e4"
      },
      "source": [
        "### Model Evaluation"
      ]
    },
    {
      "cell_type": "markdown",
      "metadata": {
        "id": "wadNXQy4w_o1"
      },
      "source": [
        "#### Training Accuracy"
      ]
    },
    {
      "cell_type": "code",
      "metadata": {
        "id": "hSBvfVCvwdvD",
        "colab": {
          "base_uri": "https://localhost:8080/"
        },
        "outputId": "b719e6a1-90e0-4a8a-c71e-0e2bc082a451"
      },
      "source": [
        "print(\"The training accuracy is: \")\n",
        "print(accuracy_score(y_train, best_lrc.predict(X_train)))"
      ],
      "execution_count": null,
      "outputs": [
        {
          "output_type": "stream",
          "name": "stdout",
          "text": [
            "The training accuracy is: \n",
            "0.9968265682656826\n"
          ]
        }
      ]
    },
    {
      "cell_type": "markdown",
      "metadata": {
        "id": "_365mTmRxLkg"
      },
      "source": [
        "#### Testing Accuracy"
      ]
    },
    {
      "cell_type": "code",
      "metadata": {
        "id": "p9zdvvpVxoW2",
        "colab": {
          "base_uri": "https://localhost:8080/"
        },
        "outputId": "b1ade1ee-423d-4c7d-cd95-7f2bc056c7ba"
      },
      "source": [
        "print(\"The test accuracy is: \")\n",
        "print(accuracy_score(y_test, best_lrc.predict(X_test)))"
      ],
      "execution_count": null,
      "outputs": [
        {
          "output_type": "stream",
          "name": "stdout",
          "text": [
            "The test accuracy is: \n",
            "0.9958677685950413\n"
          ]
        }
      ]
    },
    {
      "cell_type": "markdown",
      "metadata": {
        "id": "1NzpztyXx3N4"
      },
      "source": [
        "### Classification Report"
      ]
    },
    {
      "cell_type": "code",
      "metadata": {
        "id": "0Lxi5ftIx65f",
        "colab": {
          "base_uri": "https://localhost:8080/"
        },
        "outputId": "4b07bf38-7af1-47eb-d423-3137728da5b8"
      },
      "source": [
        "print(\"Classification report for training\")\n",
        "print(classification_report(y_train,best_lrc.predict(X_train)))"
      ],
      "execution_count": null,
      "outputs": [
        {
          "output_type": "stream",
          "name": "stdout",
          "text": [
            "Classification report for training\n",
            "              precision    recall  f1-score   support\n",
            "\n",
            "           0       1.00      0.99      1.00      5839\n",
            "           1       1.00      1.00      1.00      7711\n",
            "\n",
            "    accuracy                           1.00     13550\n",
            "   macro avg       1.00      1.00      1.00     13550\n",
            "weighted avg       1.00      1.00      1.00     13550\n",
            "\n"
          ]
        }
      ]
    },
    {
      "cell_type": "code",
      "metadata": {
        "id": "SJxM3tfjyK69",
        "colab": {
          "base_uri": "https://localhost:8080/"
        },
        "outputId": "6c44fc13-bd9e-4fb2-a27b-bcb9d89136a0"
      },
      "source": [
        "print(\"Classification report for testing\")\n",
        "print(classification_report(y_test,best_lrc.predict(X_test)))"
      ],
      "execution_count": null,
      "outputs": [
        {
          "output_type": "stream",
          "name": "stdout",
          "text": [
            "Classification report for testing\n",
            "              precision    recall  f1-score   support\n",
            "\n",
            "           0       1.00      1.00      1.00      1467\n",
            "           1       1.00      1.00      1.00      1921\n",
            "\n",
            "    accuracy                           1.00      3388\n",
            "   macro avg       1.00      1.00      1.00      3388\n",
            "weighted avg       1.00      1.00      1.00      3388\n",
            "\n"
          ]
        }
      ]
    },
    {
      "cell_type": "markdown",
      "metadata": {
        "id": "o7KVjP0-yJxO"
      },
      "source": [
        "### Confusion Matrix"
      ]
    },
    {
      "cell_type": "code",
      "metadata": {
        "id": "xWZGWiTbzg5J",
        "colab": {
          "base_uri": "https://localhost:8080/",
          "height": 330
        },
        "outputId": "75427554-5db2-4a99-9506-2d22c2d0fab1"
      },
      "source": [
        "print('Confusion Matrix for Training')\n",
        "cnf_matrix = confusion_matrix(y_train, best_lrc.predict(X_train))\n",
        "plt.figure(figsize = (10,10))\n",
        "fig, ax = plt.subplots(1)\n",
        "ax = sns.heatmap(cnf_matrix, ax=ax, annot=True,cmap=\"YlGnBu\")\n",
        "plt.title('Confusion matrix')\n",
        "plt.ylabel('True category')\n",
        "plt.xlabel('Predicted category')\n",
        "plt.show()   "
      ],
      "execution_count": null,
      "outputs": [
        {
          "output_type": "stream",
          "name": "stdout",
          "text": [
            "Confusion Matrix for Training\n"
          ]
        },
        {
          "output_type": "display_data",
          "data": {
            "text/plain": [
              "<Figure size 720x720 with 0 Axes>"
            ]
          },
          "metadata": {}
        },
        {
          "output_type": "display_data",
          "data": {
            "image/png": "[encoded data removed]",
            "text/plain": [
              "<Figure size 432x288 with 2 Axes>"
            ]
          },
          "metadata": {
            "needs_background": "light"
          }
        }
      ]
    },
    {
      "cell_type": "code",
      "metadata": {
        "id": "jsVJiuDOyUa4",
        "colab": {
          "base_uri": "https://localhost:8080/",
          "height": 330
        },
        "outputId": "ad53b19a-14af-4072-88e7-314f5a93c4a0"
      },
      "source": [
        "print('Confusion Matrix for Testing')\n",
        "cnf_matrix = confusion_matrix(y_test, best_lrc.predict(X_test))\n",
        "plt.figure(figsize = (10,10))\n",
        "fig, ax = plt.subplots(1)\n",
        "ax = sns.heatmap(cnf_matrix, ax=ax, annot=True,cmap=\"YlGnBu\")\n",
        "plt.title('Confusion matrix')\n",
        "plt.ylabel('True category')\n",
        "plt.xlabel('Predicted category')\n",
        "plt.show()   "
      ],
      "execution_count": null,
      "outputs": [
        {
          "output_type": "stream",
          "name": "stdout",
          "text": [
            "Confusion Matrix for Testing\n"
          ]
        },
        {
          "output_type": "display_data",
          "data": {
            "text/plain": [
              "<Figure size 720x720 with 0 Axes>"
            ]
          },
          "metadata": {}
        },
        {
          "output_type": "display_data",
          "data": {
            "image/png": "[encoded data removed]",
            "text/plain": [
              "<Figure size 432x288 with 2 Axes>"
            ]
          },
          "metadata": {
            "needs_background": "light"
          }
        }
      ]
    },
    {
      "cell_type": "code",
      "metadata": {
        "id": "sUcxyd_I0xud"
      },
      "source": [
        "model = {\n",
        "     'Model': 'Logistic Regression',\n",
        "     'Training Set Accuracy': accuracy_score(y_train, best_lrc.predict(X_train)),\n",
        "     'Test Set Accuracy': accuracy_score(y_test, best_lrc.predict(X_test))\n",
        "}\n",
        "\n",
        "logistic_model_accuracy = pd.DataFrame(model, index=[0])"
      ],
      "execution_count": null,
      "outputs": []
    },
    {
      "cell_type": "markdown",
      "metadata": {
        "id": "LvvI-RsZ3Aj7"
      },
      "source": [
        "#### Coefficients"
      ]
    },
    {
      "cell_type": "code",
      "metadata": {
        "id": "CLhFOQap21k-",
        "colab": {
          "base_uri": "https://localhost:8080/"
        },
        "outputId": "e2c283ad-eabd-4995-ffd0-1fccc3a6c268"
      },
      "source": [
        "best_lrc.coef_"
      ],
      "execution_count": null,
      "outputs": [
        {
          "output_type": "execute_result",
          "data": {
            "text/plain": [
              "array([[10.89887859,  0.55035509, -2.25066689]])"
            ]
          },
          "metadata": {},
          "execution_count": 117
        }
      ]
    },
    {
      "cell_type": "markdown",
      "metadata": {
        "id": "w1ZzfGol3FbB"
      },
      "source": [
        "#### Intercept"
      ]
    },
    {
      "cell_type": "code",
      "metadata": {
        "id": "ZhDTVICG3H9p",
        "colab": {
          "base_uri": "https://localhost:8080/"
        },
        "outputId": "3d7d52b6-a715-4f6f-c239-879770f3c562"
      },
      "source": [
        "best_lrc.intercept_"
      ],
      "execution_count": null,
      "outputs": [
        {
          "output_type": "execute_result",
          "data": {
            "text/plain": [
              "array([13.33741281])"
            ]
          },
          "metadata": {},
          "execution_count": 118
        }
      ]
    },
    {
      "cell_type": "markdown",
      "metadata": {
        "id": "gJVqGGZC0CaW"
      },
      "source": [
        "## 2. Support Vector Machine"
      ]
    },
    {
      "cell_type": "code",
      "metadata": {
        "id": "AdHdkktg2EFE",
        "colab": {
          "base_uri": "https://localhost:8080/",
          "height": 206
        },
        "outputId": "8034d907-1550-4da6-ab27-4656a5b7d5f8"
      },
      "source": [
        "X_train.head()"
      ],
      "execution_count": null,
      "outputs": [
        {
          "output_type": "execute_result",
          "data": {
            "text/html": [
              "<div>\n",
              "<style scoped>\n",
              "    .dataframe tbody tr th:only-of-type {\n",
              "        vertical-align: middle;\n",
              "    }\n",
              "\n",
              "    .dataframe tbody tr th {\n",
              "        vertical-align: top;\n",
              "    }\n",
              "\n",
              "    .dataframe thead th {\n",
              "        text-align: right;\n",
              "    }\n",
              "</style>\n",
              "<table border=\"1\" class=\"dataframe\">\n",
              "  <thead>\n",
              "    <tr style=\"text-align: right;\">\n",
              "      <th></th>\n",
              "      <th>Total Time Spent</th>\n",
              "      <th>Priority</th>\n",
              "      <th>Estimated SLA in Hours</th>\n",
              "    </tr>\n",
              "  </thead>\n",
              "  <tbody>\n",
              "    <tr>\n",
              "      <th>0</th>\n",
              "      <td>0.979634</td>\n",
              "      <td>0</td>\n",
              "      <td>4.0</td>\n",
              "    </tr>\n",
              "    <tr>\n",
              "      <th>1</th>\n",
              "      <td>0.089399</td>\n",
              "      <td>1</td>\n",
              "      <td>6.0</td>\n",
              "    </tr>\n",
              "    <tr>\n",
              "      <th>2</th>\n",
              "      <td>-1.036488</td>\n",
              "      <td>0</td>\n",
              "      <td>4.0</td>\n",
              "    </tr>\n",
              "    <tr>\n",
              "      <th>3</th>\n",
              "      <td>0.904257</td>\n",
              "      <td>1</td>\n",
              "      <td>6.0</td>\n",
              "    </tr>\n",
              "    <tr>\n",
              "      <th>4</th>\n",
              "      <td>0.284863</td>\n",
              "      <td>0</td>\n",
              "      <td>4.0</td>\n",
              "    </tr>\n",
              "  </tbody>\n",
              "</table>\n",
              "</div>"
            ],
            "text/plain": [
              "   Total Time Spent  Priority  Estimated SLA in Hours\n",
              "0          0.979634         0                     4.0\n",
              "1          0.089399         1                     6.0\n",
              "2         -1.036488         0                     4.0\n",
              "3          0.904257         1                     6.0\n",
              "4          0.284863         0                     4.0"
            ]
          },
          "metadata": {},
          "execution_count": 119
        }
      ]
    },
    {
      "cell_type": "code",
      "metadata": {
        "id": "FB1i5plg3iDW"
      },
      "source": [
        "temp = pd.concat([X_train,y_train],axis=1)"
      ],
      "execution_count": null,
      "outputs": []
    },
    {
      "cell_type": "code",
      "metadata": {
        "id": "XXVmE6yH3pXA",
        "colab": {
          "base_uri": "https://localhost:8080/",
          "height": 206
        },
        "outputId": "db35769c-91cd-4851-c1c5-f1b4bf941a50"
      },
      "source": [
        "temp.head()"
      ],
      "execution_count": null,
      "outputs": [
        {
          "output_type": "execute_result",
          "data": {
            "text/html": [
              "<div>\n",
              "<style scoped>\n",
              "    .dataframe tbody tr th:only-of-type {\n",
              "        vertical-align: middle;\n",
              "    }\n",
              "\n",
              "    .dataframe tbody tr th {\n",
              "        vertical-align: top;\n",
              "    }\n",
              "\n",
              "    .dataframe thead th {\n",
              "        text-align: right;\n",
              "    }\n",
              "</style>\n",
              "<table border=\"1\" class=\"dataframe\">\n",
              "  <thead>\n",
              "    <tr style=\"text-align: right;\">\n",
              "      <th></th>\n",
              "      <th>Total Time Spent</th>\n",
              "      <th>Priority</th>\n",
              "      <th>Estimated SLA in Hours</th>\n",
              "      <th>Client Satisfaction</th>\n",
              "    </tr>\n",
              "  </thead>\n",
              "  <tbody>\n",
              "    <tr>\n",
              "      <th>0</th>\n",
              "      <td>0.979634</td>\n",
              "      <td>0</td>\n",
              "      <td>4.0</td>\n",
              "      <td>1</td>\n",
              "    </tr>\n",
              "    <tr>\n",
              "      <th>1</th>\n",
              "      <td>0.089399</td>\n",
              "      <td>1</td>\n",
              "      <td>6.0</td>\n",
              "      <td>1</td>\n",
              "    </tr>\n",
              "    <tr>\n",
              "      <th>2</th>\n",
              "      <td>-1.036488</td>\n",
              "      <td>0</td>\n",
              "      <td>4.0</td>\n",
              "      <td>0</td>\n",
              "    </tr>\n",
              "    <tr>\n",
              "      <th>3</th>\n",
              "      <td>0.904257</td>\n",
              "      <td>1</td>\n",
              "      <td>6.0</td>\n",
              "      <td>1</td>\n",
              "    </tr>\n",
              "    <tr>\n",
              "      <th>4</th>\n",
              "      <td>0.284863</td>\n",
              "      <td>0</td>\n",
              "      <td>4.0</td>\n",
              "      <td>1</td>\n",
              "    </tr>\n",
              "  </tbody>\n",
              "</table>\n",
              "</div>"
            ],
            "text/plain": [
              "   Total Time Spent  Priority  Estimated SLA in Hours  Client Satisfaction\n",
              "0          0.979634         0                     4.0                    1\n",
              "1          0.089399         1                     6.0                    1\n",
              "2         -1.036488         0                     4.0                    0\n",
              "3          0.904257         1                     6.0                    1\n",
              "4          0.284863         0                     4.0                    1"
            ]
          },
          "metadata": {},
          "execution_count": 121
        }
      ]
    },
    {
      "cell_type": "code",
      "metadata": {
        "id": "DeNhLSHa5M-z",
        "colab": {
          "base_uri": "https://localhost:8080/"
        },
        "outputId": "09a80d37-b950-46af-8b66-1118463dc9be"
      },
      "source": [
        "client_satis_codes"
      ],
      "execution_count": null,
      "outputs": [
        {
          "output_type": "execute_result",
          "data": {
            "text/plain": [
              "{'Not Satisfied': 1, 'Satsfied': 0}"
            ]
          },
          "metadata": {},
          "execution_count": 122
        }
      ]
    },
    {
      "cell_type": "code",
      "metadata": {
        "id": "51F0z-7Y5UNf"
      },
      "source": [
        "client_satis_codes_rev = {0 : 'Not Satisfied', 1 : 'Satsfied'}"
      ],
      "execution_count": null,
      "outputs": []
    },
    {
      "cell_type": "code",
      "metadata": {
        "id": "oCFp2Ae00BsH",
        "colab": {
          "base_uri": "https://localhost:8080/",
          "height": 700
        },
        "outputId": "6673b819-4355-4367-b34f-0eccaf75ee06"
      },
      "source": [
        "plt.figure(figsize=(12,12))\n",
        "ax = plt.axes(projection =\"3d\")\n",
        "\n",
        "for color, label in zip('bgrm',[0,1]):\n",
        "    subset = temp[temp['Client Satisfaction'] == label]\n",
        "    ax.scatter3D(subset['Total Time Spent'],subset['Priority'],subset['Estimated SLA in Hours'],s=100, c = color, label = client_satis_codes_rev[label])\n",
        "plt.xlabel('Total Time Spent')\n",
        "plt.ylabel('Priority')\n",
        "plt.title('3D Scatter Plot for Total Time Spent,Priority and Estimated SLA in Hours Distribution with Client Satisfaction')\n",
        "plt.legend()"
      ],
      "execution_count": null,
      "outputs": [
        {
          "output_type": "execute_result",
          "data": {
            "text/plain": [
              "<matplotlib.legend.Legend at 0x7fdd639f3e90>"
            ]
          },
          "metadata": {},
          "execution_count": 124
        },
        {
          "output_type": "display_data",
          "data": {
            "image/png": "[encoded data removed]",
            "text/plain": [
              "<Figure size 864x864 with 1 Axes>"
            ]
          },
          "metadata": {
            "needs_background": "light"
          }
        }
      ]
    },
    {
      "cell_type": "markdown",
      "metadata": {
        "id": "VgDV6oL36zRX"
      },
      "source": [
        "#### It seems like, client satisfaction is lineary seperable. So, we can apply linear **SVM**"
      ]
    },
    {
      "cell_type": "markdown",
      "metadata": {
        "id": "zokZ5QJn7kya"
      },
      "source": [
        "### Define SVM Classifier"
      ]
    },
    {
      "cell_type": "code",
      "metadata": {
        "id": "cnOYoG8k7HdC"
      },
      "source": [
        "from sklearn import svm\n",
        "_C = 0.1 # tune SVM regularization parameter 0.1\n",
        "_gamma = 1.0 # tune gama to 1.0\n",
        "svc = svm.SVC(kernel='linear', C=_C, gamma=_gamma).fit(X_train, y_train)"
      ],
      "execution_count": null,
      "outputs": []
    },
    {
      "cell_type": "markdown",
      "metadata": {
        "id": "UVSjzhA27uTv"
      },
      "source": [
        "### Model Evaluaton"
      ]
    },
    {
      "cell_type": "markdown",
      "metadata": {
        "id": "XvlffNXq73Zn"
      },
      "source": [
        "#### Training Accuracy"
      ]
    },
    {
      "cell_type": "code",
      "metadata": {
        "id": "mPDd_GQ_72oc",
        "colab": {
          "base_uri": "https://localhost:8080/"
        },
        "outputId": "deffb6a2-0db1-44ef-f52b-0bbfad995faa"
      },
      "source": [
        "print(\"The training accuracy is: \")\n",
        "print(accuracy_score(y_train, svc.predict(X_train)))"
      ],
      "execution_count": null,
      "outputs": [
        {
          "output_type": "stream",
          "name": "stdout",
          "text": [
            "The training accuracy is: \n",
            "0.9892250922509225\n"
          ]
        }
      ]
    },
    {
      "cell_type": "markdown",
      "metadata": {
        "id": "LkKPuVi48gTx"
      },
      "source": [
        "#### Testing Accuracy"
      ]
    },
    {
      "cell_type": "code",
      "metadata": {
        "id": "WHW8Kxbw8gu9",
        "colab": {
          "base_uri": "https://localhost:8080/"
        },
        "outputId": "70e1acad-2a0c-4206-dd88-6641740517e7"
      },
      "source": [
        "print(\"The test accuracy is: \")\n",
        "print(accuracy_score(y_test, svc.predict(X_test)))"
      ],
      "execution_count": null,
      "outputs": [
        {
          "output_type": "stream",
          "name": "stdout",
          "text": [
            "The test accuracy is: \n",
            "0.987603305785124\n"
          ]
        }
      ]
    },
    {
      "cell_type": "markdown",
      "metadata": {
        "id": "AkPhhvXS8nML"
      },
      "source": [
        "#### Classfication Report"
      ]
    },
    {
      "cell_type": "code",
      "metadata": {
        "colab": {
          "base_uri": "https://localhost:8080/"
        },
        "id": "hujm1JqD8nbm",
        "outputId": "4bfb81c3-7503-44cd-c4e6-1c6840223639"
      },
      "source": [
        "print(\"Classification report for training\")\n",
        "print(classification_report(y_train,svc.predict(X_train)))"
      ],
      "execution_count": null,
      "outputs": [
        {
          "output_type": "stream",
          "name": "stdout",
          "text": [
            "Classification report for training\n",
            "              precision    recall  f1-score   support\n",
            "\n",
            "           0       1.00      0.98      0.99      5839\n",
            "           1       0.98      1.00      0.99      7711\n",
            "\n",
            "    accuracy                           0.99     13550\n",
            "   macro avg       0.99      0.99      0.99     13550\n",
            "weighted avg       0.99      0.99      0.99     13550\n",
            "\n"
          ]
        }
      ]
    },
    {
      "cell_type": "code",
      "metadata": {
        "colab": {
          "base_uri": "https://localhost:8080/"
        },
        "id": "zyObrC0580Oj",
        "outputId": "597f54a9-24bf-4492-aba1-70ccd561cae8"
      },
      "source": [
        "print(\"Classification report for testing\")\n",
        "print(classification_report(y_test,svc.predict(X_test)))"
      ],
      "execution_count": null,
      "outputs": [
        {
          "output_type": "stream",
          "name": "stdout",
          "text": [
            "Classification report for testing\n",
            "              precision    recall  f1-score   support\n",
            "\n",
            "           0       0.99      0.98      0.99      1467\n",
            "           1       0.98      1.00      0.99      1921\n",
            "\n",
            "    accuracy                           0.99      3388\n",
            "   macro avg       0.99      0.99      0.99      3388\n",
            "weighted avg       0.99      0.99      0.99      3388\n",
            "\n"
          ]
        }
      ]
    },
    {
      "cell_type": "markdown",
      "metadata": {
        "id": "lcpqG7xy9KGm"
      },
      "source": [
        "#### Confustion Matrix"
      ]
    },
    {
      "cell_type": "code",
      "metadata": {
        "colab": {
          "base_uri": "https://localhost:8080/",
          "height": 330
        },
        "id": "-1MBchZR9Q5K",
        "outputId": "12503d89-824f-455d-82eb-134052f47e7d"
      },
      "source": [
        "print('Confusion Matrix for Training')\n",
        "cnf_matrix = confusion_matrix(y_train, svc.predict(X_train))\n",
        "plt.figure(figsize = (10,10))\n",
        "fig, ax = plt.subplots(1)\n",
        "ax = sns.heatmap(cnf_matrix, ax=ax, annot=True,cmap=\"YlGnBu\")\n",
        "plt.title('Confusion matrix')\n",
        "plt.ylabel('True category')\n",
        "plt.xlabel('Predicted category')\n",
        "plt.show()   "
      ],
      "execution_count": null,
      "outputs": [
        {
          "output_type": "stream",
          "name": "stdout",
          "text": [
            "Confusion Matrix for Training\n"
          ]
        },
        {
          "output_type": "display_data",
          "data": {
            "text/plain": [
              "<Figure size 720x720 with 0 Axes>"
            ]
          },
          "metadata": {}
        },
        {
          "output_type": "display_data",
          "data": {
            "image/png": "[encoded data removed]",
            "text/plain": [
              "<Figure size 432x288 with 2 Axes>"
            ]
          },
          "metadata": {
            "needs_background": "light"
          }
        }
      ]
    },
    {
      "cell_type": "code",
      "metadata": {
        "colab": {
          "base_uri": "https://localhost:8080/",
          "height": 330
        },
        "id": "0kn6yAVo9RBK",
        "outputId": "9148a8e9-cfe7-43e5-c792-651698f6683b"
      },
      "source": [
        "print('Confusion Matrix for Testing')\n",
        "cnf_matrix = confusion_matrix(y_test, svc.predict(X_test))\n",
        "plt.figure(figsize = (10,10))\n",
        "fig, ax = plt.subplots(1)\n",
        "ax = sns.heatmap(cnf_matrix, ax=ax, annot=True,cmap=\"YlGnBu\")\n",
        "plt.title('Confusion matrix')\n",
        "plt.ylabel('True category')\n",
        "plt.xlabel('Predicted category')\n",
        "plt.show()   "
      ],
      "execution_count": null,
      "outputs": [
        {
          "output_type": "stream",
          "name": "stdout",
          "text": [
            "Confusion Matrix for Testing\n"
          ]
        },
        {
          "output_type": "display_data",
          "data": {
            "text/plain": [
              "<Figure size 720x720 with 0 Axes>"
            ]
          },
          "metadata": {}
        },
        {
          "output_type": "display_data",
          "data": {
            "image/png": "[encoded data removed]",
            "text/plain": [
              "<Figure size 432x288 with 2 Axes>"
            ]
          },
          "metadata": {
            "needs_background": "light"
          }
        }
      ]
    },
    {
      "cell_type": "code",
      "metadata": {
        "id": "tJ8SR2xa-ctP"
      },
      "source": [
        "model = {\n",
        "     'Model': 'Support Vector Machine',\n",
        "     'Training Set Accuracy': accuracy_score(y_train, svc.predict(X_train)),\n",
        "     'Test Set Accuracy': accuracy_score(y_test, svc.predict(X_test))\n",
        "}\n",
        "\n",
        "svm_model_accuracy = pd.DataFrame(model, index=[0])"
      ],
      "execution_count": null,
      "outputs": []
    },
    {
      "cell_type": "markdown",
      "metadata": {
        "id": "7qxCrxZ3-pRN"
      },
      "source": [
        "## 3. Decision Tree "
      ]
    },
    {
      "cell_type": "code",
      "metadata": {
        "colab": {
          "base_uri": "https://localhost:8080/",
          "height": 206
        },
        "id": "YDS7s6mu_M5R",
        "outputId": "b6098963-49ce-498f-a2e9-949da8772220"
      },
      "source": [
        "X_train.head()"
      ],
      "execution_count": null,
      "outputs": [
        {
          "output_type": "execute_result",
          "data": {
            "text/html": [
              "<div>\n",
              "<style scoped>\n",
              "    .dataframe tbody tr th:only-of-type {\n",
              "        vertical-align: middle;\n",
              "    }\n",
              "\n",
              "    .dataframe tbody tr th {\n",
              "        vertical-align: top;\n",
              "    }\n",
              "\n",
              "    .dataframe thead th {\n",
              "        text-align: right;\n",
              "    }\n",
              "</style>\n",
              "<table border=\"1\" class=\"dataframe\">\n",
              "  <thead>\n",
              "    <tr style=\"text-align: right;\">\n",
              "      <th></th>\n",
              "      <th>Total Time Spent</th>\n",
              "      <th>Priority</th>\n",
              "      <th>Estimated SLA in Hours</th>\n",
              "    </tr>\n",
              "  </thead>\n",
              "  <tbody>\n",
              "    <tr>\n",
              "      <th>0</th>\n",
              "      <td>0.979634</td>\n",
              "      <td>0</td>\n",
              "      <td>4.0</td>\n",
              "    </tr>\n",
              "    <tr>\n",
              "      <th>1</th>\n",
              "      <td>0.089399</td>\n",
              "      <td>1</td>\n",
              "      <td>6.0</td>\n",
              "    </tr>\n",
              "    <tr>\n",
              "      <th>2</th>\n",
              "      <td>-1.036488</td>\n",
              "      <td>0</td>\n",
              "      <td>4.0</td>\n",
              "    </tr>\n",
              "    <tr>\n",
              "      <th>3</th>\n",
              "      <td>0.904257</td>\n",
              "      <td>1</td>\n",
              "      <td>6.0</td>\n",
              "    </tr>\n",
              "    <tr>\n",
              "      <th>4</th>\n",
              "      <td>0.284863</td>\n",
              "      <td>0</td>\n",
              "      <td>4.0</td>\n",
              "    </tr>\n",
              "  </tbody>\n",
              "</table>\n",
              "</div>"
            ],
            "text/plain": [
              "   Total Time Spent  Priority  Estimated SLA in Hours\n",
              "0          0.979634         0                     4.0\n",
              "1          0.089399         1                     6.0\n",
              "2         -1.036488         0                     4.0\n",
              "3          0.904257         1                     6.0\n",
              "4          0.284863         0                     4.0"
            ]
          },
          "metadata": {},
          "execution_count": 133
        }
      ]
    },
    {
      "cell_type": "markdown",
      "metadata": {
        "id": "aumRXVt2_Qpv"
      },
      "source": [
        "### Define Decision Tree"
      ]
    },
    {
      "cell_type": "markdown",
      "metadata": {
        "id": "Q4PTOnLc_XHF"
      },
      "source": [
        "#### Here, i coosed decision tree attribute selection method as entropy"
      ]
    },
    {
      "cell_type": "code",
      "metadata": {
        "id": "10uEIsBt_Pgq"
      },
      "source": [
        "# define tree with max depth 3  \n",
        "from sklearn.tree import DecisionTreeClassifier\n",
        "clf = DecisionTreeClassifier(criterion=\"entropy\", max_depth=5)\n",
        "clf = clf.fit(X_train,y_train)"
      ],
      "execution_count": null,
      "outputs": []
    },
    {
      "cell_type": "markdown",
      "metadata": {
        "id": "rFKY6yHO__kq"
      },
      "source": [
        "### Model Evaluation"
      ]
    },
    {
      "cell_type": "markdown",
      "metadata": {
        "id": "1vfNgDpeADJD"
      },
      "source": [
        "#### Training Accuracy"
      ]
    },
    {
      "cell_type": "code",
      "metadata": {
        "colab": {
          "base_uri": "https://localhost:8080/"
        },
        "id": "clUwVxc7_6KD",
        "outputId": "fff82b48-e614-4e65-cef0-78b668ad2c89"
      },
      "source": [
        "print(\"The training accuracy is: \")\n",
        "print(accuracy_score(y_train, clf.predict(X_train)))"
      ],
      "execution_count": null,
      "outputs": [
        {
          "output_type": "stream",
          "name": "stdout",
          "text": [
            "The training accuracy is: \n",
            "1.0\n"
          ]
        }
      ]
    },
    {
      "cell_type": "markdown",
      "metadata": {
        "id": "gbQqjjZYANSM"
      },
      "source": [
        "#### Testing Accuracy"
      ]
    },
    {
      "cell_type": "code",
      "metadata": {
        "colab": {
          "base_uri": "https://localhost:8080/"
        },
        "id": "NMPEJnBkANo4",
        "outputId": "851c9a6d-e07d-4338-bf2c-de76a4ada434"
      },
      "source": [
        "print(\"The testing accuracy is: \")\n",
        "print(accuracy_score(y_test, clf.predict(X_test)))"
      ],
      "execution_count": null,
      "outputs": [
        {
          "output_type": "stream",
          "name": "stdout",
          "text": [
            "The testing accuracy is: \n",
            "1.0\n"
          ]
        }
      ]
    },
    {
      "cell_type": "markdown",
      "metadata": {
        "id": "pcrQ2pkyAYri"
      },
      "source": [
        "#### Classification Report"
      ]
    },
    {
      "cell_type": "code",
      "metadata": {
        "colab": {
          "base_uri": "https://localhost:8080/"
        },
        "id": "yo1UFMH4AqLX",
        "outputId": "98b46e37-0111-4dd4-e2b3-8d2dc07b0133"
      },
      "source": [
        "print(\"Classification report for training\")\n",
        "print(classification_report(y_train,clf.predict(X_train)))"
      ],
      "execution_count": null,
      "outputs": [
        {
          "output_type": "stream",
          "name": "stdout",
          "text": [
            "Classification report for training\n",
            "              precision    recall  f1-score   support\n",
            "\n",
            "           0       1.00      1.00      1.00      5839\n",
            "           1       1.00      1.00      1.00      7711\n",
            "\n",
            "    accuracy                           1.00     13550\n",
            "   macro avg       1.00      1.00      1.00     13550\n",
            "weighted avg       1.00      1.00      1.00     13550\n",
            "\n"
          ]
        }
      ]
    },
    {
      "cell_type": "code",
      "metadata": {
        "colab": {
          "base_uri": "https://localhost:8080/"
        },
        "id": "EZVkJMG0As-F",
        "outputId": "32ea97a5-078f-4d1a-d5d5-595ccbfc27e2"
      },
      "source": [
        "print(\"Classification report for testing\")\n",
        "print(classification_report(y_test,clf.predict(X_test)))"
      ],
      "execution_count": null,
      "outputs": [
        {
          "output_type": "stream",
          "name": "stdout",
          "text": [
            "Classification report for testing\n",
            "              precision    recall  f1-score   support\n",
            "\n",
            "           0       1.00      1.00      1.00      1467\n",
            "           1       1.00      1.00      1.00      1921\n",
            "\n",
            "    accuracy                           1.00      3388\n",
            "   macro avg       1.00      1.00      1.00      3388\n",
            "weighted avg       1.00      1.00      1.00      3388\n",
            "\n"
          ]
        }
      ]
    },
    {
      "cell_type": "markdown",
      "metadata": {
        "id": "ZcQw95cBBB71"
      },
      "source": [
        "### Confusion Matrix"
      ]
    },
    {
      "cell_type": "code",
      "metadata": {
        "colab": {
          "base_uri": "https://localhost:8080/",
          "height": 330
        },
        "id": "1JIlaRimBEtu",
        "outputId": "d40b297d-4705-4503-9b45-274a68816ed2"
      },
      "source": [
        "print('Confusion Matrix for Training')\n",
        "cnf_matrix = confusion_matrix(y_train, clf.predict(X_train))\n",
        "plt.figure(figsize = (10,10))\n",
        "fig, ax = plt.subplots(1)\n",
        "ax = sns.heatmap(cnf_matrix, ax=ax, annot=True,cmap=\"YlGnBu\")\n",
        "plt.title('Confusion matrix')\n",
        "plt.ylabel('True category')\n",
        "plt.xlabel('Predicted category')\n",
        "plt.show()   "
      ],
      "execution_count": null,
      "outputs": [
        {
          "output_type": "stream",
          "name": "stdout",
          "text": [
            "Confusion Matrix for Training\n"
          ]
        },
        {
          "output_type": "display_data",
          "data": {
            "text/plain": [
              "<Figure size 720x720 with 0 Axes>"
            ]
          },
          "metadata": {}
        },
        {
          "output_type": "display_data",
          "data": {
            "image/png": "[encoded data removed]",
            "text/plain": [
              "<Figure size 432x288 with 2 Axes>"
            ]
          },
          "metadata": {
            "needs_background": "light"
          }
        }
      ]
    },
    {
      "cell_type": "code",
      "metadata": {
        "colab": {
          "base_uri": "https://localhost:8080/",
          "height": 330
        },
        "id": "T-gilEfSBIQU",
        "outputId": "b9b6b470-d4d8-48a6-ae47-351f8276f06d"
      },
      "source": [
        "print('Confusion Matrix for Testing')\n",
        "cnf_matrix = confusion_matrix(y_test, clf.predict(X_test))\n",
        "plt.figure(figsize = (10,10))\n",
        "fig, ax = plt.subplots(1)\n",
        "ax = sns.heatmap(cnf_matrix, ax=ax, annot=True,cmap=\"YlGnBu\")\n",
        "plt.title('Confusion matrix')\n",
        "plt.ylabel('True category')\n",
        "plt.xlabel('Predicted category')\n",
        "plt.show()   "
      ],
      "execution_count": null,
      "outputs": [
        {
          "output_type": "stream",
          "name": "stdout",
          "text": [
            "Confusion Matrix for Testing\n"
          ]
        },
        {
          "output_type": "display_data",
          "data": {
            "text/plain": [
              "<Figure size 720x720 with 0 Axes>"
            ]
          },
          "metadata": {}
        },
        {
          "output_type": "display_data",
          "data": {
            "image/png": "[encoded data removed]",
            "text/plain": [
              "<Figure size 432x288 with 2 Axes>"
            ]
          },
          "metadata": {
            "needs_background": "light"
          }
        }
      ]
    },
    {
      "cell_type": "markdown",
      "metadata": {
        "id": "j6aO6hs6BN7k"
      },
      "source": [
        "### Visualizing Decision Tree"
      ]
    },
    {
      "cell_type": "code",
      "metadata": {
        "colab": {
          "base_uri": "https://localhost:8080/",
          "height": 912
        },
        "id": "t1fQ9fiEBRqZ",
        "outputId": "357de032-ef50-4e06-9a14-94e5181b5199"
      },
      "source": [
        "from sklearn.externals.six import StringIO  \n",
        "from IPython.display import Image  \n",
        "from sklearn.tree import export_graphviz\n",
        "import pydotplus\n",
        "dot_data = StringIO()\n",
        "export_graphviz(clf, out_file=dot_data,  \n",
        "                filled=True, rounded=True,\n",
        "                special_characters=True, feature_names = features,class_names=['0','1'])\n",
        "graph = pydotplus.graph_from_dot_data(dot_data.getvalue())  \n",
        "graph.write_png('decision_tree.png')\n",
        "Image(graph.create_png())"
      ],
      "execution_count": null,
      "outputs": [
        {
          "output_type": "execute_result",
          "data": {
            "image/png": "[encoded data removed]",
            "text/plain": [
              "<IPython.core.display.Image object>"
            ]
          },
          "metadata": {},
          "execution_count": 141
        }
      ]
    },
    {
      "cell_type": "code",
      "metadata": {
        "id": "X2bxJdX-CJT9"
      },
      "source": [
        "model = {\n",
        "     'Model': 'Decision Tree Classifier',\n",
        "     'Training Set Accuracy': accuracy_score(y_train, clf.predict(X_train)),\n",
        "     'Test Set Accuracy': accuracy_score(y_test, clf.predict(X_test))\n",
        "}\n",
        "\n",
        "clf_model_accuracy = pd.DataFrame(model, index=[0])"
      ],
      "execution_count": null,
      "outputs": []
    },
    {
      "cell_type": "markdown",
      "metadata": {
        "id": "TF8utSQsB-ib"
      },
      "source": [
        "## Model Summary"
      ]
    },
    {
      "cell_type": "code",
      "metadata": {
        "id": "varWlTD6BodN"
      },
      "source": [
        "df_summary = pd.DataFrame()\n",
        "df_summary = df_summary.append(logistic_model_accuracy)\n",
        "df_summary = df_summary.append(svm_model_accuracy)\n",
        "df_summary = df_summary.append(clf_model_accuracy)"
      ],
      "execution_count": null,
      "outputs": []
    },
    {
      "cell_type": "code",
      "metadata": {
        "colab": {
          "base_uri": "https://localhost:8080/",
          "height": 143
        },
        "id": "5Cl9CBFtCqwq",
        "outputId": "bc3d7ac5-adee-4be3-ca12-49c2b328c075"
      },
      "source": [
        "df_summary"
      ],
      "execution_count": null,
      "outputs": [
        {
          "output_type": "execute_result",
          "data": {
            "text/html": [
              "<div>\n",
              "<style scoped>\n",
              "    .dataframe tbody tr th:only-of-type {\n",
              "        vertical-align: middle;\n",
              "    }\n",
              "\n",
              "    .dataframe tbody tr th {\n",
              "        vertical-align: top;\n",
              "    }\n",
              "\n",
              "    .dataframe thead th {\n",
              "        text-align: right;\n",
              "    }\n",
              "</style>\n",
              "<table border=\"1\" class=\"dataframe\">\n",
              "  <thead>\n",
              "    <tr style=\"text-align: right;\">\n",
              "      <th></th>\n",
              "      <th>Model</th>\n",
              "      <th>Training Set Accuracy</th>\n",
              "      <th>Test Set Accuracy</th>\n",
              "    </tr>\n",
              "  </thead>\n",
              "  <tbody>\n",
              "    <tr>\n",
              "      <th>0</th>\n",
              "      <td>Logistic Regression</td>\n",
              "      <td>0.996827</td>\n",
              "      <td>0.995868</td>\n",
              "    </tr>\n",
              "    <tr>\n",
              "      <th>0</th>\n",
              "      <td>Support Vector Machine</td>\n",
              "      <td>0.989225</td>\n",
              "      <td>0.987603</td>\n",
              "    </tr>\n",
              "    <tr>\n",
              "      <th>0</th>\n",
              "      <td>Decision Tree Classifier</td>\n",
              "      <td>1.000000</td>\n",
              "      <td>1.000000</td>\n",
              "    </tr>\n",
              "  </tbody>\n",
              "</table>\n",
              "</div>"
            ],
            "text/plain": [
              "                      Model  Training Set Accuracy  Test Set Accuracy\n",
              "0       Logistic Regression               0.996827           0.995868\n",
              "0    Support Vector Machine               0.989225           0.987603\n",
              "0  Decision Tree Classifier               1.000000           1.000000"
            ]
          },
          "metadata": {},
          "execution_count": 144
        }
      ]
    },
    {
      "cell_type": "code",
      "metadata": {
        "id": "oVygBJVsIiih"
      },
      "source": [
        "from sklearn.ensemble import BaggingClassifier, BaggingRegressor\n",
        "from sklearn.ensemble import RandomForestClassifier,RandomForestRegressor,ExtraTreesClassifier,ExtraTreesRegressor\n",
        "from sklearn.ensemble import AdaBoostClassifier, AdaBoostRegressor, GradientBoostingClassifier, GradientBoostingRegressor\n",
        "from xgboost import XGBRegressor,XGBClassifier"
      ],
      "execution_count": null,
      "outputs": []
    },
    {
      "cell_type": "code",
      "metadata": {
        "colab": {
          "base_uri": "https://localhost:8080/"
        },
        "id": "DUI_xWdOIYAn",
        "outputId": "e129931e-b708-4715-9e56-d6a165f1f599"
      },
      "source": [
        "gradcl = GradientBoostingClassifier()\n",
        "gradcl.fit(X_train, y_train)"
      ],
      "execution_count": null,
      "outputs": [
        {
          "output_type": "execute_result",
          "data": {
            "text/plain": [
              "GradientBoostingClassifier(ccp_alpha=0.0, criterion='friedman_mse', init=None,\n",
              "                           learning_rate=0.1, loss='deviance', max_depth=3,\n",
              "                           max_features=None, max_leaf_nodes=None,\n",
              "                           min_impurity_decrease=0.0, min_impurity_split=None,\n",
              "                           min_samples_leaf=1, min_samples_split=2,\n",
              "                           min_weight_fraction_leaf=0.0, n_estimators=100,\n",
              "                           n_iter_no_change=None, presort='deprecated',\n",
              "                           random_state=None, subsample=1.0, tol=0.0001,\n",
              "                           validation_fraction=0.1, verbose=0,\n",
              "                           warm_start=False)"
            ]
          },
          "metadata": {},
          "execution_count": 146
        }
      ]
    },
    {
      "cell_type": "code",
      "metadata": {
        "colab": {
          "base_uri": "https://localhost:8080/",
          "height": 330
        },
        "id": "kcASKxzKIavT",
        "outputId": "877d030c-d191-4218-acf1-8bf9b5c030ef"
      },
      "source": [
        "print('Confusion Matrix for Training')\n",
        "cnf_matrix = confusion_matrix(y_train, gradcl.predict(X_train))\n",
        "plt.figure(figsize = (10,10))\n",
        "fig, ax = plt.subplots(1)\n",
        "ax = sns.heatmap(cnf_matrix, ax=ax, annot=True,cmap=\"YlGnBu\")\n",
        "plt.title('Confusion matrix')\n",
        "plt.ylabel('True category')\n",
        "plt.xlabel('Predicted category')\n",
        "plt.show()   "
      ],
      "execution_count": null,
      "outputs": [
        {
          "output_type": "stream",
          "name": "stdout",
          "text": [
            "Confusion Matrix for Training\n"
          ]
        },
        {
          "output_type": "display_data",
          "data": {
            "text/plain": [
              "<Figure size 720x720 with 0 Axes>"
            ]
          },
          "metadata": {}
        },
        {
          "output_type": "display_data",
          "data": {
            "image/png": "[encoded data removed]",
            "text/plain": [
              "<Figure size 432x288 with 2 Axes>"
            ]
          },
          "metadata": {
            "needs_background": "light"
          }
        }
      ]
    },
    {
      "cell_type": "code",
      "metadata": {
        "colab": {
          "base_uri": "https://localhost:8080/",
          "height": 330
        },
        "id": "YT7iuqmcItUI",
        "outputId": "3b78bfcb-b001-431a-c30a-7adaeca56f3a"
      },
      "source": [
        "print('Confusion Matrix for Training')\n",
        "cnf_matrix = confusion_matrix(y_test, gradcl.predict(X_test))\n",
        "plt.figure(figsize = (10,10))\n",
        "fig, ax = plt.subplots(1)\n",
        "ax = sns.heatmap(cnf_matrix, ax=ax, annot=True,cmap=\"YlGnBu\")\n",
        "plt.title('Confusion matrix')\n",
        "plt.ylabel('True category')\n",
        "plt.xlabel('Predicted category')\n",
        "plt.show()   "
      ],
      "execution_count": null,
      "outputs": [
        {
          "output_type": "stream",
          "name": "stdout",
          "text": [
            "Confusion Matrix for Training\n"
          ]
        },
        {
          "output_type": "display_data",
          "data": {
            "text/plain": [
              "<Figure size 720x720 with 0 Axes>"
            ]
          },
          "metadata": {}
        },
        {
          "output_type": "display_data",
          "data": {
            "image/png": "[encoded data removed]",
            "text/plain": [
              "<Figure size 432x288 with 2 Axes>"
            ]
          },
          "metadata": {
            "needs_background": "light"
          }
        }
      ]
    }
  ]
}